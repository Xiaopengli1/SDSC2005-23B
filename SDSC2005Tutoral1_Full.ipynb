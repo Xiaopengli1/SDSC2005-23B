{
  "nbformat": 4,
  "nbformat_minor": 0,
  "metadata": {
    "colab": {
      "provenance": [],
      "toc_visible": true,
      "authorship_tag": "ABX9TyPRILwNYmTh26ioj4kw8pdM",
      "include_colab_link": true
    },
    "kernelspec": {
      "name": "python3",
      "display_name": "Python 3"
    },
    "language_info": {
      "name": "python"
    }
  },
  "cells": [
    {
      "cell_type": "markdown",
      "metadata": {
        "id": "view-in-github",
        "colab_type": "text"
      },
      "source": [
        "<a href=\"https://colab.research.google.com/github/Xiaopengli1/SDSC2005-23B/blob/main/SDSC2005Tutoral1_Full.ipynb\" target=\"_parent\"><img src=\"https://colab.research.google.com/assets/colab-badge.svg\" alt=\"Open In Colab\"/></a>"
      ]
    },
    {
      "cell_type": "markdown",
      "source": [
        "# Section1: Python Fundamentals"
      ],
      "metadata": {
        "id": "i9lXThAf74tj"
      }
    },
    {
      "cell_type": "markdown",
      "source": [
        "## 1 Python Data Structures"
      ],
      "metadata": {
        "id": "Lq-CSJM2Yf1Y"
      }
    },
    {
      "cell_type": "markdown",
      "source": [
        "### 1.1 DataTypes"
      ],
      "metadata": {
        "id": "A3xD2swuh6EA"
      }
    },
    {
      "cell_type": "markdown",
      "source": [
        "The main basic data types in python are numbers (ints and floats), booleans and strings."
      ],
      "metadata": {
        "id": "QWAAJiKTiFN8"
      }
    },
    {
      "cell_type": "markdown",
      "source": [
        "1. number"
      ],
      "metadata": {
        "id": "D-58N-yJSFMY"
      }
    },
    {
      "cell_type": "code",
      "source": [
        "a = 123\n",
        "print(type(a))"
      ],
      "metadata": {
        "colab": {
          "base_uri": "https://localhost:8080/"
        },
        "id": "Nkv2D3Y_h_0g",
        "outputId": "1c011785-ec86-4f1f-b273-3d5a411fdaf9"
      },
      "execution_count": null,
      "outputs": [
        {
          "output_type": "stream",
          "name": "stdout",
          "text": [
            "<class 'int'>\n"
          ]
        }
      ]
    },
    {
      "cell_type": "code",
      "source": [
        "b = 1.23\n",
        "print(type(b))"
      ],
      "metadata": {
        "colab": {
          "base_uri": "https://localhost:8080/"
        },
        "id": "34En2bbjSHrO",
        "outputId": "fc098095-bd8c-42a0-a67c-f3ba02e9bb1e"
      },
      "execution_count": null,
      "outputs": [
        {
          "output_type": "stream",
          "name": "stdout",
          "text": [
            "<class 'float'>\n"
          ]
        }
      ]
    },
    {
      "cell_type": "markdown",
      "source": [
        "2. Boolean"
      ],
      "metadata": {
        "id": "Sy8O4PT9SMXQ"
      }
    },
    {
      "cell_type": "code",
      "source": [
        "c = True\n",
        "print(type(c))"
      ],
      "metadata": {
        "colab": {
          "base_uri": "https://localhost:8080/"
        },
        "id": "j8BEGhv_SZcm",
        "outputId": "2e497599-f1b0-47c2-954e-2b4cf58a236e"
      },
      "execution_count": null,
      "outputs": [
        {
          "output_type": "stream",
          "name": "stdout",
          "text": [
            "<class 'bool'>\n"
          ]
        }
      ]
    },
    {
      "cell_type": "markdown",
      "source": [
        "3. String"
      ],
      "metadata": {
        "id": "Pl3CucgFSeVb"
      }
    },
    {
      "cell_type": "code",
      "source": [
        "d = \"test\"\n",
        "print(type(d))"
      ],
      "metadata": {
        "colab": {
          "base_uri": "https://localhost:8080/"
        },
        "id": "udFr2d5BSj4N",
        "outputId": "64c017c9-8995-4d58-d454-e96c20246ebd"
      },
      "execution_count": null,
      "outputs": [
        {
          "output_type": "stream",
          "name": "stdout",
          "text": [
            "<class 'str'>\n"
          ]
        }
      ]
    },
    {
      "cell_type": "markdown",
      "source": [
        "### 1.2 Data Structures"
      ],
      "metadata": {
        "id": "Mm9rDAvaTMKr"
      }
    },
    {
      "cell_type": "markdown",
      "source": [
        " Data structures are a way of organizing data so that it can be accessed more efficiently depending upon the situation. We will discuss four in-built data structures for python. Lists, tuples, set and dictionaries."
      ],
      "metadata": {
        "id": "IJj_Eff3TP-e"
      }
    },
    {
      "cell_type": "markdown",
      "source": [
        "1. List\n",
        "\n",
        "Python Lists are just like the arrays, declared in other languages which is an ordered collection of data. It is very flexible as the items in a list do not need to be of the same type."
      ],
      "metadata": {
        "id": "C7LiiN7CTqGH"
      }
    },
    {
      "cell_type": "code",
      "source": [
        "List = [1, 2,  3, \"GFG\", 2.3]\n",
        "print(List)"
      ],
      "metadata": {
        "colab": {
          "base_uri": "https://localhost:8080/"
        },
        "id": "Z81Jwp6oTPj2",
        "outputId": "db71d49b-3e01-4108-950d-e2aba6fee86e"
      },
      "execution_count": null,
      "outputs": [
        {
          "output_type": "stream",
          "name": "stdout",
          "text": [
            "[1, 2, 3, 'GFG', 2.3]\n"
          ]
        }
      ]
    },
    {
      "cell_type": "code",
      "source": [
        "List = List+[\"4\"]"
      ],
      "metadata": {
        "id": "UDgzmSsXVq__",
        "outputId": "eb21bb26-94c7-4425-f40a-bdfad4283801",
        "colab": {
          "base_uri": "https://localhost:8080/"
        }
      },
      "execution_count": null,
      "outputs": [
        {
          "output_type": "error",
          "ename": "NameError",
          "evalue": "name 'List' is not defined",
          "traceback": [
            "\u001b[0;31m---------------------------------------------------------------------------\u001b[0m",
            "\u001b[0;31mNameError\u001b[0m                                 Traceback (most recent call last)",
            "\u001b[0;32m<ipython-input-5-21dd0c771ff5>\u001b[0m in \u001b[0;36m<cell line: 1>\u001b[0;34m()\u001b[0m\n\u001b[0;32m----> 1\u001b[0;31m \u001b[0mList\u001b[0m \u001b[0;34m=\u001b[0m \u001b[0mList\u001b[0m\u001b[0;34m+\u001b[0m\u001b[0;34m[\u001b[0m\u001b[0;34m\"4\"\u001b[0m\u001b[0;34m]\u001b[0m\u001b[0;34m\u001b[0m\u001b[0;34m\u001b[0m\u001b[0m\n\u001b[0m",
            "\u001b[0;31mNameError\u001b[0m: name 'List' is not defined"
          ]
        }
      ]
    },
    {
      "cell_type": "code",
      "source": [
        "List.pop(-1)"
      ],
      "metadata": {
        "colab": {
          "base_uri": "https://localhost:8080/",
          "height": 35
        },
        "id": "xB-dM4npV21A",
        "outputId": "064429e7-b02b-46fa-ed7a-2a5700f49d8e"
      },
      "execution_count": null,
      "outputs": [
        {
          "output_type": "execute_result",
          "data": {
            "text/plain": [
              "'4'"
            ],
            "application/vnd.google.colaboratory.intrinsic+json": {
              "type": "string"
            }
          },
          "metadata": {},
          "execution_count": 26
        }
      ]
    },
    {
      "cell_type": "code",
      "source": [
        "List"
      ],
      "metadata": {
        "colab": {
          "base_uri": "https://localhost:8080/"
        },
        "id": "BbjgNg6YV5ec",
        "outputId": "4f6e9877-0835-41da-ad8a-4658f5dcecbc"
      },
      "execution_count": null,
      "outputs": [
        {
          "output_type": "execute_result",
          "data": {
            "text/plain": [
              "[1, 2, 3, 'GFG']"
            ]
          },
          "metadata": {},
          "execution_count": 27
        }
      ]
    },
    {
      "cell_type": "markdown",
      "source": [
        "2. Dictionary\n",
        "\n",
        "Python dictionary is like hash tables in any other language with the time complexity of O(1). It is an unordered collection of data values, used to store data values like a map, which, unlike other Data Types that hold only a single value as an element, Dictionary holds the key:value pair. Key-value is provided in the dictionary to make it more optimized.\n",
        "\n",
        "Indexing of Python Dictionary is done with the help of keys. These are of any hashable type i.e. an object whose can never change like strings, numbers, tuples, etc. We can create a dictionary by using curly braces ({}) or dictionary comprehension."
      ],
      "metadata": {
        "id": "OKhefDB0UhIw"
      }
    },
    {
      "cell_type": "code",
      "source": [
        "# Creating a Dictionary\n",
        "Dict = {'Name': 'Geeks',\n",
        "        1: [1, 2, 3, 4]}\n",
        "print(\"Creating Dictionary: \")\n",
        "print(Dict)"
      ],
      "metadata": {
        "colab": {
          "base_uri": "https://localhost:8080/"
        },
        "id": "R7Yg71NCUpHZ",
        "outputId": "9ed93244-c8c8-4aa7-8c61-7c6385ce67f0"
      },
      "execution_count": null,
      "outputs": [
        {
          "output_type": "stream",
          "name": "stdout",
          "text": [
            "Creating Dictionary: \n",
            "{'Name': 'Geeks', 1: [1, 2, 3, 4]}\n"
          ]
        }
      ]
    },
    {
      "cell_type": "code",
      "source": [
        "# accessing a element using key\n",
        "print(\"Accessing a element using key:\")\n",
        "print(Dict['Name'])"
      ],
      "metadata": {
        "colab": {
          "base_uri": "https://localhost:8080/"
        },
        "id": "4Mu20xnBU5WJ",
        "outputId": "48c3a798-b17e-4f5e-9cac-68762c760ca0"
      },
      "execution_count": null,
      "outputs": [
        {
          "output_type": "stream",
          "name": "stdout",
          "text": [
            "Accessing a element using key:\n",
            "Geeks\n"
          ]
        }
      ]
    },
    {
      "cell_type": "code",
      "source": [
        "# accessing a element using get()\n",
        "# method\n",
        "print(\"Accessing a element using get:\")\n",
        "print(Dict.get(1))\n"
      ],
      "metadata": {
        "colab": {
          "base_uri": "https://localhost:8080/"
        },
        "id": "KuzTZHWBU8rO",
        "outputId": "31c41430-f80d-4d77-a769-3627a2e7af8c"
      },
      "execution_count": null,
      "outputs": [
        {
          "output_type": "stream",
          "name": "stdout",
          "text": [
            "Accessing a element using get:\n",
            "[1, 2, 3, 4]\n"
          ]
        }
      ]
    },
    {
      "cell_type": "code",
      "source": [
        "# creation using Dictionary comprehension\n",
        "myDict = {x: x**2 for x in [1,2,3,4,5]}\n",
        "print(myDict)"
      ],
      "metadata": {
        "colab": {
          "base_uri": "https://localhost:8080/"
        },
        "id": "Ikc2ocPLU_X4",
        "outputId": "09659391-05d8-443e-d005-dce6ec6b8d61"
      },
      "execution_count": null,
      "outputs": [
        {
          "output_type": "stream",
          "name": "stdout",
          "text": [
            "{1: 1, 2: 4, 3: 9, 4: 16, 5: 25}\n"
          ]
        }
      ]
    },
    {
      "cell_type": "markdown",
      "source": [
        "3. Tuple\n",
        "\n",
        "Python Tuple is a collection of Python objects much like a list but Tuples are immutable in nature i.e. the elements in the tuple cannot be added or removed once created. Just like a List, a Tuple can also contain elements of various types.\n",
        "\n",
        "In Python, tuples are created by placing a sequence of values separated by ‘comma’ with or without the use of parentheses for grouping of the data sequence.\n",
        "\n",
        "Note: Tuples can also be created with a single element, but it is a bit tricky. Having one element in the parentheses is not sufficient, there must be a trailing ‘comma’ to make it a tuple."
      ],
      "metadata": {
        "id": "BeNw5fceVbGg"
      }
    },
    {
      "cell_type": "code",
      "source": [
        "# Creating a Tuple with\n",
        "# the use of Strings\n",
        "Tuple = ('Geeks', 'For')\n",
        "print(\"\\nTuple with the use of String: \")\n",
        "print(Tuple)"
      ],
      "metadata": {
        "colab": {
          "base_uri": "https://localhost:8080/"
        },
        "id": "WPbqrTZVWJkA",
        "outputId": "e0183462-748a-436f-a38a-0649e10c3cb1"
      },
      "execution_count": null,
      "outputs": [
        {
          "output_type": "stream",
          "name": "stdout",
          "text": [
            "\n",
            "Tuple with the use of String: \n",
            "('Geeks', 'For')\n"
          ]
        }
      ]
    },
    {
      "cell_type": "code",
      "source": [
        "# Creating a Tuple with\n",
        "# the use of list\n",
        "list1 = [1, 2, 4, 5, 6]\n",
        "print(\"\\nTuple using List: \")\n",
        "Tuple = tuple(list1)"
      ],
      "metadata": {
        "colab": {
          "base_uri": "https://localhost:8080/"
        },
        "id": "H5yaHhieWMp2",
        "outputId": "71289222-d7f2-4879-c862-dda6f3cc6329"
      },
      "execution_count": null,
      "outputs": [
        {
          "output_type": "stream",
          "name": "stdout",
          "text": [
            "\n",
            "Tuple using List: \n"
          ]
        }
      ]
    },
    {
      "cell_type": "code",
      "source": [
        "# Accessing element using indexing\n",
        "print(\"First element of tuple\")\n",
        "print(Tuple[0])\n",
        "\n",
        "# Accessing element from last\n",
        "# negative indexing\n",
        "print(\"\\nLast element of tuple\")\n",
        "print(Tuple[-1])\n",
        "\n",
        "print(\"\\nThird last element of tuple\")\n",
        "print(Tuple[-3])"
      ],
      "metadata": {
        "colab": {
          "base_uri": "https://localhost:8080/"
        },
        "id": "3AqnZsgUWzAU",
        "outputId": "89640ba1-ff34-4161-c2c6-bd3fc30aa8f2"
      },
      "execution_count": null,
      "outputs": [
        {
          "output_type": "stream",
          "name": "stdout",
          "text": [
            "First element of tuple\n",
            "1\n",
            "\n",
            "Last element of tuple\n",
            "6\n",
            "\n",
            "Third last element of tuple\n",
            "4\n"
          ]
        }
      ]
    },
    {
      "cell_type": "markdown",
      "source": [
        "4. Set\n",
        "\n",
        "Python Set is an unordered collection of data that is mutable and does not allow any duplicate element. Sets are basically used to include membership testing and eliminating duplicate entries. The data structure used in this is Hashing, a popular technique to perform insertion, deletion, and traversal in O(1) on average."
      ],
      "metadata": {
        "id": "3oIxuN9XW5ha"
      }
    },
    {
      "cell_type": "code",
      "source": [
        "# Creating a Set with\n",
        "# a mixed type of values\n",
        "# (Having numbers and strings)\n",
        "Set = set([1, 2, 'Geeks', 4, 'For', 6, 'Geeks'])\n",
        "print(\"\\nSet with the use of Mixed Values\")\n",
        "print(Set)\n"
      ],
      "metadata": {
        "colab": {
          "base_uri": "https://localhost:8080/"
        },
        "id": "EVnMmr8tX1CA",
        "outputId": "7ebe5db4-da50-4adf-f991-555b1419dcca"
      },
      "execution_count": null,
      "outputs": [
        {
          "output_type": "stream",
          "name": "stdout",
          "text": [
            "\n",
            "Set with the use of Mixed Values\n",
            "{1, 2, 4, 6, 'Geeks', 'For'}\n"
          ]
        }
      ]
    },
    {
      "cell_type": "code",
      "source": [
        "# Accessing element using\n",
        "# for loop\n",
        "print(\"\\nElements of set: \")\n",
        "for i in Set:\n",
        "    print(i, end =\" \")\n",
        "print()\n",
        "\n",
        "# Checking the element\n",
        "# using in keyword\n",
        "print(\"Geeks\" in Set)"
      ],
      "metadata": {
        "colab": {
          "base_uri": "https://localhost:8080/"
        },
        "id": "2eRXDXlDX4xS",
        "outputId": "ba4f4fae-c70c-48aa-a7f6-b11b0f6dc3d1"
      },
      "execution_count": null,
      "outputs": [
        {
          "output_type": "stream",
          "name": "stdout",
          "text": [
            "\n",
            "Elements of set: \n",
            "1 2 4 6 Geeks For \n",
            "True\n"
          ]
        }
      ]
    },
    {
      "cell_type": "code",
      "source": [
        "Set.add(1)\n",
        "Set"
      ],
      "metadata": {
        "colab": {
          "base_uri": "https://localhost:8080/"
        },
        "id": "ClI4Y5meYAgJ",
        "outputId": "2f51ded3-de16-45d6-c24b-3ec1d901e77e"
      },
      "execution_count": null,
      "outputs": [
        {
          "output_type": "execute_result",
          "data": {
            "text/plain": [
              "{1, 2, 4, 6, 'For', 'Geeks'}"
            ]
          },
          "metadata": {},
          "execution_count": 45
        }
      ]
    },
    {
      "cell_type": "code",
      "source": [
        "Set.add(5)\n",
        "Set"
      ],
      "metadata": {
        "colab": {
          "base_uri": "https://localhost:8080/"
        },
        "id": "6akZmiKhYCgx",
        "outputId": "b898bf99-d8d4-4ad4-cc57-d32bac31440a"
      },
      "execution_count": null,
      "outputs": [
        {
          "output_type": "execute_result",
          "data": {
            "text/plain": [
              "{1, 2, 4, 5, 6, 'For', 'Geeks'}"
            ]
          },
          "metadata": {},
          "execution_count": 46
        }
      ]
    },
    {
      "cell_type": "markdown",
      "source": [
        "## 2 Variables and Assignment Statements"
      ],
      "metadata": {
        "id": "bq5xuFtuvLaR"
      }
    },
    {
      "cell_type": "code",
      "source": [
        "45 + 72"
      ],
      "metadata": {
        "colab": {
          "base_uri": "https://localhost:8080/"
        },
        "id": "iPFv4vsbYTy_",
        "outputId": "b94e3c61-fc2a-473b-d5f3-ec5659b8ef2f"
      },
      "execution_count": null,
      "outputs": [
        {
          "output_type": "execute_result",
          "data": {
            "text/plain": [
              "117"
            ]
          },
          "metadata": {},
          "execution_count": 1
        }
      ]
    },
    {
      "cell_type": "code",
      "source": [
        "x = 7"
      ],
      "metadata": {
        "id": "190DURg2YaM-"
      },
      "execution_count": null,
      "outputs": []
    },
    {
      "cell_type": "code",
      "source": [
        "y = 3"
      ],
      "metadata": {
        "id": "hQ214R7WYeP0"
      },
      "execution_count": null,
      "outputs": []
    },
    {
      "cell_type": "markdown",
      "source": [
        "Let's add variable values and view the result"
      ],
      "metadata": {
        "id": "zDC_-couYTKR"
      }
    },
    {
      "cell_type": "code",
      "source": [
        "x + y"
      ],
      "metadata": {
        "colab": {
          "base_uri": "https://localhost:8080/"
        },
        "id": "kXXkPsd1YpVS",
        "outputId": "6e871fec-7ee2-4e8e-cd7b-357e166f2b99"
      },
      "execution_count": null,
      "outputs": [
        {
          "output_type": "execute_result",
          "data": {
            "text/plain": [
              "10"
            ]
          },
          "metadata": {},
          "execution_count": 5
        }
      ]
    },
    {
      "cell_type": "markdown",
      "source": [
        "Calculations in Assignment Statements"
      ],
      "metadata": {
        "id": "KF9pFRYdYvNe"
      }
    },
    {
      "cell_type": "code",
      "source": [
        "total = x + y\n",
        "total"
      ],
      "metadata": {
        "colab": {
          "base_uri": "https://localhost:8080/"
        },
        "id": "RSAogJSzYv5R",
        "outputId": "22e67295-5970-4c25-e058-4433eedced1e"
      },
      "execution_count": null,
      "outputs": [
        {
          "output_type": "execute_result",
          "data": {
            "text/plain": [
              "10"
            ]
          },
          "metadata": {},
          "execution_count": 6
        }
      ]
    },
    {
      "cell_type": "markdown",
      "source": [],
      "metadata": {
        "id": "f2PUWmdXvOU5"
      }
    },
    {
      "cell_type": "markdown",
      "source": [
        "## 3 Arithmetic\n"
      ],
      "metadata": {
        "id": "X9Xaz2ddY5qF"
      }
    },
    {
      "cell_type": "markdown",
      "source": [
        "Multiplication (`*`)"
      ],
      "metadata": {
        "id": "BMHMkxjGZE0F"
      }
    },
    {
      "cell_type": "code",
      "source": [
        "7 * 4"
      ],
      "metadata": {
        "id": "1WlTY-Yf8GgR",
        "colab": {
          "base_uri": "https://localhost:8080/"
        },
        "outputId": "ce35c941-9f9e-4737-8ead-219f7a0abdb7"
      },
      "execution_count": null,
      "outputs": [
        {
          "output_type": "execute_result",
          "data": {
            "text/plain": [
              "28"
            ]
          },
          "metadata": {},
          "execution_count": 8
        }
      ]
    },
    {
      "cell_type": "markdown",
      "source": [
        "Exponentiation (`**`)"
      ],
      "metadata": {
        "id": "Gfu96qxCZJJV"
      }
    },
    {
      "cell_type": "code",
      "source": [
        "2 ** 3"
      ],
      "metadata": {
        "colab": {
          "base_uri": "https://localhost:8080/"
        },
        "id": "PLILbBFMZO9j",
        "outputId": "8ab28082-e30f-4df9-ae7e-04e153fd5e21"
      },
      "execution_count": null,
      "outputs": [
        {
          "output_type": "execute_result",
          "data": {
            "text/plain": [
              "8"
            ]
          },
          "metadata": {},
          "execution_count": 9
        }
      ]
    },
    {
      "cell_type": "code",
      "source": [
        "2* 2*2"
      ],
      "metadata": {
        "colab": {
          "base_uri": "https://localhost:8080/"
        },
        "id": "PSzO4SIUZWIV",
        "outputId": "958d10e9-0de9-46d1-a74e-5db54eac1e2b"
      },
      "execution_count": null,
      "outputs": [
        {
          "output_type": "execute_result",
          "data": {
            "text/plain": [
              "8"
            ]
          },
          "metadata": {},
          "execution_count": 10
        }
      ]
    },
    {
      "cell_type": "code",
      "source": [
        "99 ** (1 / 2)"
      ],
      "metadata": {
        "colab": {
          "base_uri": "https://localhost:8080/"
        },
        "id": "5Oqv3QB_Zas9",
        "outputId": "dbe3114c-919f-4581-8916-f0951cab1174"
      },
      "execution_count": null,
      "outputs": [
        {
          "output_type": "execute_result",
          "data": {
            "text/plain": [
              "9.9498743710662"
            ]
          },
          "metadata": {},
          "execution_count": 8
        }
      ]
    },
    {
      "cell_type": "code",
      "source": [
        "import math"
      ],
      "metadata": {
        "id": "-t81i5jQTXP0"
      },
      "execution_count": null,
      "outputs": []
    },
    {
      "cell_type": "code",
      "source": [
        "math.sqrt(9)"
      ],
      "metadata": {
        "id": "d8-MZ0BkTZ83",
        "outputId": "69f9efcf-5af2-4386-fed1-c77f45a527fe",
        "colab": {
          "base_uri": "https://localhost:8080/"
        }
      },
      "execution_count": null,
      "outputs": [
        {
          "output_type": "execute_result",
          "data": {
            "text/plain": [
              "3.0"
            ]
          },
          "metadata": {},
          "execution_count": 7
        }
      ]
    },
    {
      "cell_type": "markdown",
      "source": [
        "True Division (`/`) vs. Floor Division (`//`)"
      ],
      "metadata": {
        "id": "ejJg3PRmZXgy"
      }
    },
    {
      "cell_type": "code",
      "source": [
        "7 / 4"
      ],
      "metadata": {
        "colab": {
          "base_uri": "https://localhost:8080/"
        },
        "id": "FCovgKG8ZeP1",
        "outputId": "ffdef0fe-1c3a-4bea-ea10-2764eff2194d"
      },
      "execution_count": null,
      "outputs": [
        {
          "output_type": "execute_result",
          "data": {
            "text/plain": [
              "1.75"
            ]
          },
          "metadata": {},
          "execution_count": 12
        }
      ]
    },
    {
      "cell_type": "code",
      "source": [
        "7 // 4"
      ],
      "metadata": {
        "colab": {
          "base_uri": "https://localhost:8080/"
        },
        "id": "Hnea9CZQZj29",
        "outputId": "97bdb060-5539-4163-a189-4d6fd63334b8"
      },
      "execution_count": null,
      "outputs": [
        {
          "output_type": "execute_result",
          "data": {
            "text/plain": [
              "1"
            ]
          },
          "metadata": {},
          "execution_count": 13
        }
      ]
    },
    {
      "cell_type": "code",
      "source": [
        "3 / 5"
      ],
      "metadata": {
        "id": "QjEbTDGBUD_h",
        "outputId": "ab2b1823-420a-4d51-c0eb-7fd0ef068642",
        "colab": {
          "base_uri": "https://localhost:8080/"
        }
      },
      "execution_count": null,
      "outputs": [
        {
          "output_type": "execute_result",
          "data": {
            "text/plain": [
              "0.6"
            ]
          },
          "metadata": {},
          "execution_count": 9
        }
      ]
    },
    {
      "cell_type": "code",
      "source": [
        "3 // 5"
      ],
      "metadata": {
        "colab": {
          "base_uri": "https://localhost:8080/"
        },
        "id": "9r1Ipl-vZmsI",
        "outputId": "d3cf9a86-315c-4a81-9433-ad9b297b4d64"
      },
      "execution_count": null,
      "outputs": [
        {
          "output_type": "execute_result",
          "data": {
            "text/plain": [
              "0"
            ]
          },
          "metadata": {},
          "execution_count": 14
        }
      ]
    },
    {
      "cell_type": "code",
      "source": [
        "14 // 7"
      ],
      "metadata": {
        "colab": {
          "base_uri": "https://localhost:8080/"
        },
        "id": "ZbLjOJvSZpry",
        "outputId": "6bf2641d-8f99-4ce7-8145-4a66e56cb14b"
      },
      "execution_count": null,
      "outputs": [
        {
          "output_type": "execute_result",
          "data": {
            "text/plain": [
              "2"
            ]
          },
          "metadata": {},
          "execution_count": 15
        }
      ]
    },
    {
      "cell_type": "code",
      "source": [
        "-13 / 4"
      ],
      "metadata": {
        "colab": {
          "base_uri": "https://localhost:8080/"
        },
        "id": "AQbC-XiXZrm7",
        "outputId": "6c2f4da6-1ca6-4dac-eacf-89a682d2a5c1"
      },
      "execution_count": null,
      "outputs": [
        {
          "output_type": "execute_result",
          "data": {
            "text/plain": [
              "-3.25"
            ]
          },
          "metadata": {},
          "execution_count": 16
        }
      ]
    },
    {
      "cell_type": "code",
      "source": [
        "-13 // 4"
      ],
      "metadata": {
        "colab": {
          "base_uri": "https://localhost:8080/"
        },
        "id": "UKGTiGYLZuW1",
        "outputId": "347328ed-d53b-4917-d2f1-f8f7d87cb3f4"
      },
      "execution_count": null,
      "outputs": [
        {
          "output_type": "execute_result",
          "data": {
            "text/plain": [
              "-4"
            ]
          },
          "metadata": {},
          "execution_count": 17
        }
      ]
    },
    {
      "cell_type": "markdown",
      "source": [
        "Exceptions and Tracebacks"
      ],
      "metadata": {
        "id": "_eXiAr7IZSGO"
      }
    },
    {
      "cell_type": "code",
      "source": [
        "123 / 0"
      ],
      "metadata": {
        "colab": {
          "base_uri": "https://localhost:8080/",
          "height": 144
        },
        "id": "dY1Zteu3Z155",
        "outputId": "05f52027-e857-4034-a53e-710116b8f0ec"
      },
      "execution_count": null,
      "outputs": [
        {
          "output_type": "error",
          "ename": "ZeroDivisionError",
          "evalue": "division by zero",
          "traceback": [
            "\u001b[0;31m---------------------------------------------------------------------------\u001b[0m",
            "\u001b[0;31mZeroDivisionError\u001b[0m                         Traceback (most recent call last)",
            "\u001b[0;32m<ipython-input-10-76e1a9ab9410>\u001b[0m in \u001b[0;36m<cell line: 1>\u001b[0;34m()\u001b[0m\n\u001b[0;32m----> 1\u001b[0;31m \u001b[0;36m123\u001b[0m \u001b[0;34m/\u001b[0m \u001b[0;36m0\u001b[0m\u001b[0;34m\u001b[0m\u001b[0;34m\u001b[0m\u001b[0m\n\u001b[0m",
            "\u001b[0;31mZeroDivisionError\u001b[0m: division by zero"
          ]
        }
      ]
    },
    {
      "cell_type": "code",
      "source": [
        "z + 7"
      ],
      "metadata": {
        "colab": {
          "base_uri": "https://localhost:8080/",
          "height": 144
        },
        "id": "3on4sXfSZ52B",
        "outputId": "a03d92e7-08b0-4475-9d76-ada9445a90a2"
      },
      "execution_count": null,
      "outputs": [
        {
          "output_type": "error",
          "ename": "NameError",
          "evalue": "name 'z' is not defined",
          "traceback": [
            "\u001b[0;31m---------------------------------------------------------------------------\u001b[0m",
            "\u001b[0;31mNameError\u001b[0m                                 Traceback (most recent call last)",
            "\u001b[0;32m<ipython-input-11-2ca5f6c7aca2>\u001b[0m in \u001b[0;36m<cell line: 1>\u001b[0;34m()\u001b[0m\n\u001b[0;32m----> 1\u001b[0;31m \u001b[0mz\u001b[0m \u001b[0;34m+\u001b[0m \u001b[0;36m7\u001b[0m\u001b[0;34m\u001b[0m\u001b[0;34m\u001b[0m\u001b[0m\n\u001b[0m",
            "\u001b[0;31mNameError\u001b[0m: name 'z' is not defined"
          ]
        }
      ]
    },
    {
      "cell_type": "markdown",
      "source": [
        "Remainder Operator"
      ],
      "metadata": {
        "id": "qTarqhwbZ9T5"
      }
    },
    {
      "cell_type": "code",
      "source": [
        "# 17 = 3 * 5 + 2\n",
        "17 % 5"
      ],
      "metadata": {
        "colab": {
          "base_uri": "https://localhost:8080/"
        },
        "id": "z2INrqyUaBNY",
        "outputId": "c3e33383-2f6b-4359-f690-931cf7885cf6"
      },
      "execution_count": null,
      "outputs": [
        {
          "output_type": "execute_result",
          "data": {
            "text/plain": [
              "2"
            ]
          },
          "metadata": {},
          "execution_count": 23
        }
      ]
    },
    {
      "cell_type": "code",
      "source": [
        "# 7.5 = 2*3.5 + 0.5\n",
        "7.5 % 3.5"
      ],
      "metadata": {
        "colab": {
          "base_uri": "https://localhost:8080/"
        },
        "id": "IxAEURXiaQec",
        "outputId": "970dd6a3-5d09-4d46-b40b-92587528eefb"
      },
      "execution_count": null,
      "outputs": [
        {
          "output_type": "execute_result",
          "data": {
            "text/plain": [
              "0.5"
            ]
          },
          "metadata": {},
          "execution_count": 14
        }
      ]
    },
    {
      "cell_type": "markdown",
      "source": [
        "## 4 Function `print`"
      ],
      "metadata": {
        "id": "rz6THJCuajK3"
      }
    },
    {
      "cell_type": "code",
      "source": [
        "print('Welcome to Python!')"
      ],
      "metadata": {
        "colab": {
          "base_uri": "https://localhost:8080/"
        },
        "id": "Sc033Yjpatms",
        "outputId": "20f23030-cf68-44a5-d8d6-c780cbe98693"
      },
      "execution_count": null,
      "outputs": [
        {
          "output_type": "stream",
          "name": "stdout",
          "text": [
            "Welcome to Python!\n"
          ]
        }
      ]
    },
    {
      "cell_type": "markdown",
      "source": [
        "Printing a Comma-Separated List of Items\n"
      ],
      "metadata": {
        "id": "ACNhr4xGa15A"
      }
    },
    {
      "cell_type": "code",
      "source": [
        "print('Welcome', 'to', 'Python!')"
      ],
      "metadata": {
        "colab": {
          "base_uri": "https://localhost:8080/"
        },
        "id": "z5Og7UHoaxWc",
        "outputId": "1399bcfe-8029-4d3a-b34f-99f47c45c7db"
      },
      "execution_count": null,
      "outputs": [
        {
          "output_type": "stream",
          "name": "stdout",
          "text": [
            "Welcome to Python!\n"
          ]
        }
      ]
    },
    {
      "cell_type": "markdown",
      "source": [
        "Printing the Value of an Expression"
      ],
      "metadata": {
        "id": "BCMsQKmGa5y4"
      }
    },
    {
      "cell_type": "code",
      "source": [
        "print('Sum is', 7 + 3)"
      ],
      "metadata": {
        "colab": {
          "base_uri": "https://localhost:8080/"
        },
        "id": "h3jDDXzpa4e5",
        "outputId": "1ee99eb7-3326-4783-961f-bd0cef8ac81c"
      },
      "execution_count": null,
      "outputs": [
        {
          "output_type": "stream",
          "name": "stdout",
          "text": [
            "Sum is 10\n"
          ]
        }
      ]
    },
    {
      "cell_type": "markdown",
      "source": [
        "Multiline Strings"
      ],
      "metadata": {
        "id": "NLIRvBmEbPvM"
      }
    },
    {
      "cell_type": "code",
      "source": [
        "triple_quoted_string = \"\"\"This is a triple-quoted\n",
        "string that spans two lines\"\"\"\n",
        "triple_quoted_string"
      ],
      "metadata": {
        "colab": {
          "base_uri": "https://localhost:8080/",
          "height": 35
        },
        "id": "Ir7y9aIAbPJ1",
        "outputId": "b867ae95-542c-47d9-b3f4-5cebd24f8d7f"
      },
      "execution_count": null,
      "outputs": [
        {
          "output_type": "execute_result",
          "data": {
            "text/plain": [
              "'This is a triple-quoted\\nstring that spans two lines'"
            ],
            "application/vnd.google.colaboratory.intrinsic+json": {
              "type": "string"
            }
          },
          "metadata": {},
          "execution_count": 33
        }
      ]
    },
    {
      "cell_type": "markdown",
      "source": [
        "## 5 Judgment Statement\n"
      ],
      "metadata": {
        "id": "dmBavY0ObqzP"
      }
    },
    {
      "cell_type": "markdown",
      "source": [
        "Comparison Operator | Function\n",
        "--- | ---\n",
        "< | less than\n",
        "<= | less than or equal to\n",
        "> | greater than\n",
        ">= | greater than or equal to\n",
        "== | equal\n",
        "!= | not equal"
      ],
      "metadata": {
        "id": "8Y0fvyjZZGeE"
      }
    },
    {
      "cell_type": "code",
      "source": [
        "7 > 4"
      ],
      "metadata": {
        "colab": {
          "base_uri": "https://localhost:8080/"
        },
        "id": "GHAXl9lGb26c",
        "outputId": "c6af2d8c-bfcf-45b2-95c6-640f658f5ff1"
      },
      "execution_count": null,
      "outputs": [
        {
          "output_type": "execute_result",
          "data": {
            "text/plain": [
              "True"
            ]
          },
          "metadata": {},
          "execution_count": 34
        }
      ]
    },
    {
      "cell_type": "code",
      "source": [
        "7 < 4"
      ],
      "metadata": {
        "colab": {
          "base_uri": "https://localhost:8080/"
        },
        "id": "D69BG_96b54o",
        "outputId": "044972df-8b6a-485b-b5de-73c682115942"
      },
      "execution_count": null,
      "outputs": [
        {
          "output_type": "execute_result",
          "data": {
            "text/plain": [
              "False"
            ]
          },
          "metadata": {},
          "execution_count": 35
        }
      ]
    },
    {
      "cell_type": "code",
      "source": [
        "7 >= 4"
      ],
      "metadata": {
        "colab": {
          "base_uri": "https://localhost:8080/"
        },
        "id": "8Q_MIYvCb-zj",
        "outputId": "a7e860b2-413a-4780-c29c-01f96ba9b15b"
      },
      "execution_count": null,
      "outputs": [
        {
          "output_type": "execute_result",
          "data": {
            "text/plain": [
              "True"
            ]
          },
          "metadata": {},
          "execution_count": 37
        }
      ]
    },
    {
      "cell_type": "markdown",
      "source": [
        "### 5.1 `if` Statement"
      ],
      "metadata": {
        "id": "bHmiuFw5cYr_"
      }
    },
    {
      "cell_type": "code",
      "source": [
        "grade = 85"
      ],
      "metadata": {
        "id": "KB8ehhp3ccDw"
      },
      "execution_count": null,
      "outputs": []
    },
    {
      "cell_type": "code",
      "source": [
        "if grade >= 60:\n",
        "    print('Passed')"
      ],
      "metadata": {
        "colab": {
          "base_uri": "https://localhost:8080/"
        },
        "id": "Hw8nazX1ce1F",
        "outputId": "be9b1586-ff9a-4d41-9ea2-6901515d2a1b"
      },
      "execution_count": null,
      "outputs": [
        {
          "output_type": "stream",
          "name": "stdout",
          "text": [
            "Passed\n"
          ]
        }
      ]
    },
    {
      "cell_type": "markdown",
      "source": [
        "Logical Operator | Description\n",
        "--- | ---\n",
        "and | If both the operands are True then condition becomes True.\n",
        "or | If any of the two operands are True then condition becomes True.\n",
        "not | Used to reverse the logical (not False becomes True, not True becomes False)"
      ],
      "metadata": {
        "id": "HrMkzJrzZP94"
      }
    },
    {
      "cell_type": "code",
      "source": [
        "if grade >= 60 and grade <100:\n",
        "    print('Passed')"
      ],
      "metadata": {
        "colab": {
          "base_uri": "https://localhost:8080/",
          "height": 159
        },
        "id": "XZTnroCwNs7Y",
        "outputId": "fcff3ad5-afe1-4880-9bb6-48890b0dff9b"
      },
      "execution_count": null,
      "outputs": [
        {
          "output_type": "error",
          "ename": "NameError",
          "evalue": "name 'grade' is not defined",
          "traceback": [
            "\u001b[0;31m---------------------------------------------------------------------------\u001b[0m",
            "\u001b[0;31mNameError\u001b[0m                                 Traceback (most recent call last)",
            "\u001b[0;32m<ipython-input-1-9266e9c8ddc2>\u001b[0m in \u001b[0;36m<cell line: 1>\u001b[0;34m()\u001b[0m\n\u001b[0;32m----> 1\u001b[0;31m \u001b[0;32mif\u001b[0m \u001b[0mgrade\u001b[0m \u001b[0;34m>=\u001b[0m \u001b[0;36m60\u001b[0m \u001b[0;32mand\u001b[0m \u001b[0mgrade\u001b[0m \u001b[0;34m<\u001b[0m\u001b[0;36m100\u001b[0m\u001b[0;34m:\u001b[0m\u001b[0;34m\u001b[0m\u001b[0;34m\u001b[0m\u001b[0m\n\u001b[0m\u001b[1;32m      2\u001b[0m     \u001b[0mprint\u001b[0m\u001b[0;34m(\u001b[0m\u001b[0;34m'Passed'\u001b[0m\u001b[0;34m)\u001b[0m\u001b[0;34m\u001b[0m\u001b[0;34m\u001b[0m\u001b[0m\n",
            "\u001b[0;31mNameError\u001b[0m: name 'grade' is not defined"
          ]
        }
      ]
    },
    {
      "cell_type": "markdown",
      "source": [
        "Suite Indentation\n"
      ],
      "metadata": {
        "id": "zwlL8wIlcy8A"
      }
    },
    {
      "cell_type": "code",
      "source": [
        "if grade >= 60:\n",
        "print('Passed')  # statement is not indented properly"
      ],
      "metadata": {
        "colab": {
          "base_uri": "https://localhost:8080/",
          "height": 106
        },
        "id": "lG1cHQXpcj0V",
        "outputId": "c9d2ee29-dcb6-4e7d-d2da-f27a4d4ab69c"
      },
      "execution_count": null,
      "outputs": [
        {
          "output_type": "error",
          "ename": "IndentationError",
          "evalue": "expected an indented block after 'if' statement on line 1 (<ipython-input-44-eb5359d7857b>, line 2)",
          "traceback": [
            "\u001b[0;36m  File \u001b[0;32m\"<ipython-input-44-eb5359d7857b>\"\u001b[0;36m, line \u001b[0;32m2\u001b[0m\n\u001b[0;31m    print('Passed')  # statement is not indented properly\u001b[0m\n\u001b[0m    ^\u001b[0m\n\u001b[0;31mIndentationError\u001b[0m\u001b[0;31m:\u001b[0m expected an indented block after 'if' statement on line 1\n"
          ]
        }
      ]
    },
    {
      "cell_type": "code",
      "source": [
        "if grade >= 60:\n",
        "    print('Passed')\n",
        "  print('Good job!)"
      ],
      "metadata": {
        "colab": {
          "base_uri": "https://localhost:8080/",
          "height": 106
        },
        "id": "i7icTquSc3i0",
        "outputId": "dcc93fa6-729f-45ff-ffe7-2181ba15c45f"
      },
      "execution_count": null,
      "outputs": [
        {
          "output_type": "error",
          "ename": "IndentationError",
          "evalue": "unindent does not match any outer indentation level (<tokenize>, line 3)",
          "traceback": [
            "\u001b[0;36m  File \u001b[0;32m\"<tokenize>\"\u001b[0;36m, line \u001b[0;32m3\u001b[0m\n\u001b[0;31m    print('Good job!)\u001b[0m\n\u001b[0m    ^\u001b[0m\n\u001b[0;31mIndentationError\u001b[0m\u001b[0;31m:\u001b[0m unindent does not match any outer indentation level\n"
          ]
        }
      ]
    },
    {
      "cell_type": "markdown",
      "source": [
        "Every Expression Can Be Treated as True or False\n"
      ],
      "metadata": {
        "id": "l0Qf42bwc_TM"
      }
    },
    {
      "cell_type": "code",
      "source": [
        "if 1:\n",
        "    print('Nonzero values are true, so this will print')"
      ],
      "metadata": {
        "colab": {
          "base_uri": "https://localhost:8080/"
        },
        "id": "FB02u5f4c-Ht",
        "outputId": "a1a57aa1-b568-4100-953c-1d768f436faa"
      },
      "execution_count": null,
      "outputs": [
        {
          "output_type": "stream",
          "name": "stdout",
          "text": [
            "Nonzero values are true, so this will print\n"
          ]
        }
      ]
    },
    {
      "cell_type": "code",
      "source": [
        "if 2:\n",
        "    print('Nonzero values are true, so this will print')"
      ],
      "metadata": {
        "colab": {
          "base_uri": "https://localhost:8080/"
        },
        "id": "rrNDlCKKdDoj",
        "outputId": "fc5a38a0-175a-47b1-ca77-8a0d9a51dde2"
      },
      "execution_count": null,
      "outputs": [
        {
          "output_type": "stream",
          "name": "stdout",
          "text": [
            "Nonzero values are true, so this will print\n"
          ]
        }
      ]
    },
    {
      "cell_type": "code",
      "source": [
        "if 0:\n",
        "    print('Zero is false, so this will not print')"
      ],
      "metadata": {
        "id": "sS3OxqLjdFup"
      },
      "execution_count": null,
      "outputs": []
    },
    {
      "cell_type": "markdown",
      "source": [
        "### 5.2`if`…`else`"
      ],
      "metadata": {
        "id": "s00z9i8-dQeQ"
      }
    },
    {
      "cell_type": "code",
      "source": [
        "grade = 85"
      ],
      "metadata": {
        "id": "7thbyjZQdNQ2"
      },
      "execution_count": null,
      "outputs": []
    },
    {
      "cell_type": "code",
      "source": [
        "if grade >= 60:\n",
        "    print('Passed')\n",
        "else:\n",
        "    print('Failed')"
      ],
      "metadata": {
        "colab": {
          "base_uri": "https://localhost:8080/"
        },
        "id": "_zW-XSkJdpN-",
        "outputId": "76fa4374-c3f3-4e6b-f6ef-4d152df97c1a"
      },
      "execution_count": null,
      "outputs": [
        {
          "output_type": "stream",
          "name": "stdout",
          "text": [
            "Passed\n"
          ]
        }
      ]
    },
    {
      "cell_type": "code",
      "source": [
        "grade = 57"
      ],
      "metadata": {
        "id": "p7_D_aDGdqpk"
      },
      "execution_count": null,
      "outputs": []
    },
    {
      "cell_type": "code",
      "source": [
        "if grade >= 60:\n",
        "    print('Passed')\n",
        "else:\n",
        "    print('Failed')"
      ],
      "metadata": {
        "colab": {
          "base_uri": "https://localhost:8080/"
        },
        "id": "lduSEl7-dsHK",
        "outputId": "929b6d00-b241-431c-d88d-02a1ed19ea02"
      },
      "execution_count": null,
      "outputs": [
        {
          "output_type": "stream",
          "name": "stdout",
          "text": [
            "Failed\n"
          ]
        }
      ]
    },
    {
      "cell_type": "code",
      "source": [
        "grade = 99"
      ],
      "metadata": {
        "id": "fkBkgyAKdtiL"
      },
      "execution_count": null,
      "outputs": []
    },
    {
      "cell_type": "code",
      "source": [
        "if grade >= 60:\n",
        "    print('Passed')\n",
        "else:\n",
        "    print('Failed')"
      ],
      "metadata": {
        "colab": {
          "base_uri": "https://localhost:8080/"
        },
        "id": "7kctW_dKdvDr",
        "outputId": "265ee8ef-a441-402b-8d52-d82a0b07a385"
      },
      "execution_count": null,
      "outputs": [
        {
          "output_type": "stream",
          "name": "stdout",
          "text": [
            "Passed\n"
          ]
        }
      ]
    },
    {
      "cell_type": "markdown",
      "source": [
        "Conditional Expressions"
      ],
      "metadata": {
        "id": "d9S4x_nydxaA"
      }
    },
    {
      "cell_type": "code",
      "source": [
        "grade = 87"
      ],
      "metadata": {
        "id": "msqe-WumdzH3"
      },
      "execution_count": null,
      "outputs": []
    },
    {
      "cell_type": "code",
      "source": [
        "if grade >= 60:\n",
        "    result = 'Passed'\n",
        "else:\n",
        "    result = 'Failed'"
      ],
      "metadata": {
        "id": "wb9XlMnad0dt"
      },
      "execution_count": null,
      "outputs": []
    },
    {
      "cell_type": "code",
      "source": [
        "result"
      ],
      "metadata": {
        "colab": {
          "base_uri": "https://localhost:8080/",
          "height": 35
        },
        "id": "3ugvcJl8d2Kv",
        "outputId": "7778af10-adf0-445b-df49-8728a62268b2"
      },
      "execution_count": null,
      "outputs": [
        {
          "output_type": "execute_result",
          "data": {
            "text/plain": [
              "'Passed'"
            ],
            "application/vnd.google.colaboratory.intrinsic+json": {
              "type": "string"
            }
          },
          "metadata": {},
          "execution_count": 59
        }
      ]
    },
    {
      "cell_type": "markdown",
      "source": [
        "Multiple Statements in a Suite\n"
      ],
      "metadata": {
        "id": "pAo9J127d9lf"
      }
    },
    {
      "cell_type": "code",
      "source": [
        "if grade >= 60:\n",
        "    print('Passed')\n",
        "else:\n",
        "    print('Failed')\n",
        "    print('You must take this course again')"
      ],
      "metadata": {
        "colab": {
          "base_uri": "https://localhost:8080/"
        },
        "id": "dBy--Fjxd7Go",
        "outputId": "d45a6fa4-136c-45ed-f9b6-c11b8aeffc09"
      },
      "execution_count": null,
      "outputs": [
        {
          "output_type": "stream",
          "name": "stdout",
          "text": [
            "Passed\n"
          ]
        }
      ]
    },
    {
      "cell_type": "code",
      "source": [
        "if grade >= 60:\n",
        "    print('Passed')\n",
        "else:\n",
        "    print('Failed')\n",
        "print('You must take this course again')"
      ],
      "metadata": {
        "colab": {
          "base_uri": "https://localhost:8080/"
        },
        "id": "SeSupcS7eBF6",
        "outputId": "42f2a661-2ed7-4773-fb35-6d32b3a8ec11"
      },
      "execution_count": null,
      "outputs": [
        {
          "output_type": "stream",
          "name": "stdout",
          "text": [
            "Passed\n",
            "You must take this course again\n"
          ]
        }
      ]
    },
    {
      "cell_type": "markdown",
      "source": [
        "### 5.3 `if`…`elif`…`else` Statement"
      ],
      "metadata": {
        "id": "TFatxFu4eNrd"
      }
    },
    {
      "cell_type": "code",
      "source": [
        "grade = 77"
      ],
      "metadata": {
        "id": "Ix-wY5xfeicY"
      },
      "execution_count": null,
      "outputs": []
    },
    {
      "cell_type": "code",
      "source": [
        "if grade >= 90:\n",
        "    print('A')\n",
        "elif grade >= 80:\n",
        "    print('B')\n",
        "elif grade >= 70:\n",
        "    print('C')\n",
        "elif grade >= 60:\n",
        "    print('D')\n",
        "else:\n",
        "    print('F')"
      ],
      "metadata": {
        "colab": {
          "base_uri": "https://localhost:8080/"
        },
        "id": "apuMGlwZeOHa",
        "outputId": "7cf1d9d9-15b2-4d95-edac-a50ebbdafdcf"
      },
      "execution_count": null,
      "outputs": [
        {
          "output_type": "stream",
          "name": "stdout",
          "text": [
            "C\n"
          ]
        }
      ]
    },
    {
      "cell_type": "markdown",
      "source": [
        "## 6 Loop Statement"
      ],
      "metadata": {
        "id": "DC7NvkvYeVUE"
      }
    },
    {
      "cell_type": "markdown",
      "source": [
        "### 6.1 `while` Statement"
      ],
      "metadata": {
        "id": "4hPbABt0epXW"
      }
    },
    {
      "cell_type": "code",
      "source": [
        "product = 3"
      ],
      "metadata": {
        "id": "UiUngszlesTR"
      },
      "execution_count": null,
      "outputs": []
    },
    {
      "cell_type": "code",
      "source": [
        "while product <= 50:\n",
        "    print(product)\n",
        "    product = product * 3"
      ],
      "metadata": {
        "colab": {
          "base_uri": "https://localhost:8080/"
        },
        "id": "Of1dMOxNexZ7",
        "outputId": "bfbc0fd6-cfaf-4d8e-b01f-78a7c4bbb9f2"
      },
      "execution_count": null,
      "outputs": [
        {
          "output_type": "stream",
          "name": "stdout",
          "text": [
            "3\n",
            "9\n",
            "27\n"
          ]
        }
      ]
    },
    {
      "cell_type": "code",
      "source": [
        "product"
      ],
      "metadata": {
        "colab": {
          "base_uri": "https://localhost:8080/"
        },
        "id": "fh5C2IjQey-v",
        "outputId": "495f4a8b-5524-4be8-dbf3-11e87d1b9c34"
      },
      "execution_count": null,
      "outputs": [
        {
          "output_type": "execute_result",
          "data": {
            "text/plain": [
              "81"
            ]
          },
          "metadata": {},
          "execution_count": 72
        }
      ]
    },
    {
      "cell_type": "markdown",
      "source": [
        "### 6.2 `for` Statement"
      ],
      "metadata": {
        "id": "3Bxi32VvfFPc"
      }
    },
    {
      "cell_type": "code",
      "source": [
        "for character in 'Programming':\n",
        "    print(character, end='  ')"
      ],
      "metadata": {
        "colab": {
          "base_uri": "https://localhost:8080/"
        },
        "id": "ktPLoLLUfEGU",
        "outputId": "266a6cdb-661c-44b4-81d0-37a42b7592a7"
      },
      "execution_count": null,
      "outputs": [
        {
          "output_type": "stream",
          "name": "stdout",
          "text": [
            "P  r  o  g  r  a  m  m  i  n  g  "
          ]
        }
      ]
    },
    {
      "cell_type": "code",
      "source": [
        "total=0\n",
        "for number in [2, -3, 0, 17, 9]:\n",
        "    total = total + number\n",
        "total"
      ],
      "metadata": {
        "colab": {
          "base_uri": "https://localhost:8080/"
        },
        "id": "6KIan-dGfV2d",
        "outputId": "61db802f-4d93-420b-9fe5-c49bdee0162a"
      },
      "execution_count": null,
      "outputs": [
        {
          "output_type": "execute_result",
          "data": {
            "text/plain": [
              "25"
            ]
          },
          "metadata": {},
          "execution_count": 76
        }
      ]
    },
    {
      "cell_type": "markdown",
      "source": [
        "### 6.3 Built-In `range` Function and Generators"
      ],
      "metadata": {
        "id": "90pwWFItfhke"
      }
    },
    {
      "cell_type": "code",
      "source": [
        "for counter in range(10):\n",
        "    print(counter, end=' ')"
      ],
      "metadata": {
        "colab": {
          "base_uri": "https://localhost:8080/"
        },
        "id": "wBNCWJJjflOt",
        "outputId": "5e72de94-298f-4b3c-b520-6b90126c7513"
      },
      "execution_count": null,
      "outputs": [
        {
          "output_type": "stream",
          "name": "stdout",
          "text": [
            "0 1 2 3 4 5 6 7 8 9 "
          ]
        }
      ]
    },
    {
      "cell_type": "code",
      "source": [
        "for number in range(5, 10):\n",
        "    print(number, end=' ')"
      ],
      "metadata": {
        "colab": {
          "base_uri": "https://localhost:8080/"
        },
        "id": "0ttl7QgTf2ED",
        "outputId": "5bc396d4-a1c9-4f3d-e483-3f09684f980a"
      },
      "execution_count": null,
      "outputs": [
        {
          "output_type": "stream",
          "name": "stdout",
          "text": [
            "5 6 7 8 9 "
          ]
        }
      ]
    },
    {
      "cell_type": "code",
      "source": [
        "for number in range(0, 10, 2):\n",
        "    print(number, end=' ')"
      ],
      "metadata": {
        "colab": {
          "base_uri": "https://localhost:8080/"
        },
        "id": "zxJvciqWf5Jp",
        "outputId": "318808b6-eb94-42bd-b109-2fdbd7271c54"
      },
      "execution_count": null,
      "outputs": [
        {
          "output_type": "stream",
          "name": "stdout",
          "text": [
            "0 2 4 6 8 "
          ]
        }
      ]
    },
    {
      "cell_type": "markdown",
      "source": [
        "## 7 Defining Functions"
      ],
      "metadata": {
        "id": "9Cy-vSxchB4E"
      }
    },
    {
      "cell_type": "code",
      "source": [
        "def square(number):\n",
        "    \"\"\"Calculate the square of number.\"\"\"\n",
        "    return number ** 2"
      ],
      "metadata": {
        "id": "_Wy-T-BUhFbZ"
      },
      "execution_count": null,
      "outputs": []
    },
    {
      "cell_type": "code",
      "source": [
        "square(7)"
      ],
      "metadata": {
        "colab": {
          "base_uri": "https://localhost:8080/"
        },
        "id": "McWX8VbOhIUK",
        "outputId": "8f6a2543-2be8-4978-954e-920396525562"
      },
      "execution_count": null,
      "outputs": [
        {
          "output_type": "execute_result",
          "data": {
            "text/plain": [
              "49"
            ]
          },
          "metadata": {},
          "execution_count": 90
        }
      ]
    },
    {
      "cell_type": "code",
      "source": [
        "square(2.5)"
      ],
      "metadata": {
        "colab": {
          "base_uri": "https://localhost:8080/"
        },
        "id": "-j8LAzFBhKWm",
        "outputId": "38f86758-9c70-4303-e45c-ab01b2c222bf"
      },
      "execution_count": null,
      "outputs": [
        {
          "output_type": "execute_result",
          "data": {
            "text/plain": [
              "6.25"
            ]
          },
          "metadata": {},
          "execution_count": 91
        }
      ]
    },
    {
      "cell_type": "markdown",
      "source": [
        "\n",
        "## 8 Descriptive Statistics with Python"
      ],
      "metadata": {
        "id": "iKpceTQ8gogB"
      }
    },
    {
      "cell_type": "markdown",
      "source": [
        "**Descriptive statistics** is about describing and summarizing data. It uses two main approaches:\n",
        "\n",
        "1. The quantitative approach describes and summarizes data numerically.\n",
        "2. The visual approach illustrates data with charts, plots, histograms, and other graphs.\n",
        "\n",
        "In this tutorial, you’ll learn about the following types of measures in descriptive statistics:\n",
        "\n",
        "1. **Central tendency** tells you about the centers of the data. Useful measures include the mean, median, and mode.\n",
        "2. **Variability** tells you about the spread of the data. Useful measures include variance and standard deviation."
      ],
      "metadata": {
        "id": "IXwJSJtW8-Yp"
      }
    },
    {
      "cell_type": "markdown",
      "source": [
        "## 8.1 Python Statistics Libraries\n",
        "There are many Python statistics libraries out there for you to work with, but in this tutorial, you’ll be learning about some of the most popular and widely used ones:\n",
        "\n",
        "Python’s [statistics](https://docs.python.org/3/library/statistics.html) is a built-in Python library for descriptive statistics. You can use it if your datasets are not too large or if you can’t rely on importing other libraries.\n",
        "\n",
        "[NumPy](https://numpy.org/doc/stable/user/whatisnumpy.html) is a third-party library for numerical computing, optimized for working with single- and multi-dimensional arrays. Its primary type is the array type called ndarray. This library contains many routines for statistical analysis.\n",
        "\n",
        "[SciPy](https://docs.scipy.org/doc/scipy/tutorial/index.html#user-guide) is a third-party library for scientific computing based on NumPy. It offers additional functionality compared to NumPy, including scipy.stats for statistical analysis.\n",
        "\n",
        "[pandas](https://pandas.pydata.org/pandas-docs/stable/index.html) is a third-party library for numerical computing based on NumPy. It excels in handling labeled one-dimensional (1D) data with Series objects and two-dimensional (2D) data with DataFrame objects.\n",
        "\n",
        "[Matplotlib](https://matplotlib.org/) is a third-party library for data visualization. It works well in combination with NumPy, SciPy, and pandas."
      ],
      "metadata": {
        "id": "YhbGy1nzbR1T"
      }
    },
    {
      "cell_type": "code",
      "source": [
        "import math\n",
        "import statistics\n",
        "import numpy as np\n",
        "import scipy.stats\n",
        "import pandas as pd"
      ],
      "metadata": {
        "id": "rIfGlQ0c-Num"
      },
      "execution_count": null,
      "outputs": []
    },
    {
      "cell_type": "code",
      "source": [
        "x = [8.0, 1, 2.5, 4, 28.0]"
      ],
      "metadata": {
        "id": "6eB4gDU8gp3_"
      },
      "execution_count": null,
      "outputs": []
    },
    {
      "cell_type": "code",
      "source": [
        "y = np.array(x)\n",
        "z = pd.Series(x)"
      ],
      "metadata": {
        "id": "evfdYUGk-6g4"
      },
      "execution_count": null,
      "outputs": []
    },
    {
      "cell_type": "code",
      "source": [
        "y"
      ],
      "metadata": {
        "id": "XGQgr1kk-_BM",
        "outputId": "10d3795f-e199-42d1-9dbd-fbca586081fd",
        "colab": {
          "base_uri": "https://localhost:8080/"
        }
      },
      "execution_count": null,
      "outputs": [
        {
          "output_type": "execute_result",
          "data": {
            "text/plain": [
              "array([ 8. ,  1. ,  2.5,  4. , 28. ])"
            ]
          },
          "metadata": {},
          "execution_count": 20
        }
      ]
    },
    {
      "cell_type": "code",
      "source": [
        "z"
      ],
      "metadata": {
        "id": "tc0BTaAO_ANf",
        "outputId": "973cd126-992a-44b4-ea8a-be741a6a6758",
        "colab": {
          "base_uri": "https://localhost:8080/"
        }
      },
      "execution_count": null,
      "outputs": [
        {
          "output_type": "execute_result",
          "data": {
            "text/plain": [
              "0     8.0\n",
              "1     1.0\n",
              "2     2.5\n",
              "3     4.0\n",
              "4    28.0\n",
              "dtype: float64"
            ]
          },
          "metadata": {},
          "execution_count": 21
        }
      ]
    },
    {
      "cell_type": "markdown",
      "source": [
        "## 8.2 Measures of Central Tendency"
      ],
      "metadata": {
        "id": "kGwhdOKh_Gxk"
      }
    },
    {
      "cell_type": "markdown",
      "source": [
        "### Mean"
      ],
      "metadata": {
        "id": "cgezyAol_Opy"
      }
    },
    {
      "cell_type": "markdown",
      "source": [
        "The sample mean, also called the sample arithmetic mean or simply the average, is the arithmetic average of all the items in a dataset. The mean of a dataset $x$ is mathematically expressed as $\\sum x_i$/n, where i = 1, 2,..., n. In other words, it’s the sum of all the elements $x_i$ divided by the number of items in the dataset $x$."
      ],
      "metadata": {
        "id": "PjjuTDjq_WJC"
      }
    },
    {
      "cell_type": "code",
      "source": [
        "mean_ = sum(x) / len(x)\n",
        "mean_"
      ],
      "metadata": {
        "colab": {
          "base_uri": "https://localhost:8080/"
        },
        "id": "Rmh2q6zjgsMo",
        "outputId": "1b3000b3-de0a-48a6-deb6-77c169e7deb7"
      },
      "execution_count": null,
      "outputs": [
        {
          "output_type": "execute_result",
          "data": {
            "text/plain": [
              "8.7"
            ]
          },
          "metadata": {},
          "execution_count": 22
        }
      ]
    },
    {
      "cell_type": "code",
      "source": [
        "mean_ = statistics.mean(x)\n",
        "mean_"
      ],
      "metadata": {
        "id": "jUhbhIWA_6U9",
        "outputId": "04259fed-4fe0-4fa8-bfe7-92cbe75e2c43",
        "colab": {
          "base_uri": "https://localhost:8080/"
        }
      },
      "execution_count": null,
      "outputs": [
        {
          "output_type": "execute_result",
          "data": {
            "text/plain": [
              "8.7"
            ]
          },
          "metadata": {},
          "execution_count": 23
        }
      ]
    },
    {
      "cell_type": "code",
      "source": [
        "mean_ = np.mean(y)\n",
        "mean_"
      ],
      "metadata": {
        "id": "q0XYa79U_-sN",
        "outputId": "899d37ed-751e-479b-fa3c-39abbfd1fe5d",
        "colab": {
          "base_uri": "https://localhost:8080/"
        }
      },
      "execution_count": null,
      "outputs": [
        {
          "output_type": "execute_result",
          "data": {
            "text/plain": [
              "8.7"
            ]
          },
          "metadata": {},
          "execution_count": 25
        }
      ]
    },
    {
      "cell_type": "code",
      "source": [
        "mean_ = y.mean()\n",
        "mean_"
      ],
      "metadata": {
        "id": "ZPIKnfccAEt0",
        "outputId": "651c4b15-4efa-47e3-8b78-f722dda57441",
        "colab": {
          "base_uri": "https://localhost:8080/"
        }
      },
      "execution_count": null,
      "outputs": [
        {
          "output_type": "execute_result",
          "data": {
            "text/plain": [
              "8.7"
            ]
          },
          "metadata": {},
          "execution_count": 26
        }
      ]
    },
    {
      "cell_type": "code",
      "source": [
        "mean_ = z.mean()\n",
        "mean_"
      ],
      "metadata": {
        "id": "U6f2Uc-pAKNo",
        "outputId": "8f490294-edf2-4974-ed57-6d0acbfb0126",
        "colab": {
          "base_uri": "https://localhost:8080/"
        }
      },
      "execution_count": null,
      "outputs": [
        {
          "output_type": "execute_result",
          "data": {
            "text/plain": [
              "8.7"
            ]
          },
          "metadata": {},
          "execution_count": 27
        }
      ]
    },
    {
      "cell_type": "markdown",
      "source": [
        "### Weighted Mean"
      ],
      "metadata": {
        "id": "N-K0PEdFBBTQ"
      }
    },
    {
      "cell_type": "markdown",
      "source": [
        "The **weighted mean**, also called the weighted arithmetic mean or weighted average, is a generalization of the arithmetic mean that enables you to define the relative contribution of each data point to the result.\n",
        "\n",
        "You define one weight $w$ for each data point $x_i$ of the dataset $x$, where $i$ = 1, 2, ..., n and n is the number of items in $x$. Then, you multiply each data point with the corresponding weight, sum all the products, and divide the obtained sum with the sum of weights: $\\sum_i(w_i x_i)/\\sum_i(w_i)$."
      ],
      "metadata": {
        "id": "CPOmsfb-ARo5"
      }
    },
    {
      "cell_type": "markdown",
      "source": [
        "The weighted mean is very handy when you need the mean of a dataset containing items that occur with given relative frequencies. For example, say that you have a set in which 20% of all items are equal to 2, 50% of the items are equal to 4, and the remaining 30% of the items are equal to 8. You can calculate the mean of such a set like this:"
      ],
      "metadata": {
        "id": "yet5k7vRBKv1"
      }
    },
    {
      "cell_type": "code",
      "source": [
        "0.2 * 2 + 0.5 * 4 + 0.3 * 8\n",
        "# 4.8"
      ],
      "metadata": {
        "id": "352cJUMiBIn7",
        "outputId": "3f122e9c-cd6f-4e5b-abad-dca53bb91003",
        "colab": {
          "base_uri": "https://localhost:8080/"
        }
      },
      "execution_count": null,
      "outputs": [
        {
          "output_type": "execute_result",
          "data": {
            "text/plain": [
              "4.8"
            ]
          },
          "metadata": {},
          "execution_count": 28
        }
      ]
    },
    {
      "cell_type": "code",
      "source": [
        "x = [8.0, 1, 2.5, 4, 28.0]\n",
        "w = [0.1, 0.2, 0.3, 0.25, 0.15]\n",
        "wmean = sum(w[i] * x[i] for i in range(len(x))) / sum(w)\n",
        "wmean"
      ],
      "metadata": {
        "id": "iYcOVmTEBVMe",
        "outputId": "1e6a9450-7c14-48cc-a084-cee4115c0a57",
        "colab": {
          "base_uri": "https://localhost:8080/"
        }
      },
      "execution_count": null,
      "outputs": [
        {
          "output_type": "execute_result",
          "data": {
            "text/plain": [
              "6.95"
            ]
          },
          "metadata": {},
          "execution_count": 29
        }
      ]
    },
    {
      "cell_type": "code",
      "source": [
        "wmean = sum(x_ * w_ for (x_, w_) in zip(x, w)) / sum(w)\n",
        "wmean"
      ],
      "metadata": {
        "id": "_YTepBqyBXQm",
        "outputId": "0aa05b34-a1b1-4540-ebff-b6186ed4c19c",
        "colab": {
          "base_uri": "https://localhost:8080/"
        }
      },
      "execution_count": null,
      "outputs": [
        {
          "output_type": "execute_result",
          "data": {
            "text/plain": [
              "6.95"
            ]
          },
          "metadata": {},
          "execution_count": 30
        }
      ]
    },
    {
      "cell_type": "code",
      "source": [
        "y, z, w = np.array(x), pd.Series(x), np.array(w)\n",
        "wmean = np.average(y, weights=w)\n",
        "wmean"
      ],
      "metadata": {
        "id": "8oxYEbj5gtwu",
        "outputId": "da836456-8fc2-4a11-c243-6038db23530e",
        "colab": {
          "base_uri": "https://localhost:8080/"
        }
      },
      "execution_count": null,
      "outputs": [
        {
          "output_type": "execute_result",
          "data": {
            "text/plain": [
              "6.95"
            ]
          },
          "metadata": {},
          "execution_count": 31
        }
      ]
    },
    {
      "cell_type": "code",
      "source": [
        "wmean = np.average(z, weights=w)\n",
        "wmean"
      ],
      "metadata": {
        "id": "3WJE-ZP1BvSR",
        "outputId": "14d7724a-4695-4f69-9db7-350b053489e3",
        "colab": {
          "base_uri": "https://localhost:8080/"
        }
      },
      "execution_count": null,
      "outputs": [
        {
          "output_type": "execute_result",
          "data": {
            "text/plain": [
              "6.95"
            ]
          },
          "metadata": {},
          "execution_count": 32
        }
      ]
    },
    {
      "cell_type": "markdown",
      "source": [
        "### Median"
      ],
      "metadata": {
        "id": "8d3llcVqB8Ag"
      }
    },
    {
      "cell_type": "markdown",
      "source": [
        "The sample median is the middle element of a sorted dataset. The dataset can be sorted in increasing or decreasing order. If the number of elements 𝑛 of the dataset is odd, then the median is the value at the middle position: 0.5(𝑛 + 1). If 𝑛 is even, then the median is the arithmetic mean of the two values in the middle, that is, the items at the positions 0.5𝑛 and 0.5𝑛 + 1.\n",
        "\n",
        "For example, if you have the data points 2, 4, 1, 8, and 9, then the median value is 4, which is in the middle of the sorted dataset (1, 2, 4, 8, 9). If the data points are 2, 4, 1, and 8, then the median is 3, which is the average of the two middle elements of the sorted sequence (2 and 4). The following figure illustrates this:"
      ],
      "metadata": {
        "id": "Lo2M7t69CAHa"
      }
    },
    {
      "cell_type": "code",
      "source": [
        "x = [8.0, 1, 2.5, 4, 28.0]"
      ],
      "metadata": {
        "id": "QK8nu7F3CWT9"
      },
      "execution_count": null,
      "outputs": []
    },
    {
      "cell_type": "code",
      "source": [
        "x"
      ],
      "metadata": {
        "id": "7tdhzErgDwrz",
        "outputId": "935da45d-0e83-4a93-d6e4-95ad7f6d2ff5",
        "colab": {
          "base_uri": "https://localhost:8080/"
        }
      },
      "execution_count": null,
      "outputs": [
        {
          "output_type": "execute_result",
          "data": {
            "text/plain": [
              "[8.0, 1, 2.5, 4, 28.0]"
            ]
          },
          "metadata": {},
          "execution_count": 47
        }
      ]
    },
    {
      "cell_type": "code",
      "source": [
        "n = len(x)\n",
        "if n % 2:\n",
        "    median_ = sorted(x)[round(0.5*(n-1))]\n",
        "else:\n",
        "    x_ord, index = sorted(x), round(0.5 * n)\n",
        "    median_ = 0.5 * (x_ord[index-1] + x_ord[index])\n",
        "\n",
        "median_"
      ],
      "metadata": {
        "id": "yt2-qDZrB-NM",
        "outputId": "14b98251-ab13-4239-a23e-24ff6a95ec26",
        "colab": {
          "base_uri": "https://localhost:8080/"
        }
      },
      "execution_count": null,
      "outputs": [
        {
          "output_type": "execute_result",
          "data": {
            "text/plain": [
              "4"
            ]
          },
          "metadata": {},
          "execution_count": 45
        }
      ]
    },
    {
      "cell_type": "code",
      "source": [
        "median_ = statistics.median(x)\n",
        "median_"
      ],
      "metadata": {
        "id": "pLMClHNGB-Hn",
        "outputId": "e1132345-43da-4bf8-b088-443ff3552f54",
        "colab": {
          "base_uri": "https://localhost:8080/"
        }
      },
      "execution_count": null,
      "outputs": [
        {
          "output_type": "execute_result",
          "data": {
            "text/plain": [
              "4"
            ]
          },
          "metadata": {},
          "execution_count": 48
        }
      ]
    },
    {
      "cell_type": "code",
      "source": [
        "median_ = np.median(y)\n",
        "median_"
      ],
      "metadata": {
        "colab": {
          "base_uri": "https://localhost:8080/"
        },
        "id": "BLMrLi-Sgx7C",
        "outputId": "1a5fc04a-f619-4939-8a90-902b11b264ec"
      },
      "execution_count": null,
      "outputs": [
        {
          "output_type": "execute_result",
          "data": {
            "text/plain": [
              "4.0"
            ]
          },
          "metadata": {},
          "execution_count": 50
        }
      ]
    },
    {
      "cell_type": "code",
      "source": [
        "# pandas Series objects have the method .median() that ignores nan values by default:\n",
        "z.median()"
      ],
      "metadata": {
        "colab": {
          "base_uri": "https://localhost:8080/"
        },
        "id": "oV6xj0wBg1bl",
        "outputId": "3c9dc27e-8a18-4030-d828-d30bd70e1c0c"
      },
      "execution_count": null,
      "outputs": [
        {
          "output_type": "execute_result",
          "data": {
            "text/plain": [
              "4.0"
            ]
          },
          "metadata": {},
          "execution_count": 51
        }
      ]
    },
    {
      "cell_type": "markdown",
      "source": [
        "### Mode"
      ],
      "metadata": {
        "id": "i1LCRr4MEY_z"
      }
    },
    {
      "cell_type": "markdown",
      "source": [
        "The sample mode is the value in the dataset that occurs most frequently. If there isn’t a single such value, then the set is multimodal since it has multiple modal values. For example, in the set that contains the points 2, 3, 2, 8, and 12, the number 2 is the mode because it occurs twice, unlike the other items that occur only once."
      ],
      "metadata": {
        "id": "eTJwGRrDEefX"
      }
    },
    {
      "cell_type": "code",
      "source": [
        "u = [2, 3, 2, 8, 12]\n",
        "mode_ = max((u.count(item), item) for item in set(u))[1]\n",
        "mode_"
      ],
      "metadata": {
        "colab": {
          "base_uri": "https://localhost:8080/"
        },
        "id": "e0GqBDH-g28X",
        "outputId": "7b392fa8-d222-464d-9864-6c7aa745a5c8"
      },
      "execution_count": null,
      "outputs": [
        {
          "output_type": "execute_result",
          "data": {
            "text/plain": [
              "2"
            ]
          },
          "metadata": {},
          "execution_count": 58
        }
      ]
    },
    {
      "cell_type": "code",
      "source": [
        "mode_ = statistics.mode(u)\n",
        "mode_"
      ],
      "metadata": {
        "id": "akIfdFTKFFY5",
        "outputId": "11262896-71f1-4c41-a563-19b23ec69e6f",
        "colab": {
          "base_uri": "https://localhost:8080/"
        }
      },
      "execution_count": null,
      "outputs": [
        {
          "output_type": "execute_result",
          "data": {
            "text/plain": [
              "[2]"
            ]
          },
          "metadata": {},
          "execution_count": 59
        }
      ]
    },
    {
      "cell_type": "code",
      "source": [
        "mode_ = statistics.multimode(u)\n",
        "mode_"
      ],
      "metadata": {
        "id": "2_xIkBrAFeyh",
        "outputId": "911fddce-f583-493b-ad19-b04683e2bb45",
        "colab": {
          "base_uri": "https://localhost:8080/"
        }
      },
      "execution_count": null,
      "outputs": [
        {
          "output_type": "execute_result",
          "data": {
            "text/plain": [
              "[2]"
            ]
          },
          "metadata": {},
          "execution_count": 60
        }
      ]
    },
    {
      "cell_type": "markdown",
      "source": [
        "mode() returned a single value, while multimode() returned the list that contains the result. This isn’t the only difference between the two functions, though. If there’s more than one modal value, then mode() raises StatisticsError, while multimode() returns the list with all modes:"
      ],
      "metadata": {
        "id": "F07xqJYCF1SC"
      }
    },
    {
      "cell_type": "code",
      "source": [
        "v = [15, 12, 12, 15, 21, 15, 12]\n",
        "statistics.mode(v)  # Raises StatisticsError"
      ],
      "metadata": {
        "id": "AbjOhLU2GKIQ",
        "outputId": "ff8e36b8-185e-4276-9c4a-5300dc4287ab",
        "colab": {
          "base_uri": "https://localhost:8080/"
        }
      },
      "execution_count": null,
      "outputs": [
        {
          "output_type": "execute_result",
          "data": {
            "text/plain": [
              "15"
            ]
          },
          "metadata": {},
          "execution_count": 69
        }
      ]
    },
    {
      "cell_type": "code",
      "source": [
        "statistics.multimode(v)"
      ],
      "metadata": {
        "id": "PVdUtAcJGOt9",
        "outputId": "fdebcd1c-9bb3-493d-9f34-fc9eb56394fb",
        "colab": {
          "base_uri": "https://localhost:8080/"
        }
      },
      "execution_count": null,
      "outputs": [
        {
          "output_type": "execute_result",
          "data": {
            "text/plain": [
              "[12, 15]"
            ]
          },
          "metadata": {},
          "execution_count": 67
        }
      ]
    },
    {
      "cell_type": "code",
      "source": [
        "u, v = np.array(u), np.array(v)\n",
        "mode_ = scipy.stats.mode(u)\n",
        "mode_"
      ],
      "metadata": {
        "colab": {
          "base_uri": "https://localhost:8080/"
        },
        "id": "DqNy-shUg4g1",
        "outputId": "b358bd56-6281-4ed0-8981-1a552aa4b144"
      },
      "execution_count": null,
      "outputs": [
        {
          "output_type": "execute_result",
          "data": {
            "text/plain": [
              "ModeResult(mode=2, count=2)"
            ]
          },
          "metadata": {},
          "execution_count": 70
        }
      ]
    },
    {
      "cell_type": "code",
      "source": [
        "mode_ = scipy.stats.mode(v)\n",
        "mode_"
      ],
      "metadata": {
        "id": "QQPOYtovGGPp",
        "outputId": "e8c0f348-d598-4c08-e9dc-81d21d6170f1",
        "colab": {
          "base_uri": "https://localhost:8080/"
        }
      },
      "execution_count": null,
      "outputs": [
        {
          "output_type": "execute_result",
          "data": {
            "text/plain": [
              "ModeResult(mode=12, count=3)"
            ]
          },
          "metadata": {},
          "execution_count": 71
        }
      ]
    },
    {
      "cell_type": "code",
      "source": [
        "u, v, w = pd.Series(u), pd.Series(v)\n",
        "u.mode()"
      ],
      "metadata": {
        "id": "D2Gq_YCxGuSd",
        "outputId": "9fcd0e15-eaab-41f7-fc54-8c9a122728a1",
        "colab": {
          "base_uri": "https://localhost:8080/"
        }
      },
      "execution_count": null,
      "outputs": [
        {
          "output_type": "execute_result",
          "data": {
            "text/plain": [
              "0    2.0\n",
              "dtype: float64"
            ]
          },
          "metadata": {},
          "execution_count": 72
        }
      ]
    },
    {
      "cell_type": "code",
      "source": [
        "v.mode()"
      ],
      "metadata": {
        "id": "ooeP_9MCGy9o",
        "outputId": "6cdc6bff-3c6c-432a-defd-d91c4d61cf58",
        "colab": {
          "base_uri": "https://localhost:8080/"
        }
      },
      "execution_count": null,
      "outputs": [
        {
          "output_type": "execute_result",
          "data": {
            "text/plain": [
              "0    12\n",
              "1    15\n",
              "dtype: int64"
            ]
          },
          "metadata": {},
          "execution_count": 73
        }
      ]
    },
    {
      "cell_type": "markdown",
      "source": [
        "## 8.3 Measures of Variability"
      ],
      "metadata": {
        "id": "ISpB5g7kG9vx"
      }
    },
    {
      "cell_type": "markdown",
      "source": [
        "The sample variance quantifies the spread of the data. It shows numerically how far the data points are from the mean. You can express the sample variance of the dataset 𝑥 with 𝑛 elements mathematically as 𝑠² = Σᵢ(𝑥ᵢ − mean(𝑥))² / (𝑛 − 1), where 𝑖 = 1, 2, …, 𝑛 and mean(𝑥) is the sample mean of 𝑥."
      ],
      "metadata": {
        "id": "xY7E2HyrH3OV"
      }
    },
    {
      "cell_type": "markdown",
      "source": [
        "### Variance"
      ],
      "metadata": {
        "id": "TIZ4l3m9Isru"
      }
    },
    {
      "cell_type": "code",
      "source": [
        "x"
      ],
      "metadata": {
        "id": "vIXg3lblHwmt",
        "outputId": "c04f479a-9ed7-4034-e13c-36a959658611",
        "colab": {
          "base_uri": "https://localhost:8080/"
        }
      },
      "execution_count": null,
      "outputs": [
        {
          "output_type": "execute_result",
          "data": {
            "text/plain": [
              "[8.0, 1, 2.5, 4, 28.0]"
            ]
          },
          "metadata": {},
          "execution_count": 76
        }
      ]
    },
    {
      "cell_type": "code",
      "source": [
        "n = len(x)\n",
        "mean_ = sum(x) / n\n",
        "var_ = sum((item - mean_)**2 for item in x) / (n - 1)\n",
        "var_"
      ],
      "metadata": {
        "id": "WP8YqOVpHvTV",
        "outputId": "719ce6b3-3a5e-4ef0-eb37-ca0ff885f0bc",
        "colab": {
          "base_uri": "https://localhost:8080/"
        }
      },
      "execution_count": null,
      "outputs": [
        {
          "output_type": "execute_result",
          "data": {
            "text/plain": [
              "123.19999999999999"
            ]
          },
          "metadata": {},
          "execution_count": 75
        }
      ]
    },
    {
      "cell_type": "code",
      "source": [
        "var_ = statistics.variance(x)\n",
        "var_"
      ],
      "metadata": {
        "id": "WvNjHBYsH8fX",
        "outputId": "3020eb9e-1573-4fd0-aa13-7b1fb2d74c6e",
        "colab": {
          "base_uri": "https://localhost:8080/"
        }
      },
      "execution_count": null,
      "outputs": [
        {
          "output_type": "execute_result",
          "data": {
            "text/plain": [
              "123.2"
            ]
          },
          "metadata": {},
          "execution_count": 77
        }
      ]
    },
    {
      "cell_type": "code",
      "source": [
        "var_ = np.var(y, ddof=1)\n",
        "var_"
      ],
      "metadata": {
        "id": "ZXgsXgeZIJV5"
      },
      "execution_count": null,
      "outputs": []
    },
    {
      "cell_type": "code",
      "source": [
        "var_ = y.var(ddof=1)\n",
        "var_"
      ],
      "metadata": {
        "id": "PBiMZ7O6IKsp",
        "outputId": "a05c4ded-46d6-4672-d399-ebe943be3c9e",
        "colab": {
          "base_uri": "https://localhost:8080/"
        }
      },
      "execution_count": null,
      "outputs": [
        {
          "output_type": "execute_result",
          "data": {
            "text/plain": [
              "123.19999999999999"
            ]
          },
          "metadata": {},
          "execution_count": 78
        }
      ]
    },
    {
      "cell_type": "markdown",
      "source": [
        "It’s very important to specify the parameter ddof=1. That’s how you set the delta degrees of freedom to 1. This parameter allows the proper calculation of 𝑠², with (𝑛 − 1) in the denominator instead of 𝑛."
      ],
      "metadata": {
        "id": "nBtYnBWRISIw"
      }
    },
    {
      "cell_type": "code",
      "source": [
        "z.var(ddof=1)"
      ],
      "metadata": {
        "id": "7Lw7CP90IYdi",
        "outputId": "286e5d9e-2829-4fa1-fd87-bf2712297639",
        "colab": {
          "base_uri": "https://localhost:8080/"
        }
      },
      "execution_count": null,
      "outputs": [
        {
          "output_type": "execute_result",
          "data": {
            "text/plain": [
              "123.19999999999999"
            ]
          },
          "metadata": {},
          "execution_count": 79
        }
      ]
    },
    {
      "cell_type": "markdown",
      "source": [
        "### Standard Deviation"
      ],
      "metadata": {
        "id": "dWawGn_MIvEp"
      }
    },
    {
      "cell_type": "markdown",
      "source": [
        "The sample standard deviation is another measure of data spread. It’s connected to the sample variance, as standard deviation, 𝑠, is the positive square root of the sample variance. The standard deviation is often more convenient than the variance because it has the same unit as the data points."
      ],
      "metadata": {
        "id": "AfxwJU95LboR"
      }
    },
    {
      "cell_type": "code",
      "source": [
        "std_ = var_ ** 0.5\n",
        "std_"
      ],
      "metadata": {
        "id": "QigOBHOvI3He",
        "outputId": "7d8bbd21-60a8-48c8-94c3-4fee8200a9e2",
        "colab": {
          "base_uri": "https://localhost:8080/"
        }
      },
      "execution_count": null,
      "outputs": [
        {
          "output_type": "execute_result",
          "data": {
            "text/plain": [
              "11.099549540409285"
            ]
          },
          "metadata": {},
          "execution_count": 80
        }
      ]
    },
    {
      "cell_type": "markdown",
      "source": [
        "Although this solution works, you can also use statistics.stdev():"
      ],
      "metadata": {
        "id": "n82LDOyfI_GU"
      }
    },
    {
      "cell_type": "code",
      "source": [
        "std_ = statistics.stdev(x)\n",
        "std_"
      ],
      "metadata": {
        "id": "iQRJtcg4I7d8",
        "outputId": "3f4f4f19-8744-4124-83e8-8111354c6c57",
        "colab": {
          "base_uri": "https://localhost:8080/"
        }
      },
      "execution_count": null,
      "outputs": [
        {
          "output_type": "execute_result",
          "data": {
            "text/plain": [
              "11.099549540409287"
            ]
          },
          "metadata": {},
          "execution_count": 81
        }
      ]
    },
    {
      "cell_type": "markdown",
      "source": [
        "You can get the standard deviation with NumPy in almost the same way. You can use the function std() and the corresponding method .std() to calculate the standard deviation."
      ],
      "metadata": {
        "id": "uV_Ha2_JJQtn"
      }
    },
    {
      "cell_type": "code",
      "source": [
        "np.std(y, ddof=1)\n",
        "\n",
        "y.std(ddof=1)"
      ],
      "metadata": {
        "id": "fHuftontJJYF",
        "outputId": "5895e0d6-33e0-4f9f-a9a8-8d3a296ebdc6",
        "colab": {
          "base_uri": "https://localhost:8080/"
        }
      },
      "execution_count": null,
      "outputs": [
        {
          "output_type": "execute_result",
          "data": {
            "text/plain": [
              "11.099549540409285"
            ]
          },
          "metadata": {},
          "execution_count": 83
        }
      ]
    },
    {
      "cell_type": "code",
      "source": [
        "z.std(ddof=1)"
      ],
      "metadata": {
        "id": "p-0zZqMOJYiC",
        "outputId": "3fd34d34-51ad-4197-a893-fa9d6cd39128",
        "colab": {
          "base_uri": "https://localhost:8080/"
        }
      },
      "execution_count": null,
      "outputs": [
        {
          "output_type": "execute_result",
          "data": {
            "text/plain": [
              "11.099549540409285"
            ]
          },
          "metadata": {},
          "execution_count": 84
        }
      ]
    },
    {
      "cell_type": "markdown",
      "source": [
        "### Standard Error of Mean"
      ],
      "metadata": {
        "id": "gJbsxzNuLBLa"
      }
    },
    {
      "cell_type": "markdown",
      "source": [
        "The standard error (SE) of a statistic (usually an estimate of a parameter) is the standard deviation of its sampling distribution or an estimate of that standard deviation. $SE = SD / \\sqrt{n}$. If the statistic is the sample mean, it is called the standard error of the mean (SEM). The standard error is a key ingredient in producing confidence intervals."
      ],
      "metadata": {
        "id": "BFaVf0R2L5-L"
      }
    },
    {
      "cell_type": "code",
      "source": [
        "x"
      ],
      "metadata": {
        "id": "7XgL1rlnMt-I",
        "outputId": "34ffd8e0-3e9b-4ba7-9184-bf93f44285c7",
        "colab": {
          "base_uri": "https://localhost:8080/"
        }
      },
      "execution_count": null,
      "outputs": [
        {
          "output_type": "execute_result",
          "data": {
            "text/plain": [
              "[8.0, 1, 2.5, 4, 28.0]"
            ]
          },
          "metadata": {},
          "execution_count": 89
        }
      ]
    },
    {
      "cell_type": "code",
      "source": [
        "sem_ = std_/math.sqrt(n)\n",
        "sem_"
      ],
      "metadata": {
        "id": "0ZSHL-sJMa7m",
        "outputId": "17c3aebc-56c7-47cb-cba1-22cf81477a81",
        "colab": {
          "base_uri": "https://localhost:8080/"
        }
      },
      "execution_count": null,
      "outputs": [
        {
          "output_type": "execute_result",
          "data": {
            "text/plain": [
              "4.963869458396343"
            ]
          },
          "metadata": {},
          "execution_count": 86
        }
      ]
    },
    {
      "cell_type": "code",
      "source": [
        "from scipy.stats import sem\n",
        "sem(x)"
      ],
      "metadata": {
        "id": "YbbwMwTTMRXG",
        "outputId": "e40806ad-1524-4328-850c-0465bc51251d",
        "colab": {
          "base_uri": "https://localhost:8080/"
        }
      },
      "execution_count": null,
      "outputs": [
        {
          "output_type": "execute_result",
          "data": {
            "text/plain": [
              "4.963869458396342"
            ]
          },
          "metadata": {},
          "execution_count": 92
        }
      ]
    },
    {
      "cell_type": "markdown",
      "source": [
        "Another way to calculate the standard error of the mean for a dataset is to use the std() function from NumPy."
      ],
      "metadata": {
        "id": "16tEDLWiNaAM"
      }
    },
    {
      "cell_type": "code",
      "source": [
        "np.std(x, ddof=1) / np.sqrt(np.size(x))"
      ],
      "metadata": {
        "id": "Xp3ery_CL4jC",
        "outputId": "eb33107e-689f-4781-cc54-bf9357a6b5be",
        "colab": {
          "base_uri": "https://localhost:8080/"
        }
      },
      "execution_count": null,
      "outputs": [
        {
          "output_type": "execute_result",
          "data": {
            "text/plain": [
              "4.963869458396342"
            ]
          },
          "metadata": {},
          "execution_count": 90
        }
      ]
    },
    {
      "cell_type": "markdown",
      "source": [
        "### Percentiles"
      ],
      "metadata": {
        "id": "JZAtSLJxLie9"
      }
    },
    {
      "cell_type": "markdown",
      "source": [
        "The sample 𝑝 percentile is the element in the dataset such that 𝑝% of the elements in the dataset are less than or equal to that value. Also, (100 − 𝑝)% of the elements are greater than or equal to that value. If there are two such elements in the dataset, then the sample 𝑝 percentile is their arithmetic mean. Each dataset has three quartiles, which are the percentiles that divide the dataset into four parts:\n",
        "\n",
        "* The first quartile is the sample 25th percentile. It divides roughly 25% of the smallest items from the rest of the dataset.\n",
        "\n",
        "* The second quartile is the sample 50th percentile or the median. Approximately 25% of the items lie between the first and second quartiles and another 25% between the second and third quartiles.\n",
        "* The third quartile is the sample 75th percentile. It divides roughly 25% of the largest items from the rest of the dataset."
      ],
      "metadata": {
        "id": "BQbBZndfNtmX"
      }
    },
    {
      "cell_type": "code",
      "source": [
        "x = [-5.0, -1.1, 0.1, 2.0, 8.0, 12.8, 21.0, 25.8, 41.0]\n",
        "statistics.quantiles(x, n=2)"
      ],
      "metadata": {
        "id": "qKoBu7DlNpSX",
        "outputId": "f93c975f-f6d0-4a5d-871c-43b542703f07",
        "colab": {
          "base_uri": "https://localhost:8080/"
        }
      },
      "execution_count": null,
      "outputs": [
        {
          "output_type": "execute_result",
          "data": {
            "text/plain": [
              "[8.0]"
            ]
          },
          "metadata": {},
          "execution_count": 94
        }
      ]
    },
    {
      "cell_type": "code",
      "source": [
        "statistics.median(x)"
      ],
      "metadata": {
        "id": "t0zhDAdrOOew",
        "outputId": "d401a493-ebed-4b0d-f5fe-f8872f774f93",
        "colab": {
          "base_uri": "https://localhost:8080/"
        }
      },
      "execution_count": null,
      "outputs": [
        {
          "output_type": "execute_result",
          "data": {
            "text/plain": [
              "8.0"
            ]
          },
          "metadata": {},
          "execution_count": 95
        }
      ]
    },
    {
      "cell_type": "code",
      "source": [
        "statistics.quantiles(x, n=4, method='inclusive')"
      ],
      "metadata": {
        "id": "SpyiWZ5dODYr",
        "outputId": "44adedbc-d5fb-43de-b1e5-a13dcc200160",
        "colab": {
          "base_uri": "https://localhost:8080/"
        }
      },
      "execution_count": null,
      "outputs": [
        {
          "output_type": "execute_result",
          "data": {
            "text/plain": [
              "[0.1, 8.0, 21.0]"
            ]
          },
          "metadata": {},
          "execution_count": 96
        }
      ]
    },
    {
      "cell_type": "markdown",
      "source": [
        "np.percentile()  determine any sample percentile in your dataset. For example, this is how you can find the 5th, 95th, 75th percentiles:"
      ],
      "metadata": {
        "id": "g8Raooe_Ojol"
      }
    },
    {
      "cell_type": "code",
      "source": [
        "y = np.array(x)\n",
        "np.percentile(y, 5)"
      ],
      "metadata": {
        "id": "BL8-_upPOqn8",
        "outputId": "ec8dade0-3ec7-4a3a-c366-11b58d484cb0",
        "colab": {
          "base_uri": "https://localhost:8080/"
        }
      },
      "execution_count": null,
      "outputs": [
        {
          "output_type": "execute_result",
          "data": {
            "text/plain": [
              "-3.44"
            ]
          },
          "metadata": {},
          "execution_count": 100
        }
      ]
    },
    {
      "cell_type": "code",
      "source": [
        "np.percentile(y, 95)"
      ],
      "metadata": {
        "id": "YA38gVtnOeEN",
        "outputId": "05cb97ae-31c6-419e-cd3d-56ce7d5d1e80",
        "colab": {
          "base_uri": "https://localhost:8080/"
        }
      },
      "execution_count": null,
      "outputs": [
        {
          "output_type": "execute_result",
          "data": {
            "text/plain": [
              "34.919999999999995"
            ]
          },
          "metadata": {},
          "execution_count": 98
        }
      ]
    },
    {
      "cell_type": "code",
      "source": [
        "np.percentile(y, 75)"
      ],
      "metadata": {
        "id": "obU0nD6POfRW",
        "outputId": "0efe467c-3dc8-4fd1-d09b-f7c1c0f11d40",
        "colab": {
          "base_uri": "https://localhost:8080/"
        }
      },
      "execution_count": null,
      "outputs": [
        {
          "output_type": "execute_result",
          "data": {
            "text/plain": [
              "21.0"
            ]
          },
          "metadata": {},
          "execution_count": 99
        }
      ]
    },
    {
      "cell_type": "markdown",
      "source": [
        "In this example, 8.0 is the median of x, while 0.1 and 21.0 are the sample 25th and 75th percentiles, respectively. The parameter n defines the number of resulting equal-probability percentiles, and method determines how to calculate them."
      ],
      "metadata": {
        "id": "dyQiDkV7N_Yx"
      }
    },
    {
      "cell_type": "markdown",
      "source": [
        "pd.Series objects have the method"
      ],
      "metadata": {
        "id": "9TMqIf-nO8_u"
      }
    },
    {
      "cell_type": "code",
      "source": [
        "z = pd.Series(y)\n",
        "z.quantile(0.05)\n",
        "\n",
        "z.quantile(0.95)\n",
        "\n",
        "z.quantile([0.25, 0.5, 0.75])"
      ],
      "metadata": {
        "id": "QypujqsTOygW",
        "outputId": "800fe032-1de7-4bd4-f8b7-a77c2cbb1aa0",
        "colab": {
          "base_uri": "https://localhost:8080/"
        }
      },
      "execution_count": null,
      "outputs": [
        {
          "output_type": "execute_result",
          "data": {
            "text/plain": [
              "0.25     0.1\n",
              "0.50     8.0\n",
              "0.75    21.0\n",
              "dtype: float64"
            ]
          },
          "metadata": {},
          "execution_count": 103
        }
      ]
    },
    {
      "cell_type": "markdown",
      "source": [
        ".quantile() also needs you to provide the quantile value as the argument. This value can be a number between 0 and 1 or a sequence of numbers. In the first case, .quantile() returns a scalar. In the second case, it returns a new Series holding the results."
      ],
      "metadata": {
        "id": "TSikjBIsPAvT"
      }
    },
    {
      "cell_type": "markdown",
      "source": [
        "### Summary of Descriptive Statistics"
      ],
      "metadata": {
        "id": "nhZ2V2dPPFdC"
      }
    },
    {
      "cell_type": "code",
      "source": [
        "result = z.describe()\n",
        "result"
      ],
      "metadata": {
        "id": "WP964yYGPG6b",
        "outputId": "01a82c5e-02be-4772-eb6f-abbaa1fa72eb",
        "colab": {
          "base_uri": "https://localhost:8080/"
        }
      },
      "execution_count": null,
      "outputs": [
        {
          "output_type": "execute_result",
          "data": {
            "text/plain": [
              "count     9.000000\n",
              "mean     11.622222\n",
              "std      15.124548\n",
              "min      -5.000000\n",
              "25%       0.100000\n",
              "50%       8.000000\n",
              "75%      21.000000\n",
              "max      41.000000\n",
              "dtype: float64"
            ]
          },
          "metadata": {},
          "execution_count": 104
        }
      ]
    },
    {
      "cell_type": "code",
      "source": [
        "result['mean']\n",
        "\n",
        "result['std']\n",
        "\n",
        "result['min']\n",
        "\n",
        "result['max']\n",
        "\n",
        "result['25%']\n",
        "\n",
        "result['50%']\n",
        "\n",
        "result['75%']"
      ],
      "metadata": {
        "id": "ORVaD4XePQsb",
        "outputId": "aab26022-c3e4-4f2c-e9c3-ccce29dea2ab",
        "colab": {
          "base_uri": "https://localhost:8080/"
        }
      },
      "execution_count": null,
      "outputs": [
        {
          "output_type": "execute_result",
          "data": {
            "text/plain": [
              "21.0"
            ]
          },
          "metadata": {},
          "execution_count": 105
        }
      ]
    },
    {
      "cell_type": "markdown",
      "source": [
        "## 8.4 Visualizing Data"
      ],
      "metadata": {
        "id": "6NC1neX8PdFc"
      }
    },
    {
      "cell_type": "markdown",
      "source": [
        "In addition to calculating the numerical quantities like mean, median, or variance, you can use visual methods to present, describe, and summarize data. In this section, you’ll learn how to present your data visually using the following graphs:\n",
        "\n",
        "* Box plots\n",
        "* Histograms\n",
        "* Pie charts\n",
        "* Bar charts\n",
        "* X-Y plots\n",
        "* Heatmaps"
      ],
      "metadata": {
        "id": "gKYn3_NaQBh7"
      }
    },
    {
      "cell_type": "code",
      "source": [
        "import matplotlib.pyplot as plt\n",
        "plt.style.use('ggplot')"
      ],
      "metadata": {
        "id": "9bLn2BBhQoho"
      },
      "execution_count": null,
      "outputs": []
    },
    {
      "cell_type": "markdown",
      "source": [
        "### Box plots"
      ],
      "metadata": {
        "id": "70tICQroRLMO"
      }
    },
    {
      "cell_type": "markdown",
      "source": [
        "The box plot is an excellent tool to visually represent descriptive statistics of a given dataset. It can show the range, interquartile range, median, mode, outliers, and all quartiles. First, create some data to represent with a box plot:"
      ],
      "metadata": {
        "id": "YDiAILxTRSm8"
      }
    },
    {
      "cell_type": "markdown",
      "source": [
        "**Note**: We’ll use pseudo-random numbers to get data to work with. You don’t need knowledge on random numbers to be able to understand this section. You just need some arbitrary numbers, and pseudo-random generators are a convenient tool to get them. The module np.random generates arrays of pseudo-random numbers:\n",
        "\n",
        "* Normally distributed numbers are generated with `np.random.randn()`.\n",
        "* Uniformly distributed integers are generated with `np.random.randint()`."
      ],
      "metadata": {
        "id": "hClB9n0qQXHi"
      }
    },
    {
      "cell_type": "code",
      "source": [
        "np.random.seed(seed=0)\n",
        "x = np.random.randn(1000)\n",
        "y = np.random.randn(100)\n",
        "z = np.random.randn(10)"
      ],
      "metadata": {
        "id": "ASk7C8dEQBFZ"
      },
      "execution_count": null,
      "outputs": []
    },
    {
      "cell_type": "markdown",
      "source": [
        "The first statement sets the seed of the NumPy random number generator with seed(), so you can get the same results each time you run the code. You don’t have to set the seed, but if you don’t specify this value, then you’ll get different results each time.\n",
        "\n",
        "The other statements generate three NumPy arrays with normally distributed pseudo-random numbers. x refers to the array with 1000 items, y has 100, and z contains 10 items. Now that you have the data to work with, you can apply .boxplot() to get the box plot:"
      ],
      "metadata": {
        "id": "__9ux0e1Q1oA"
      }
    },
    {
      "cell_type": "markdown",
      "source": [
        "The parameters of .boxplot() define the following:\n",
        "\n",
        "* x is your data.\n",
        "* vert sets the plot orientation to horizontal when False. The default orientation is vertical.\n",
        "* showmeans shows the mean of your data when True.\n",
        "* meanline represents the mean as a line when True. The default representation is a point.\n",
        "* labels: the labels of your data.\n",
        "* patch_artist determines how to draw the graph.\n",
        "* medianprops denotes the properties of the line representing the median.\n",
        "* meanprops indicates the properties of the line or dot representing the mean."
      ],
      "metadata": {
        "id": "FVkEGG9nSE1i"
      }
    },
    {
      "cell_type": "code",
      "source": [
        "fig, ax = plt.subplots()\n",
        "ax.boxplot((x, y, z), vert=False, showmeans=True, meanline=True,\n",
        "           labels=('x', 'y', 'z'), patch_artist=True,\n",
        "           medianprops={'linewidth': 2, 'color': 'purple'},\n",
        "           meanprops={'linewidth': 2, 'color': 'red'})\n",
        "plt.show()"
      ],
      "metadata": {
        "id": "wGmnzZ2JQ1RW",
        "outputId": "431132c3-cb46-4d09-d6d2-b4a039893200",
        "colab": {
          "base_uri": "https://localhost:8080/",
          "height": 430
        }
      },
      "execution_count": null,
      "outputs": [
        {
          "output_type": "display_data",
          "data": {
            "text/plain": [
              "<Figure size 640x480 with 1 Axes>"
            ],
            "image/png": "[encoded data removed]"
          },
          "metadata": {}
        }
      ]
    },
    {
      "cell_type": "markdown",
      "source": [
        "You can see three box plots. Each of them corresponds to a single dataset (x, y, or z) and show the following:\n",
        "\n",
        "* The mean is the red dashed line.\n",
        "* The median is the purple line.\n",
        "* The first quartile is the left edge of the blue rectangle.\n",
        "* The third quartile is the right edge of the blue rectangle.\n",
        "* The interquartile range is the length of the blue rectangle.\n",
        "* The range contains everything from left to right.\n",
        "* The outliers are the dots to the left and right."
      ],
      "metadata": {
        "id": "5oZ-H7bkR9Tt"
      }
    },
    {
      "cell_type": "markdown",
      "source": [
        "### Histograms"
      ],
      "metadata": {
        "id": "Nk43LlnMRPu4"
      }
    },
    {
      "cell_type": "markdown",
      "source": [
        "Histograms are particularly useful when there are a large number of unique values in a dataset. The histogram divides the values from a sorted dataset into intervals, also called bins. Often, all bins are of equal width, though this doesn’t have to be the case. The values of the lower and upper bounds of a bin are called the bin edges.\n",
        "\n",
        "The frequency is a single value that corresponds to each bin. It’s the number of elements of the dataset with the values between the edges of the bin. By convention, all bins but the rightmost one are half-open. They include the values equal to the lower bounds, but exclude the values equal to the upper bounds. The rightmost bin is closed because it includes both bounds. If you divide a dataset with the bin edges 0, 5, 10, and 15, then there are three bins:"
      ],
      "metadata": {
        "id": "FUs35Rr3SeVw"
      }
    },
    {
      "cell_type": "code",
      "source": [
        "x"
      ],
      "metadata": {
        "id": "epwepkNVS18a",
        "outputId": "8823d3b9-a35a-4ca5-80dd-4ad8b77bbd8c",
        "colab": {
          "base_uri": "https://localhost:8080/"
        }
      },
      "execution_count": null,
      "outputs": [
        {
          "output_type": "execute_result",
          "data": {
            "text/plain": [
              "array([ 1.76405235e+00,  4.00157208e-01,  9.78737984e-01,  2.24089320e+00,\n",
              "        1.86755799e+00, -9.77277880e-01,  9.50088418e-01, -1.51357208e-01,\n",
              "       -1.03218852e-01,  4.10598502e-01,  1.44043571e-01,  1.45427351e+00,\n",
              "        7.61037725e-01,  1.21675016e-01,  4.43863233e-01,  3.33674327e-01,\n",
              "        1.49407907e+00, -2.05158264e-01,  3.13067702e-01, -8.54095739e-01,\n",
              "       -2.55298982e+00,  6.53618595e-01,  8.64436199e-01, -7.42165020e-01,\n",
              "        2.26975462e+00, -1.45436567e+00,  4.57585173e-02, -1.87183850e-01,\n",
              "        1.53277921e+00,  1.46935877e+00,  1.54947426e-01,  3.78162520e-01,\n",
              "       -8.87785748e-01, -1.98079647e+00, -3.47912149e-01,  1.56348969e-01,\n",
              "        1.23029068e+00,  1.20237985e+00, -3.87326817e-01, -3.02302751e-01,\n",
              "       -1.04855297e+00, -1.42001794e+00, -1.70627019e+00,  1.95077540e+00,\n",
              "       -5.09652182e-01, -4.38074302e-01, -1.25279536e+00,  7.77490356e-01,\n",
              "       -1.61389785e+00, -2.12740280e-01, -8.95466561e-01,  3.86902498e-01,\n",
              "       -5.10805138e-01, -1.18063218e+00, -2.81822283e-02,  4.28331871e-01,\n",
              "        6.65172224e-02,  3.02471898e-01, -6.34322094e-01, -3.62741166e-01,\n",
              "       -6.72460448e-01, -3.59553162e-01, -8.13146282e-01, -1.72628260e+00,\n",
              "        1.77426142e-01, -4.01780936e-01, -1.63019835e+00,  4.62782256e-01,\n",
              "       -9.07298364e-01,  5.19453958e-02,  7.29090562e-01,  1.28982911e-01,\n",
              "        1.13940068e+00, -1.23482582e+00,  4.02341641e-01, -6.84810091e-01,\n",
              "       -8.70797149e-01, -5.78849665e-01, -3.11552532e-01,  5.61653422e-02,\n",
              "       -1.16514984e+00,  9.00826487e-01,  4.65662440e-01, -1.53624369e+00,\n",
              "        1.48825219e+00,  1.89588918e+00,  1.17877957e+00, -1.79924836e-01,\n",
              "       -1.07075262e+00,  1.05445173e+00, -4.03176947e-01,  1.22244507e+00,\n",
              "        2.08274978e-01,  9.76639036e-01,  3.56366397e-01,  7.06573168e-01,\n",
              "        1.05000207e-02,  1.78587049e+00,  1.26912093e-01,  4.01989363e-01,\n",
              "        1.88315070e+00, -1.34775906e+00, -1.27048500e+00,  9.69396708e-01,\n",
              "       -1.17312341e+00,  1.94362119e+00, -4.13618981e-01, -7.47454811e-01,\n",
              "        1.92294203e+00,  1.48051479e+00,  1.86755896e+00,  9.06044658e-01,\n",
              "       -8.61225685e-01,  1.91006495e+00, -2.68003371e-01,  8.02456396e-01,\n",
              "        9.47251968e-01, -1.55010093e-01,  6.14079370e-01,  9.22206672e-01,\n",
              "        3.76425531e-01, -1.09940079e+00,  2.98238174e-01,  1.32638590e+00,\n",
              "       -6.94567860e-01, -1.49634540e-01, -4.35153552e-01,  1.84926373e+00,\n",
              "        6.72294757e-01,  4.07461836e-01, -7.69916074e-01,  5.39249191e-01,\n",
              "       -6.74332661e-01,  3.18305583e-02, -6.35846078e-01,  6.76433295e-01,\n",
              "        5.76590817e-01, -2.08298756e-01,  3.96006713e-01, -1.09306151e+00,\n",
              "       -1.49125759e+00,  4.39391701e-01,  1.66673495e-01,  6.35031437e-01,\n",
              "        2.38314477e+00,  9.44479487e-01, -9.12822225e-01,  1.11701629e+00,\n",
              "       -1.31590741e+00, -4.61584605e-01, -6.82416053e-02,  1.71334272e+00,\n",
              "       -7.44754822e-01, -8.26438539e-01, -9.84525244e-02, -6.63478286e-01,\n",
              "        1.12663592e+00, -1.07993151e+00, -1.14746865e+00, -4.37820045e-01,\n",
              "       -4.98032451e-01,  1.92953205e+00,  9.49420807e-01,  8.75512414e-02,\n",
              "       -1.22543552e+00,  8.44362976e-01, -1.00021535e+00, -1.54477110e+00,\n",
              "        1.18802979e+00,  3.16942612e-01,  9.20858824e-01,  3.18727653e-01,\n",
              "        8.56830612e-01, -6.51025593e-01, -1.03424284e+00,  6.81594518e-01,\n",
              "       -8.03409664e-01, -6.89549778e-01, -4.55532504e-01,  1.74791590e-02,\n",
              "       -3.53993911e-01, -1.37495129e+00, -6.43618403e-01, -2.22340315e+00,\n",
              "        6.25231451e-01, -1.60205766e+00, -1.10438334e+00,  5.21650793e-02,\n",
              "       -7.39562996e-01,  1.54301460e+00, -1.29285691e+00,  2.67050869e-01,\n",
              "       -3.92828182e-02, -1.16809350e+00,  5.23276661e-01, -1.71546331e-01,\n",
              "        7.71790551e-01,  8.23504154e-01,  2.16323595e+00,  1.33652795e+00,\n",
              "       -3.69181838e-01, -2.39379178e-01,  1.09965960e+00,  6.55263731e-01,\n",
              "        6.40131526e-01, -1.61695604e+00, -2.43261244e-02, -7.38030909e-01,\n",
              "        2.79924599e-01, -9.81503896e-02,  9.10178908e-01,  3.17218215e-01,\n",
              "        7.86327962e-01, -4.66419097e-01, -9.44446256e-01, -4.10049693e-01,\n",
              "       -1.70204139e-02,  3.79151736e-01,  2.25930895e+00, -4.22571517e-02,\n",
              "       -9.55945000e-01, -3.45981776e-01, -4.63595975e-01,  4.81481474e-01,\n",
              "       -1.54079701e+00,  6.32619942e-02,  1.56506538e-01,  2.32181036e-01,\n",
              "       -5.97316069e-01, -2.37921730e-01, -1.42406091e+00, -4.93319883e-01,\n",
              "       -5.42861476e-01,  4.16050046e-01, -1.15618243e+00,  7.81198102e-01,\n",
              "        1.49448454e+00, -2.06998503e+00,  4.26258731e-01,  6.76908035e-01,\n",
              "       -6.37437026e-01, -3.97271814e-01, -1.32880578e-01, -2.97790879e-01,\n",
              "       -3.09012969e-01, -1.67600381e+00,  1.15233156e+00,  1.07961859e+00,\n",
              "       -8.13364259e-01, -1.46642433e+00,  5.21064876e-01, -5.75787970e-01,\n",
              "        1.41953163e-01, -3.19328417e-01,  6.91538751e-01,  6.94749144e-01,\n",
              "       -7.25597378e-01, -1.38336396e+00, -1.58293840e+00,  6.10379379e-01,\n",
              "       -1.18885926e+00, -5.06816354e-01, -5.96314038e-01, -5.25672963e-02,\n",
              "       -1.93627981e+00,  1.88778597e-01,  5.23891024e-01,  8.84220870e-02,\n",
              "       -3.10886172e-01,  9.74001663e-02,  3.99046346e-01, -2.77259276e+00,\n",
              "        1.95591231e+00,  3.90093323e-01, -6.52408582e-01, -3.90953375e-01,\n",
              "        4.93741777e-01, -1.16103939e-01, -2.03068447e+00,  2.06449286e+00,\n",
              "       -1.10540657e-01,  1.02017271e+00, -6.92049848e-01,  1.53637705e+00,\n",
              "        2.86343689e-01,  6.08843834e-01, -1.04525337e+00,  1.21114529e+00,\n",
              "        6.89818165e-01,  1.30184623e+00, -6.28087560e-01, -4.81027118e-01,\n",
              "        2.30391670e+00, -1.06001582e+00, -1.35949701e-01,  1.13689136e+00,\n",
              "        9.77249677e-02,  5.82953680e-01, -3.99449029e-01,  3.70055888e-01,\n",
              "       -1.30652685e+00,  1.65813068e+00, -1.18164045e-01, -6.80178204e-01,\n",
              "        6.66383082e-01, -4.60719787e-01, -1.33425847e+00, -1.34671751e+00,\n",
              "        6.93773153e-01, -1.59573438e-01, -1.33701560e-01,  1.07774381e+00,\n",
              "       -1.12682581e+00, -7.30677753e-01, -3.84879809e-01,  9.43515893e-02,\n",
              "       -4.21714513e-02, -2.86887192e-01, -6.16264021e-02, -1.07305276e-01,\n",
              "       -7.19604389e-01, -8.12992989e-01,  2.74516358e-01, -8.90915083e-01,\n",
              "       -1.15735526e+00, -3.12292251e-01, -1.57667016e-01,  2.25672350e+00,\n",
              "       -7.04700276e-01,  9.43260725e-01,  7.47188334e-01, -1.18894496e+00,\n",
              "        7.73252977e-01, -1.18388064e+00, -2.65917224e+00,  6.06319524e-01,\n",
              "       -1.75589058e+00,  4.50934462e-01, -6.84010898e-01,  1.65955080e+00,\n",
              "        1.06850940e+00, -4.53385804e-01, -6.87837611e-01, -1.21407740e+00,\n",
              "       -4.40922632e-01, -2.80355495e-01, -3.64693544e-01,  1.56703855e-01,\n",
              "        5.78521498e-01,  3.49654457e-01, -7.64143924e-01, -1.43779147e+00,\n",
              "        1.36453185e+00, -6.89449185e-01, -6.52293600e-01, -5.21189312e-01,\n",
              "       -1.84306955e+00, -4.77974004e-01, -4.79655814e-01,  6.20358298e-01,\n",
              "        6.98457149e-01,  3.77088909e-03,  9.31848374e-01,  3.39964984e-01,\n",
              "       -1.56821116e-02,  1.60928168e-01, -1.90653494e-01, -3.94849514e-01,\n",
              "       -2.67733537e-01, -1.12801133e+00,  2.80441705e-01, -9.93123611e-01,\n",
              "        8.41631264e-01, -2.49458580e-01,  4.94949817e-02,  4.93836776e-01,\n",
              "        6.43314465e-01, -1.57062341e+00, -2.06903676e-01,  8.80178912e-01,\n",
              "       -1.69810582e+00,  3.87280475e-01, -2.25556423e+00, -1.02250684e+00,\n",
              "        3.86305518e-02, -1.65671510e+00, -9.85510738e-01, -1.47183501e+00,\n",
              "        1.64813493e+00,  1.64227755e-01,  5.67290278e-01, -2.22675101e-01,\n",
              "       -3.53431749e-01, -1.61647419e+00, -2.91837363e-01, -7.61492212e-01,\n",
              "        8.57923924e-01,  1.14110187e+00,  1.46657872e+00,  8.52551939e-01,\n",
              "       -5.98653937e-01, -1.11589699e+00,  7.66663182e-01,  3.56292817e-01,\n",
              "       -1.76853845e+00,  3.55481793e-01,  8.14519822e-01,  5.89255892e-02,\n",
              "       -1.85053671e-01, -8.07648488e-01, -1.44653470e+00,  8.00297949e-01,\n",
              "       -3.09114445e-01, -2.33466662e-01,  1.73272119e+00,  6.84501107e-01,\n",
              "        3.70825001e-01,  1.42061805e-01,  1.51999486e+00,  1.71958931e+00,\n",
              "        9.29505111e-01,  5.82224591e-01, -2.09460307e+00,  1.23721914e-01,\n",
              "       -1.30106954e-01,  9.39532294e-02,  9.43046087e-01, -2.73967717e+00,\n",
              "       -5.69312053e-01,  2.69904355e-01, -4.66845546e-01, -1.41690611e+00,\n",
              "        8.68963487e-01,  2.76871906e-01, -9.71104570e-01,  3.14817205e-01,\n",
              "        8.21585712e-01,  5.29264630e-03,  8.00564803e-01,  7.82601752e-02,\n",
              "       -3.95228983e-01, -1.15942052e+00, -8.59307670e-02,  1.94292938e-01,\n",
              "        8.75832762e-01, -1.15107468e-01,  4.57415606e-01, -9.64612014e-01,\n",
              "       -7.82629156e-01, -1.10389299e-01, -1.05462846e+00,  8.20247837e-01,\n",
              "        4.63130329e-01,  2.79095764e-01,  3.38904125e-01,  2.02104356e+00,\n",
              "       -4.68864188e-01, -2.20144129e+00,  1.99300197e-01, -5.06035410e-02,\n",
              "       -5.17519043e-01, -9.78829859e-01, -4.39189522e-01,  1.81338429e-01,\n",
              "       -5.02816701e-01,  2.41245368e+00, -9.60504382e-01, -7.93117363e-01,\n",
              "       -2.28862004e+00,  2.51484415e-01, -2.01640663e+00, -5.39454633e-01,\n",
              "       -2.75670535e-01, -7.09727966e-01,  1.73887268e+00,  9.94394391e-01,\n",
              "        1.31913688e+00, -8.82418819e-01,  1.12859406e+00,  4.96000946e-01,\n",
              "        7.71405949e-01,  1.02943883e+00, -9.08763246e-01, -4.24317621e-01,\n",
              "        8.62596011e-01, -2.65561909e+00,  1.51332808e+00,  5.53132064e-01,\n",
              "       -4.57039607e-02,  2.20507656e-01, -1.02993528e+00, -3.49943365e-01,\n",
              "        1.10028434e+00,  1.29802197e+00,  2.69622405e+00, -7.39246663e-02,\n",
              "       -6.58552967e-01, -5.14233966e-01, -1.01804188e+00, -7.78547559e-02,\n",
              "        3.82732430e-01, -3.42422805e-02,  1.09634685e+00, -2.34215801e-01,\n",
              "       -3.47450652e-01, -5.81268477e-01, -1.63263453e+00, -1.56776772e+00,\n",
              "       -1.17915793e+00,  1.30142807e+00,  8.95260273e-01,  1.37496407e+00,\n",
              "       -1.33221165e+00, -1.96862469e+00, -6.60056320e-01,  1.75818953e-01,\n",
              "        4.98690275e-01,  1.04797216e+00,  2.84279671e-01,  1.74266878e+00,\n",
              "       -2.22605681e-01, -9.13079218e-01, -1.68121822e+00, -8.88971358e-01,\n",
              "        2.42117961e-01, -8.88720257e-01,  9.36742464e-01,  1.41232771e+00,\n",
              "       -2.36958691e+00,  8.64052300e-01, -2.23960406e+00,  4.01499055e-01,\n",
              "        1.22487056e+00,  6.48561063e-02, -1.27968917e+00, -5.85431204e-01,\n",
              "       -2.61645446e-01, -1.82244784e-01, -2.02896841e-01, -1.09882779e-01,\n",
              "        2.13480049e-01, -1.20857365e+00, -2.42019830e-01,  1.51826117e+00,\n",
              "       -3.84645423e-01, -4.43836093e-01,  1.07819730e+00, -2.55918467e+00,\n",
              "        1.18137860e+00, -6.31903758e-01,  1.63928572e-01,  9.63213559e-02,\n",
              "        9.42468119e-01, -2.67594746e-01, -6.78025782e-01,  1.29784579e+00,\n",
              "       -2.36417382e+00,  2.03341817e-02, -1.34792542e+00, -7.61573388e-01,\n",
              "        2.01125668e+00, -4.45954265e-02,  1.95069697e-01, -1.78156286e+00,\n",
              "       -7.29044659e-01,  1.96557401e-01,  3.54757693e-01,  6.16886554e-01,\n",
              "        8.62789892e-03,  5.27004208e-01,  4.53781913e-01, -1.82974041e+00,\n",
              "        3.70057219e-02,  7.67902408e-01,  5.89879821e-01, -3.63858810e-01,\n",
              "       -8.05626508e-01, -1.11831192e+00, -1.31054012e-01,  1.13307988e+00,\n",
              "       -1.95180410e+00, -6.59891730e-01, -1.13980246e+00,  7.84957521e-01,\n",
              "       -5.54309627e-01, -4.70637658e-01, -2.16949570e-01,  4.45393251e-01,\n",
              "       -3.92388998e-01, -3.04614305e+00,  5.43311891e-01,  4.39042958e-01,\n",
              "       -2.19541028e-01, -1.08403662e+00,  3.51780111e-01,  3.79235534e-01,\n",
              "       -4.70032883e-01, -2.16731471e-01, -9.30156503e-01, -1.78589092e-01,\n",
              "       -1.55042935e+00,  4.17318821e-01, -9.44368491e-01,  2.38103148e-01,\n",
              "       -1.40596292e+00, -5.90057646e-01, -1.10489405e-01, -1.66069981e+00,\n",
              "        1.15147873e-01, -3.79147563e-01, -1.74235620e+00, -1.30324275e+00,\n",
              "        6.05120084e-01,  8.95555986e-01, -1.31908640e-01,  4.04761812e-01,\n",
              "        2.23843563e-01,  3.29622982e-01,  1.28598401e+00, -1.50699840e+00,\n",
              "        6.76460732e-01, -3.82008956e-01, -2.24258934e-01, -3.02249730e-01,\n",
              "       -3.75147117e-01, -1.22619619e+00,  1.83339199e-01,  1.67094303e+00,\n",
              "       -5.61330204e-02, -1.38504274e-03, -6.87299037e-01, -1.17474546e-01,\n",
              "        4.66166426e-01, -3.70242441e-01, -4.53804041e-01,  4.03264540e-01,\n",
              "       -9.18004770e-01,  2.52496627e-01,  8.20321797e-01,  1.35994854e+00,\n",
              "       -9.03820073e-02,  1.36759724e+00,  1.03440989e+00, -9.96212640e-01,\n",
              "       -1.21793851e+00, -3.04963638e-01,  1.02893549e+00, -7.22870076e-02,\n",
              "       -6.00657558e-01,  1.55224318e+00,  2.86904488e-01, -2.32059428e+00,\n",
              "        3.17160626e-01,  5.20040615e-01,  2.25608654e-01,  4.49712100e-01,\n",
              "       -6.72756089e-02, -1.31839587e+00, -3.70704003e-01, -9.45615796e-01,\n",
              "       -9.32740911e-01, -1.26306835e+00,  4.52489093e-01,  9.78961454e-02,\n",
              "       -4.48165363e-01, -6.49337928e-01, -2.34231050e-02,  1.07919473e+00,\n",
              "       -2.00421572e+00,  3.76876521e-01, -5.45711974e-01, -1.88458584e+00,\n",
              "       -1.94570308e+00, -9.12783494e-01,  2.19509556e-01,  3.93062934e-01,\n",
              "       -9.38981573e-01,  1.01702099e+00,  1.42298350e+00,  3.96086585e-01,\n",
              "       -5.91402668e-01,  1.12441918e+00,  7.55395696e-01,  8.67407411e-01,\n",
              "       -6.56463675e-01, -2.83455451e+00,  2.11679102e+00, -1.61087840e+00,\n",
              "       -3.57680719e-02,  2.38074535e+00,  3.30576756e-01,  9.49246474e-01,\n",
              "       -1.50239657e+00, -1.77766695e+00, -5.32702792e-01,  1.09074973e+00,\n",
              "       -3.46249448e-01, -7.94636321e-01,  1.97967290e-01,  1.08193522e+00,\n",
              "       -1.44494020e+00, -1.21054299e+00, -7.88669255e-01,  1.09463837e+00,\n",
              "        2.34821526e-01,  2.13215341e+00,  9.36445726e-01, -3.50951769e-02,\n",
              "        1.26507784e+00,  2.11497013e-01, -7.04921353e-01,  6.79974844e-01,\n",
              "       -6.96326654e-01, -2.90397101e-01,  1.32778270e+00, -1.01281486e-01,\n",
              "       -8.03141387e-01, -4.64337691e-01,  1.02179059e+00, -5.52540673e-01,\n",
              "       -3.86870847e-01, -5.10292740e-01,  1.83925494e-01, -3.85489760e-01,\n",
              "       -1.60183605e+00, -8.87180942e-01, -9.32789042e-01,  1.24331938e+00,\n",
              "        8.12674042e-01,  5.87259379e-01, -5.05358317e-01, -8.15791542e-01,\n",
              "       -5.07517602e-01, -1.05188010e+00,  2.49720039e+00, -2.24532165e+00,\n",
              "        5.64008535e-01, -1.28455230e+00, -1.04343491e-01, -9.88001942e-01,\n",
              "       -1.17762896e+00, -1.14019630e+00,  1.75498615e+00, -1.32988422e-01,\n",
              "       -7.65702194e-01,  5.55786964e-01,  1.03493146e-02,  7.20033759e-01,\n",
              "       -1.82425666e+00,  3.03603904e-01,  7.72694837e-01, -1.66159829e+00,\n",
              "        4.48195284e-01,  1.69618157e+00, -1.48577034e-02,  8.21405937e-01,\n",
              "        6.70570450e-01, -7.07505698e-01,  3.97667346e-02, -1.56699471e+00,\n",
              "       -4.51303037e-01,  2.65687975e-01,  7.23100494e-01,  2.46121252e-02,\n",
              "        7.19983730e-01, -1.10290621e+00, -1.01697275e-01,  1.92793845e-02,\n",
              "        1.84959125e+00, -2.14166656e-01, -4.99016638e-01,  2.13512238e-02,\n",
              "       -9.19113445e-01,  1.92753849e-01, -3.65055217e-01, -1.79132755e+00,\n",
              "       -5.85865511e-02, -3.17543094e-01, -1.63242330e+00, -6.71341546e-02,\n",
              "        1.48935596e+00,  5.21303748e-01,  6.11927193e-01, -1.34149673e+00,\n",
              "        4.76898369e-01,  1.48449581e-01,  5.29045238e-01,  4.22628622e-01,\n",
              "       -1.35978073e+00, -4.14008116e-02, -7.57870860e-01, -5.00840943e-02,\n",
              "       -8.97400927e-01,  1.31247037e+00, -8.58972388e-01, -8.98942156e-01,\n",
              "        7.45864065e-02, -1.07709907e+00, -4.24663302e-01, -8.29964598e-01,\n",
              "        1.41117206e+00,  7.85803827e-01, -5.74695185e-02, -3.91217052e-01,\n",
              "        9.40917615e-01,  4.05204080e-01,  4.98052405e-01, -2.61922373e-02,\n",
              "       -1.68823003e+00, -1.12465983e-01, -5.32489919e-01,  6.45055273e-01,\n",
              "        1.01184243e+00, -6.57951045e-01,  4.68385234e-01,  1.73587900e+00,\n",
              "       -6.67712721e-01,  1.68192174e+00, -8.52585847e-01,  2.29597556e-02,\n",
              "       -1.11456118e-02,  1.14988999e-02, -8.37678042e-01, -5.91183104e-01,\n",
              "       -6.67720286e-01,  3.26962595e-01,  3.30035115e-01,  2.22594433e+00,\n",
              "        1.37098901e+00, -5.09843242e-01,  3.24869616e-01,  9.97117981e-01,\n",
              "        3.06018243e-02, -6.96415784e-02,  5.15749428e-02,  8.67276629e-01,\n",
              "       -8.48320523e-01, -3.25669469e-01,  4.70433145e-01,  3.11447072e-01,\n",
              "        2.39582760e-01, -3.69801166e-01,  9.72535789e-01,  2.13386825e+00,\n",
              "        4.06415494e-01, -1.93176702e-01,  7.55740289e-01, -5.39132637e-01,\n",
              "       -7.49690345e-01,  3.28087476e-02, -2.58279663e+00, -1.15395036e+00,\n",
              "       -3.47961856e-01, -1.35338886e+00, -1.03264310e+00, -4.36748337e-01,\n",
              "       -1.64296529e+00, -4.06071796e-01, -5.35270165e-01,  2.54052084e-02,\n",
              "        1.15418403e+00,  1.72504416e-01,  2.10620213e-02,  9.94544570e-02,\n",
              "        2.27392775e-01, -1.01673865e+00, -1.14775325e-01,  3.08751242e-01,\n",
              "       -1.37075998e+00,  8.65652923e-01,  1.08137603e+00, -6.31375988e-01,\n",
              "       -2.41337791e-01, -8.78190343e-01,  6.99380484e-01, -1.06122229e+00,\n",
              "       -2.22477010e-01, -8.58919908e-01,  5.09542770e-02, -1.79422927e+00,\n",
              "        1.32646164e+00, -9.64606424e-01,  5.98946831e-02, -2.12523045e-01,\n",
              "       -7.62114512e-01, -8.87780137e-01,  9.36398544e-01, -5.25640593e-01,\n",
              "        2.71170185e-01, -8.01496885e-01, -6.47181432e-01,  4.72247150e-01,\n",
              "        9.30408496e-01, -1.75316402e-01, -1.42191987e+00,  1.99795608e+00,\n",
              "       -8.56549308e-01, -1.54158740e+00,  2.59442459e+00, -4.04032294e-01,\n",
              "       -1.46173269e+00, -6.83439767e-01,  3.67544896e-01,  1.90311558e-01,\n",
              "       -8.51729197e-01,  1.82272360e+00, -5.21579678e-01, -1.18468659e+00,\n",
              "        9.60693398e-01,  1.32906285e+00, -8.17493098e-01, -1.40134729e+00,\n",
              "        1.03043827e+00, -2.04732361e+00, -1.22662166e+00,  9.67446150e-01,\n",
              "       -5.53525480e-02, -2.63937349e-01,  3.52816606e-01, -1.52774424e-01,\n",
              "       -1.29868672e+00,  1.27607535e+00,  1.32501405e+00,  2.05332564e-01,\n",
              "        4.51340154e-02,  2.33962481e+00, -2.76432845e-01, -2.59576982e-01,\n",
              "        3.64481249e-01,  1.47132196e+00,  1.59277075e+00, -2.58572632e-01,\n",
              "        3.08331246e-01, -1.37808347e+00, -3.11976108e-01, -8.40290395e-01,\n",
              "       -1.00683175e+00,  1.68157672e+00, -7.92286662e-01, -5.31605908e-01,\n",
              "        3.65848788e-01,  1.29782527e+00,  4.81115126e-01,  2.75935511e+00,\n",
              "       -7.46679783e-02,  2.58716440e-01,  2.75600674e-01,  1.43504939e+00,\n",
              "        5.07238951e-01, -1.16229700e-01, -9.47488595e-01,  2.44443456e-01,\n",
              "        1.40134483e+00, -4.10381794e-01,  5.28943618e-01,  2.46147789e-01,\n",
              "        8.63519658e-01, -8.04753741e-01,  2.34664703e+00, -1.27916111e+00,\n",
              "       -3.65551090e-01,  9.38092541e-01,  2.96733172e-01,  8.29986159e-01,\n",
              "       -4.96102334e-01, -7.48049827e-02,  1.22319836e-02,  1.56925961e+00,\n",
              "        6.90429024e-01,  7.96672108e-01, -6.57926093e-01,  9.68882639e-01,\n",
              "        2.25581664e-01,  1.38914532e+00,  2.01406015e+00, -3.06765776e-01,\n",
              "       -4.06303130e-01, -8.64044991e-01, -1.43579512e-01, -3.82025449e-01,\n",
              "        3.59504400e-01, -1.44566817e-01, -3.61599281e-01,  1.06458514e+00,\n",
              "       -9.37880231e-01,  4.33107953e-01, -4.05941727e-01,  7.24368505e-01,\n",
              "        1.38526155e+00, -3.03098253e-01,  4.41032907e-01,  1.78792866e-01,\n",
              "       -7.99422400e-01,  2.40787510e-01,  2.89120505e-01,  4.12870820e-01,\n",
              "       -1.98398897e-01,  9.41923003e-02, -1.14761094e+00, -3.58114075e-01])"
            ]
          },
          "metadata": {},
          "execution_count": 113
        }
      ]
    },
    {
      "cell_type": "code",
      "source": [
        "hist, bin_edges = np.histogram(x, bins=10)\n",
        "hist\n",
        "\n",
        "bin_edges"
      ],
      "metadata": {
        "id": "dvILTIqtSwl4",
        "outputId": "ce87c2d2-5d05-483c-ea40-8bc05a8ec167",
        "colab": {
          "base_uri": "https://localhost:8080/"
        }
      },
      "execution_count": null,
      "outputs": [
        {
          "output_type": "execute_result",
          "data": {
            "text/plain": [
              "array([-3.04614305, -2.46559324, -1.88504342, -1.3044936 , -0.72394379,\n",
              "       -0.14339397,  0.43715585,  1.01770566,  1.59825548,  2.1788053 ,\n",
              "        2.75935511])"
            ]
          },
          "metadata": {},
          "execution_count": 112
        }
      ]
    },
    {
      "cell_type": "markdown",
      "source": [
        "It takes the array with your data and the number (or edges) of bins and returns two NumPy arrays:\n",
        "\n",
        "1. hist contains the frequency or the number of items corresponding to each bin.\n",
        "2. bin_edges contains the edges or bounds of the bin."
      ],
      "metadata": {
        "id": "Dd0hLYOhTKTI"
      }
    },
    {
      "cell_type": "markdown",
      "source": [
        "The first argument of .hist() is the sequence with your data. The second argument defines the edges of the bins. The third disables the option to create a histogram with cumulative values. The code above produces a figure like this:"
      ],
      "metadata": {
        "id": "24m8cdsVTXXh"
      }
    },
    {
      "cell_type": "code",
      "source": [
        "fig, ax = plt.subplots()\n",
        "ax.hist(x, bin_edges, cumulative=False)\n",
        "ax.set_xlabel('x')\n",
        "ax.set_ylabel('Frequency')\n",
        "plt.show()"
      ],
      "metadata": {
        "id": "8BS8t73VTNxV",
        "outputId": "67a36494-fc89-43ae-9245-9262f3f157e5",
        "colab": {
          "base_uri": "https://localhost:8080/",
          "height": 457
        }
      },
      "execution_count": null,
      "outputs": [
        {
          "output_type": "display_data",
          "data": {
            "text/plain": [
              "<Figure size 640x480 with 1 Axes>"
            ],
            "image/png": "[encoded data removed]"
          },
          "metadata": {}
        }
      ]
    },
    {
      "cell_type": "code",
      "source": [
        "fig, ax = plt.subplots()\n",
        "ax.hist(x, bin_edges, cumulative=True)\n",
        "ax.set_xlabel('x')\n",
        "ax.set_ylabel('Frequency')\n",
        "plt.show()"
      ],
      "metadata": {
        "id": "fD5b3qtoTcHr",
        "outputId": "8c4b3440-0825-4277-8c88-0f87faf7955f",
        "colab": {
          "base_uri": "https://localhost:8080/",
          "height": 453
        }
      },
      "execution_count": null,
      "outputs": [
        {
          "output_type": "display_data",
          "data": {
            "text/plain": [
              "<Figure size 640x480 with 1 Axes>"
            ],
            "image/png": "[encoded data removed]"
          },
          "metadata": {}
        }
      ]
    },
    {
      "cell_type": "markdown",
      "source": [
        "### Pie Charts"
      ],
      "metadata": {
        "id": "lMXs4ajZTRrz"
      }
    },
    {
      "cell_type": "markdown",
      "source": [
        "Pie charts represent data with a small number of labels and given relative frequencies. A pie chart is a circle divided into multiple slices. Each slice corresponds to a single distinct label from the dataset and has an area proportional to the relative frequency associated with that label."
      ],
      "metadata": {
        "id": "zMQMcNqATs3f"
      }
    },
    {
      "cell_type": "code",
      "source": [
        "x, y, z = 128, 256, 1024"
      ],
      "metadata": {
        "id": "dhoLZxiqTRIP"
      },
      "execution_count": null,
      "outputs": []
    },
    {
      "cell_type": "markdown",
      "source": [
        "Now, create a pie chart with .pie():"
      ],
      "metadata": {
        "id": "jrUAzn-OUL2F"
      }
    },
    {
      "cell_type": "markdown",
      "source": [
        "The first argument of .pie() is your data, and the second is the sequence of the corresponding labels. autopct defines the format of the relative frequencies shown on the figure. You’ll get a figure that looks like this:"
      ],
      "metadata": {
        "id": "_8fBgAV8UPor"
      }
    },
    {
      "cell_type": "code",
      "source": [
        "fig, ax = plt.subplots()\n",
        "ax.pie((x, y, z), labels=('x', 'y', 'z'), autopct='%1.1f%%')\n",
        "plt.show()"
      ],
      "metadata": {
        "id": "IhAETC9sUJ3z",
        "outputId": "ab7b8e07-a0a6-49e6-a614-8aabd4d2a0b3",
        "colab": {
          "base_uri": "https://localhost:8080/",
          "height": 406
        }
      },
      "execution_count": null,
      "outputs": [
        {
          "output_type": "display_data",
          "data": {
            "text/plain": [
              "<Figure size 640x480 with 1 Axes>"
            ],
            "image/png": "[encoded data removed]"
          },
          "metadata": {}
        }
      ]
    },
    {
      "cell_type": "markdown",
      "source": [
        "### Bar Charts"
      ],
      "metadata": {
        "id": "CYSCq-pFUgPp"
      }
    },
    {
      "cell_type": "markdown",
      "source": [
        "Bar charts also illustrate data that correspond to given labels or discrete numeric values. They can show the pairs of data from two datasets. Items of one set are the labels, while the corresponding items of the other are their frequencies. Optionally, they can show the errors related to the frequencies, as well.\n",
        "\n",
        "The bar chart shows parallel rectangles called bars. Each bar corresponds to a single label and has a height proportional to the frequency or relative frequency of its label. Let’s generate three datasets, each with 21 items:"
      ],
      "metadata": {
        "id": "dNsIpPowUlCq"
      }
    },
    {
      "cell_type": "code",
      "source": [
        "x = np.arange(21)\n",
        "y = np.random.randint(21, size=21)\n",
        "err = np.random.randn(21)"
      ],
      "metadata": {
        "id": "5rSMS7A6Uo81"
      },
      "execution_count": null,
      "outputs": []
    },
    {
      "cell_type": "markdown",
      "source": [
        "You use np.arange() to get x, or the array of consecutive integers from 0 to 20. You’ll use this to represent the labels. y is an array of uniformly distributed random integers, also between 0 and 20. This array will represent the frequencies.\n",
        "\n",
        "You can create a bar chart with .bar() if you want vertical bars or .barh() if you’d like horizontal bars:"
      ],
      "metadata": {
        "id": "7swju7kKUsSP"
      }
    },
    {
      "cell_type": "code",
      "source": [
        "fig, ax = plt.subplots()\n",
        "ax.bar(x, y)\n",
        "ax.set_xlabel('x')\n",
        "ax.set_ylabel('y')\n",
        "plt.show()"
      ],
      "metadata": {
        "id": "0Vok-HqHUvKI",
        "outputId": "9c1ee332-dcb4-4368-859f-40e591d839f4",
        "colab": {
          "base_uri": "https://localhost:8080/",
          "height": 453
        }
      },
      "execution_count": null,
      "outputs": [
        {
          "output_type": "display_data",
          "data": {
            "text/plain": [
              "<Figure size 640x480 with 1 Axes>"
            ],
            "image/png": "[encoded data removed]"
          },
          "metadata": {}
        }
      ]
    },
    {
      "cell_type": "markdown",
      "source": [
        "### X-Y Plots\n"
      ],
      "metadata": {
        "id": "b_JA89VmVMyG"
      }
    },
    {
      "cell_type": "markdown",
      "source": [
        "The x-y plot or scatter plot represents the pairs of data from two datasets. The horizontal x-axis shows the values from the set x, while the vertical y-axis shows the corresponding values from the set y. You can optionally include the regression line and the correlation coefficient. Let’s generate two datasets and perform linear regression with scipy.stats.linregress():"
      ],
      "metadata": {
        "id": "1REGwnwsVQ_y"
      }
    },
    {
      "cell_type": "code",
      "source": [
        "x = np.arange(21)\n",
        "y = 5 + 2 * x + 2 * np.random.randn(21)\n",
        "slope, intercept, r, *__ = scipy.stats.linregress(x, y)\n",
        "line = f'Regression line: y={intercept:.2f}+{slope:.2f}x, r={r:.2f}'"
      ],
      "metadata": {
        "id": "cCrz1kdnVQbB"
      },
      "execution_count": null,
      "outputs": []
    },
    {
      "cell_type": "markdown",
      "source": [
        "The dataset x is again the array with the integers from 0 to 20. y is calculated as a linear function of x distorted with some random noise.\n",
        "\n",
        "linregress returns several values. You’ll need the slope and intercept of the regression line, as well as the correlation coefficient r. Then you can apply .plot() to get the x-y plot:"
      ],
      "metadata": {
        "id": "2SxEXoqGVWR5"
      }
    },
    {
      "cell_type": "code",
      "source": [
        "fig, ax = plt.subplots()\n",
        "ax.plot(x, y, linewidth=0, marker='s', label='Data points')\n",
        "ax.plot(x, intercept + slope * x, label=line)\n",
        "ax.set_xlabel('x')\n",
        "ax.set_ylabel('y')\n",
        "ax.legend(facecolor='white')\n",
        "plt.show()"
      ],
      "metadata": {
        "id": "Greyyn0HVYc0",
        "outputId": "fb2e9b48-2254-4563-b222-e50282edb0b0",
        "colab": {
          "base_uri": "https://localhost:8080/",
          "height": 453
        }
      },
      "execution_count": null,
      "outputs": [
        {
          "output_type": "display_data",
          "data": {
            "text/plain": [
              "<Figure size 640x480 with 1 Axes>"
            ],
            "image/png": "[encoded data removed]"
          },
          "metadata": {}
        }
      ]
    },
    {
      "cell_type": "markdown",
      "source": [
        "### Heatmaps"
      ],
      "metadata": {
        "id": "bQoaUta1V1wV"
      }
    },
    {
      "cell_type": "markdown",
      "source": [
        "A heatmap can be used to visually show a matrix. The colors represent the numbers or elements of the matrix. Heatmaps are particularly useful for illustrating the covariance and correlation matrices. You can create the heatmap for a covariance matrix with .imshow():"
      ],
      "metadata": {
        "id": "DC-tuioIV5gf"
      }
    },
    {
      "cell_type": "code",
      "source": [
        "x"
      ],
      "metadata": {
        "id": "K97OY7QgWFL4",
        "outputId": "9799df0f-1f29-4668-c7d0-2aa7b2c253b2",
        "colab": {
          "base_uri": "https://localhost:8080/"
        }
      },
      "execution_count": null,
      "outputs": [
        {
          "output_type": "execute_result",
          "data": {
            "text/plain": [
              "array([ 0,  1,  2,  3,  4,  5,  6,  7,  8,  9, 10, 11, 12, 13, 14, 15, 16,\n",
              "       17, 18, 19, 20])"
            ]
          },
          "metadata": {},
          "execution_count": 127
        }
      ]
    },
    {
      "cell_type": "code",
      "source": [
        "y"
      ],
      "metadata": {
        "id": "t2k2NPgyWGJV",
        "outputId": "d341e53e-8e67-47a3-a0aa-a85a6efc7b9c",
        "colab": {
          "base_uri": "https://localhost:8080/"
        }
      },
      "execution_count": null,
      "outputs": [
        {
          "output_type": "execute_result",
          "data": {
            "text/plain": [
              "array([ 6.13232555,  8.55733376,  8.97805203, 13.15176913, 14.20708745,\n",
              "       15.73613486, 17.07812916, 17.91229004, 21.21219138, 22.18710032,\n",
              "       22.42183093, 29.76501729, 30.02979532, 34.28144896, 31.64226534,\n",
              "       33.68873413, 39.07998467, 39.29693138, 43.02243391, 44.69029265,\n",
              "       46.5094767 ])"
            ]
          },
          "metadata": {},
          "execution_count": 128
        }
      ]
    },
    {
      "cell_type": "code",
      "source": [
        "matrix = np.cov(x, y).round(decimals=2)\n",
        "fig, ax = plt.subplots()\n",
        "ax.imshow(matrix)\n",
        "ax.grid(False)\n",
        "ax.xaxis.set(ticks=(0, 1), ticklabels=('x', 'y'))\n",
        "ax.yaxis.set(ticks=(0, 1), ticklabels=('x', 'y'))\n",
        "ax.set_ylim(1.5, -0.5)\n",
        "for i in range(2):\n",
        "    for j in range(2):\n",
        "        ax.text(j, i, matrix[i, j], ha='center', va='center', color='w')\n",
        "plt.show()"
      ],
      "metadata": {
        "id": "UBdpVbSPWC8n",
        "outputId": "bbf65537-8cd8-4f46-a8ad-2926eb907d9b",
        "colab": {
          "base_uri": "https://localhost:8080/",
          "height": 430
        }
      },
      "execution_count": null,
      "outputs": [
        {
          "output_type": "display_data",
          "data": {
            "text/plain": [
              "<Figure size 640x480 with 1 Axes>"
            ],
            "image/png": "[encoded data removed]"
          },
          "metadata": {}
        }
      ]
    },
    {
      "cell_type": "markdown",
      "source": [
        "The yellow field represents the largest element from the matrix 159.45, while the purple one corresponds to the smallest element 38.5. The blue squares in between are associated with the value 77.8."
      ],
      "metadata": {
        "id": "_64_uweqWU_P"
      }
    },
    {
      "cell_type": "markdown",
      "source": [
        "# Section2: Regression\n",
        "\n",
        "In this section, we will give the step-by-step code to finish the regression tasks."
      ],
      "metadata": {
        "id": "SjkzVsqh8Fpa"
      }
    },
    {
      "cell_type": "markdown",
      "source": [
        "## Demo1: Simple Regression\n",
        "In Demo1, we will present basic operation of simple regression.\n",
        "\n",
        "We will use **wage1.csv**, the data is listed as follows:\n",
        "\n",
        "Data Source: https://drive.google.com/file/d/1SaG8C5srlocvikmZhFrKig1FjmgBEMmL/view?usp=sharing\n",
        "\n",
        "Data Description: http://fmwww.bc.edu/ec-p/data/wooldridge/wage1.des\n",
        "\n",
        "And we will cover the following content:\n",
        "1. Simple regression\n",
        "2. Standardized coefficient\n",
        "3. Compare zero-order correlation, standardized coefficient, and R-squared\n",
        "4. How to analyze and interpret categorical IVs"
      ],
      "metadata": {
        "id": "7Mgihl5K9Nk8"
      }
    },
    {
      "cell_type": "markdown",
      "source": [
        "###Step1: Import Packages & Dataset Download"
      ],
      "metadata": {
        "id": "PW9M91Cs_JdX"
      }
    },
    {
      "cell_type": "code",
      "source": [
        "import pandas as pd, numpy as np\n",
        "import statsmodels.formula.api as sm\n",
        "import matplotlib.pyplot as plt"
      ],
      "metadata": {
        "id": "Ghg1nVC4_Cwe"
      },
      "execution_count": null,
      "outputs": []
    },
    {
      "cell_type": "code",
      "source": [
        "!wget -c 'https://docs.google.com/uc?export=download&id=1SaG8C5srlocvikmZhFrKig1FjmgBEMmL&confirm=yes' -O wage1.csv"
      ],
      "metadata": {
        "colab": {
          "base_uri": "https://localhost:8080/"
        },
        "id": "52vmPR9eAcpZ",
        "outputId": "5799675b-5c90-4b27-e60c-965fd4d70d82"
      },
      "execution_count": null,
      "outputs": [
        {
          "output_type": "stream",
          "name": "stdout",
          "text": [
            "--2024-02-29 14:34:59--  https://docs.google.com/uc?export=download&id=1SaG8C5srlocvikmZhFrKig1FjmgBEMmL&confirm=yes\n",
            "Resolving docs.google.com (docs.google.com)... 142.251.171.100, 142.251.171.101, 142.251.171.138, ...\n",
            "Connecting to docs.google.com (docs.google.com)|142.251.171.100|:443... connected.\n",
            "HTTP request sent, awaiting response... 303 See Other\n",
            "Location: https://drive.usercontent.google.com/download?id=1SaG8C5srlocvikmZhFrKig1FjmgBEMmL&export=download [following]\n",
            "--2024-02-29 14:34:59--  https://drive.usercontent.google.com/download?id=1SaG8C5srlocvikmZhFrKig1FjmgBEMmL&export=download\n",
            "Resolving drive.usercontent.google.com (drive.usercontent.google.com)... 172.253.114.132, 2607:f8b0:4001:c22::84\n",
            "Connecting to drive.usercontent.google.com (drive.usercontent.google.com)|172.253.114.132|:443... connected.\n",
            "HTTP request sent, awaiting response... 200 OK\n",
            "Length: 32865 (32K) [application/octet-stream]\n",
            "Saving to: ‘wage1.csv’\n",
            "\n",
            "wage1.csv           100%[===================>]  32.09K  --.-KB/s    in 0s      \n",
            "\n",
            "2024-02-29 14:34:59 (92.4 MB/s) - ‘wage1.csv’ saved [32865/32865]\n",
            "\n"
          ]
        }
      ]
    },
    {
      "cell_type": "markdown",
      "source": [
        "###Step2: Read the file"
      ],
      "metadata": {
        "id": "nz_-EdHQ_ywZ"
      }
    },
    {
      "cell_type": "code",
      "source": [
        "wage1 = pd.read_csv('wage1.csv')\n",
        "wage1.head()"
      ],
      "metadata": {
        "colab": {
          "base_uri": "https://localhost:8080/",
          "height": 256
        },
        "id": "PYxXJNzd_Shb",
        "outputId": "5ac017d5-2414-4cf1-c7b0-67455245f37c"
      },
      "execution_count": null,
      "outputs": [
        {
          "output_type": "execute_result",
          "data": {
            "text/plain": [
              "   wage  educ  exper  tenure  nonwhite  female  married  numdep  smsa  \\\n",
              "0  3.10    11      2       0         0       1        0       2     1   \n",
              "1  3.24    12     22       2         0       1        1       3     1   \n",
              "2  3.00    11      2       0         0       0        0       2     0   \n",
              "3  6.00     8     44      28         0       0        1       0     1   \n",
              "4  5.30    12      7       2         0       0        1       1     0   \n",
              "\n",
              "   northcen  ...  trcommpu  trade  services  profserv  profocc  clerocc  \\\n",
              "0         0  ...         0      0         0         0        0        0   \n",
              "1         0  ...         0      0         1         0        0        0   \n",
              "2         0  ...         0      1         0         0        0        0   \n",
              "3         0  ...         0      0         0         0        0        1   \n",
              "4         0  ...         0      0         0         0        0        0   \n",
              "\n",
              "   servocc     lwage  expersq  tenursq  \n",
              "0        0  1.131402        4        0  \n",
              "1        1  1.175573      484        4  \n",
              "2        0  1.098612        4        0  \n",
              "3        0  1.791759     1936      784  \n",
              "4        0  1.667707       49        4  \n",
              "\n",
              "[5 rows x 24 columns]"
            ],
            "text/html": [
              "\n",
              "  <div id=\"df-13d40702-eb8e-4276-8c6e-c0fa129b0f2c\" class=\"colab-df-container\">\n",
              "    <div>\n",
              "<style scoped>\n",
              "    .dataframe tbody tr th:only-of-type {\n",
              "        vertical-align: middle;\n",
              "    }\n",
              "\n",
              "    .dataframe tbody tr th {\n",
              "        vertical-align: top;\n",
              "    }\n",
              "\n",
              "    .dataframe thead th {\n",
              "        text-align: right;\n",
              "    }\n",
              "</style>\n",
              "<table border=\"1\" class=\"dataframe\">\n",
              "  <thead>\n",
              "    <tr style=\"text-align: right;\">\n",
              "      <th></th>\n",
              "      <th>wage</th>\n",
              "      <th>educ</th>\n",
              "      <th>exper</th>\n",
              "      <th>tenure</th>\n",
              "      <th>nonwhite</th>\n",
              "      <th>female</th>\n",
              "      <th>married</th>\n",
              "      <th>numdep</th>\n",
              "      <th>smsa</th>\n",
              "      <th>northcen</th>\n",
              "      <th>...</th>\n",
              "      <th>trcommpu</th>\n",
              "      <th>trade</th>\n",
              "      <th>services</th>\n",
              "      <th>profserv</th>\n",
              "      <th>profocc</th>\n",
              "      <th>clerocc</th>\n",
              "      <th>servocc</th>\n",
              "      <th>lwage</th>\n",
              "      <th>expersq</th>\n",
              "      <th>tenursq</th>\n",
              "    </tr>\n",
              "  </thead>\n",
              "  <tbody>\n",
              "    <tr>\n",
              "      <th>0</th>\n",
              "      <td>3.10</td>\n",
              "      <td>11</td>\n",
              "      <td>2</td>\n",
              "      <td>0</td>\n",
              "      <td>0</td>\n",
              "      <td>1</td>\n",
              "      <td>0</td>\n",
              "      <td>2</td>\n",
              "      <td>1</td>\n",
              "      <td>0</td>\n",
              "      <td>...</td>\n",
              "      <td>0</td>\n",
              "      <td>0</td>\n",
              "      <td>0</td>\n",
              "      <td>0</td>\n",
              "      <td>0</td>\n",
              "      <td>0</td>\n",
              "      <td>0</td>\n",
              "      <td>1.131402</td>\n",
              "      <td>4</td>\n",
              "      <td>0</td>\n",
              "    </tr>\n",
              "    <tr>\n",
              "      <th>1</th>\n",
              "      <td>3.24</td>\n",
              "      <td>12</td>\n",
              "      <td>22</td>\n",
              "      <td>2</td>\n",
              "      <td>0</td>\n",
              "      <td>1</td>\n",
              "      <td>1</td>\n",
              "      <td>3</td>\n",
              "      <td>1</td>\n",
              "      <td>0</td>\n",
              "      <td>...</td>\n",
              "      <td>0</td>\n",
              "      <td>0</td>\n",
              "      <td>1</td>\n",
              "      <td>0</td>\n",
              "      <td>0</td>\n",
              "      <td>0</td>\n",
              "      <td>1</td>\n",
              "      <td>1.175573</td>\n",
              "      <td>484</td>\n",
              "      <td>4</td>\n",
              "    </tr>\n",
              "    <tr>\n",
              "      <th>2</th>\n",
              "      <td>3.00</td>\n",
              "      <td>11</td>\n",
              "      <td>2</td>\n",
              "      <td>0</td>\n",
              "      <td>0</td>\n",
              "      <td>0</td>\n",
              "      <td>0</td>\n",
              "      <td>2</td>\n",
              "      <td>0</td>\n",
              "      <td>0</td>\n",
              "      <td>...</td>\n",
              "      <td>0</td>\n",
              "      <td>1</td>\n",
              "      <td>0</td>\n",
              "      <td>0</td>\n",
              "      <td>0</td>\n",
              "      <td>0</td>\n",
              "      <td>0</td>\n",
              "      <td>1.098612</td>\n",
              "      <td>4</td>\n",
              "      <td>0</td>\n",
              "    </tr>\n",
              "    <tr>\n",
              "      <th>3</th>\n",
              "      <td>6.00</td>\n",
              "      <td>8</td>\n",
              "      <td>44</td>\n",
              "      <td>28</td>\n",
              "      <td>0</td>\n",
              "      <td>0</td>\n",
              "      <td>1</td>\n",
              "      <td>0</td>\n",
              "      <td>1</td>\n",
              "      <td>0</td>\n",
              "      <td>...</td>\n",
              "      <td>0</td>\n",
              "      <td>0</td>\n",
              "      <td>0</td>\n",
              "      <td>0</td>\n",
              "      <td>0</td>\n",
              "      <td>1</td>\n",
              "      <td>0</td>\n",
              "      <td>1.791759</td>\n",
              "      <td>1936</td>\n",
              "      <td>784</td>\n",
              "    </tr>\n",
              "    <tr>\n",
              "      <th>4</th>\n",
              "      <td>5.30</td>\n",
              "      <td>12</td>\n",
              "      <td>7</td>\n",
              "      <td>2</td>\n",
              "      <td>0</td>\n",
              "      <td>0</td>\n",
              "      <td>1</td>\n",
              "      <td>1</td>\n",
              "      <td>0</td>\n",
              "      <td>0</td>\n",
              "      <td>...</td>\n",
              "      <td>0</td>\n",
              "      <td>0</td>\n",
              "      <td>0</td>\n",
              "      <td>0</td>\n",
              "      <td>0</td>\n",
              "      <td>0</td>\n",
              "      <td>0</td>\n",
              "      <td>1.667707</td>\n",
              "      <td>49</td>\n",
              "      <td>4</td>\n",
              "    </tr>\n",
              "  </tbody>\n",
              "</table>\n",
              "<p>5 rows × 24 columns</p>\n",
              "</div>\n",
              "    <div class=\"colab-df-buttons\">\n",
              "\n",
              "  <div class=\"colab-df-container\">\n",
              "    <button class=\"colab-df-convert\" onclick=\"convertToInteractive('df-13d40702-eb8e-4276-8c6e-c0fa129b0f2c')\"\n",
              "            title=\"Convert this dataframe to an interactive table.\"\n",
              "            style=\"display:none;\">\n",
              "\n",
              "  <svg xmlns=\"http://www.w3.org/2000/svg\" height=\"24px\" viewBox=\"0 -960 960 960\">\n",
              "    <path d=\"M120-120v-720h720v720H120Zm60-500h600v-160H180v160Zm220 220h160v-160H400v160Zm0 220h160v-160H400v160ZM180-400h160v-160H180v160Zm440 0h160v-160H620v160ZM180-180h160v-160H180v160Zm440 0h160v-160H620v160Z\"/>\n",
              "  </svg>\n",
              "    </button>\n",
              "\n",
              "  <style>\n",
              "    .colab-df-container {\n",
              "      display:flex;\n",
              "      gap: 12px;\n",
              "    }\n",
              "\n",
              "    .colab-df-convert {\n",
              "      background-color: #E8F0FE;\n",
              "      border: none;\n",
              "      border-radius: 50%;\n",
              "      cursor: pointer;\n",
              "      display: none;\n",
              "      fill: #1967D2;\n",
              "      height: 32px;\n",
              "      padding: 0 0 0 0;\n",
              "      width: 32px;\n",
              "    }\n",
              "\n",
              "    .colab-df-convert:hover {\n",
              "      background-color: #E2EBFA;\n",
              "      box-shadow: 0px 1px 2px rgba(60, 64, 67, 0.3), 0px 1px 3px 1px rgba(60, 64, 67, 0.15);\n",
              "      fill: #174EA6;\n",
              "    }\n",
              "\n",
              "    .colab-df-buttons div {\n",
              "      margin-bottom: 4px;\n",
              "    }\n",
              "\n",
              "    [theme=dark] .colab-df-convert {\n",
              "      background-color: #3B4455;\n",
              "      fill: #D2E3FC;\n",
              "    }\n",
              "\n",
              "    [theme=dark] .colab-df-convert:hover {\n",
              "      background-color: #434B5C;\n",
              "      box-shadow: 0px 1px 3px 1px rgba(0, 0, 0, 0.15);\n",
              "      filter: drop-shadow(0px 1px 2px rgba(0, 0, 0, 0.3));\n",
              "      fill: #FFFFFF;\n",
              "    }\n",
              "  </style>\n",
              "\n",
              "    <script>\n",
              "      const buttonEl =\n",
              "        document.querySelector('#df-13d40702-eb8e-4276-8c6e-c0fa129b0f2c button.colab-df-convert');\n",
              "      buttonEl.style.display =\n",
              "        google.colab.kernel.accessAllowed ? 'block' : 'none';\n",
              "\n",
              "      async function convertToInteractive(key) {\n",
              "        const element = document.querySelector('#df-13d40702-eb8e-4276-8c6e-c0fa129b0f2c');\n",
              "        const dataTable =\n",
              "          await google.colab.kernel.invokeFunction('convertToInteractive',\n",
              "                                                    [key], {});\n",
              "        if (!dataTable) return;\n",
              "\n",
              "        const docLinkHtml = 'Like what you see? Visit the ' +\n",
              "          '<a target=\"_blank\" href=https://colab.research.google.com/notebooks/data_table.ipynb>data table notebook</a>'\n",
              "          + ' to learn more about interactive tables.';\n",
              "        element.innerHTML = '';\n",
              "        dataTable['output_type'] = 'display_data';\n",
              "        await google.colab.output.renderOutput(dataTable, element);\n",
              "        const docLink = document.createElement('div');\n",
              "        docLink.innerHTML = docLinkHtml;\n",
              "        element.appendChild(docLink);\n",
              "      }\n",
              "    </script>\n",
              "  </div>\n",
              "\n",
              "\n",
              "<div id=\"df-dc303186-7f63-4c40-afbb-4f228ef2339d\">\n",
              "  <button class=\"colab-df-quickchart\" onclick=\"quickchart('df-dc303186-7f63-4c40-afbb-4f228ef2339d')\"\n",
              "            title=\"Suggest charts\"\n",
              "            style=\"display:none;\">\n",
              "\n",
              "<svg xmlns=\"http://www.w3.org/2000/svg\" height=\"24px\"viewBox=\"0 0 24 24\"\n",
              "     width=\"24px\">\n",
              "    <g>\n",
              "        <path d=\"M19 3H5c-1.1 0-2 .9-2 2v14c0 1.1.9 2 2 2h14c1.1 0 2-.9 2-2V5c0-1.1-.9-2-2-2zM9 17H7v-7h2v7zm4 0h-2V7h2v10zm4 0h-2v-4h2v4z\"/>\n",
              "    </g>\n",
              "</svg>\n",
              "  </button>\n",
              "\n",
              "<style>\n",
              "  .colab-df-quickchart {\n",
              "      --bg-color: #E8F0FE;\n",
              "      --fill-color: #1967D2;\n",
              "      --hover-bg-color: #E2EBFA;\n",
              "      --hover-fill-color: #174EA6;\n",
              "      --disabled-fill-color: #AAA;\n",
              "      --disabled-bg-color: #DDD;\n",
              "  }\n",
              "\n",
              "  [theme=dark] .colab-df-quickchart {\n",
              "      --bg-color: #3B4455;\n",
              "      --fill-color: #D2E3FC;\n",
              "      --hover-bg-color: #434B5C;\n",
              "      --hover-fill-color: #FFFFFF;\n",
              "      --disabled-bg-color: #3B4455;\n",
              "      --disabled-fill-color: #666;\n",
              "  }\n",
              "\n",
              "  .colab-df-quickchart {\n",
              "    background-color: var(--bg-color);\n",
              "    border: none;\n",
              "    border-radius: 50%;\n",
              "    cursor: pointer;\n",
              "    display: none;\n",
              "    fill: var(--fill-color);\n",
              "    height: 32px;\n",
              "    padding: 0;\n",
              "    width: 32px;\n",
              "  }\n",
              "\n",
              "  .colab-df-quickchart:hover {\n",
              "    background-color: var(--hover-bg-color);\n",
              "    box-shadow: 0 1px 2px rgba(60, 64, 67, 0.3), 0 1px 3px 1px rgba(60, 64, 67, 0.15);\n",
              "    fill: var(--button-hover-fill-color);\n",
              "  }\n",
              "\n",
              "  .colab-df-quickchart-complete:disabled,\n",
              "  .colab-df-quickchart-complete:disabled:hover {\n",
              "    background-color: var(--disabled-bg-color);\n",
              "    fill: var(--disabled-fill-color);\n",
              "    box-shadow: none;\n",
              "  }\n",
              "\n",
              "  .colab-df-spinner {\n",
              "    border: 2px solid var(--fill-color);\n",
              "    border-color: transparent;\n",
              "    border-bottom-color: var(--fill-color);\n",
              "    animation:\n",
              "      spin 1s steps(1) infinite;\n",
              "  }\n",
              "\n",
              "  @keyframes spin {\n",
              "    0% {\n",
              "      border-color: transparent;\n",
              "      border-bottom-color: var(--fill-color);\n",
              "      border-left-color: var(--fill-color);\n",
              "    }\n",
              "    20% {\n",
              "      border-color: transparent;\n",
              "      border-left-color: var(--fill-color);\n",
              "      border-top-color: var(--fill-color);\n",
              "    }\n",
              "    30% {\n",
              "      border-color: transparent;\n",
              "      border-left-color: var(--fill-color);\n",
              "      border-top-color: var(--fill-color);\n",
              "      border-right-color: var(--fill-color);\n",
              "    }\n",
              "    40% {\n",
              "      border-color: transparent;\n",
              "      border-right-color: var(--fill-color);\n",
              "      border-top-color: var(--fill-color);\n",
              "    }\n",
              "    60% {\n",
              "      border-color: transparent;\n",
              "      border-right-color: var(--fill-color);\n",
              "    }\n",
              "    80% {\n",
              "      border-color: transparent;\n",
              "      border-right-color: var(--fill-color);\n",
              "      border-bottom-color: var(--fill-color);\n",
              "    }\n",
              "    90% {\n",
              "      border-color: transparent;\n",
              "      border-bottom-color: var(--fill-color);\n",
              "    }\n",
              "  }\n",
              "</style>\n",
              "\n",
              "  <script>\n",
              "    async function quickchart(key) {\n",
              "      const quickchartButtonEl =\n",
              "        document.querySelector('#' + key + ' button');\n",
              "      quickchartButtonEl.disabled = true;  // To prevent multiple clicks.\n",
              "      quickchartButtonEl.classList.add('colab-df-spinner');\n",
              "      try {\n",
              "        const charts = await google.colab.kernel.invokeFunction(\n",
              "            'suggestCharts', [key], {});\n",
              "      } catch (error) {\n",
              "        console.error('Error during call to suggestCharts:', error);\n",
              "      }\n",
              "      quickchartButtonEl.classList.remove('colab-df-spinner');\n",
              "      quickchartButtonEl.classList.add('colab-df-quickchart-complete');\n",
              "    }\n",
              "    (() => {\n",
              "      let quickchartButtonEl =\n",
              "        document.querySelector('#df-dc303186-7f63-4c40-afbb-4f228ef2339d button');\n",
              "      quickchartButtonEl.style.display =\n",
              "        google.colab.kernel.accessAllowed ? 'block' : 'none';\n",
              "    })();\n",
              "  </script>\n",
              "</div>\n",
              "    </div>\n",
              "  </div>\n"
            ],
            "application/vnd.google.colaboratory.intrinsic+json": {
              "type": "dataframe",
              "variable_name": "wage1"
            }
          },
          "metadata": {},
          "execution_count": 46
        }
      ]
    },
    {
      "cell_type": "code",
      "source": [
        "wage1.shape"
      ],
      "metadata": {
        "colab": {
          "base_uri": "https://localhost:8080/"
        },
        "id": "0EpO3W44_gFw",
        "outputId": "4da90e26-3b3d-426e-dae9-7414a1657875"
      },
      "execution_count": null,
      "outputs": [
        {
          "output_type": "execute_result",
          "data": {
            "text/plain": [
              "(526, 24)"
            ]
          },
          "metadata": {},
          "execution_count": 22
        }
      ]
    },
    {
      "cell_type": "code",
      "source": [
        "wage1.info()"
      ],
      "metadata": {
        "colab": {
          "base_uri": "https://localhost:8080/"
        },
        "id": "L5RN3era_cVq",
        "outputId": "5aa7004c-98f6-418a-a3f9-31fc237d4912"
      },
      "execution_count": null,
      "outputs": [
        {
          "output_type": "stream",
          "name": "stdout",
          "text": [
            "<class 'pandas.core.frame.DataFrame'>\n",
            "RangeIndex: 526 entries, 0 to 525\n",
            "Data columns (total 24 columns):\n",
            " #   Column    Non-Null Count  Dtype  \n",
            "---  ------    --------------  -----  \n",
            " 0   wage      526 non-null    float64\n",
            " 1   educ      526 non-null    int64  \n",
            " 2   exper     526 non-null    int64  \n",
            " 3   tenure    526 non-null    int64  \n",
            " 4   nonwhite  526 non-null    int64  \n",
            " 5   female    526 non-null    int64  \n",
            " 6   married   526 non-null    int64  \n",
            " 7   numdep    526 non-null    int64  \n",
            " 8   smsa      526 non-null    int64  \n",
            " 9   northcen  526 non-null    int64  \n",
            " 10  south     526 non-null    int64  \n",
            " 11  west      526 non-null    int64  \n",
            " 12  construc  526 non-null    int64  \n",
            " 13  ndurman   526 non-null    int64  \n",
            " 14  trcommpu  526 non-null    int64  \n",
            " 15  trade     526 non-null    int64  \n",
            " 16  services  526 non-null    int64  \n",
            " 17  profserv  526 non-null    int64  \n",
            " 18  profocc   526 non-null    int64  \n",
            " 19  clerocc   526 non-null    int64  \n",
            " 20  servocc   526 non-null    int64  \n",
            " 21  lwage     526 non-null    float64\n",
            " 22  expersq   526 non-null    int64  \n",
            " 23  tenursq   526 non-null    int64  \n",
            "dtypes: float64(2), int64(22)\n",
            "memory usage: 98.8 KB\n"
          ]
        }
      ]
    },
    {
      "cell_type": "markdown",
      "source": [
        "### Step3: Simple Regression (SR)"
      ],
      "metadata": {
        "id": "TARrhagiAmjS"
      }
    },
    {
      "cell_type": "code",
      "source": [
        "SR = sm.ols('wage ~ educ', data = wage1).fit()\n",
        "print(SR.summary())"
      ],
      "metadata": {
        "colab": {
          "base_uri": "https://localhost:8080/"
        },
        "id": "cRj_mJEI6HWG",
        "outputId": "6b06ab21-ae61-4582-e7e8-ae810d6d2c7c"
      },
      "execution_count": null,
      "outputs": [
        {
          "output_type": "stream",
          "name": "stdout",
          "text": [
            "                            OLS Regression Results                            \n",
            "==============================================================================\n",
            "Dep. Variable:                   wage   R-squared:                       0.165\n",
            "Model:                            OLS   Adj. R-squared:                  0.163\n",
            "Method:                 Least Squares   F-statistic:                     103.4\n",
            "Date:                Thu, 29 Feb 2024   Prob (F-statistic):           2.78e-22\n",
            "Time:                        13:17:07   Log-Likelihood:                -1385.7\n",
            "No. Observations:                 526   AIC:                             2775.\n",
            "Df Residuals:                     524   BIC:                             2784.\n",
            "Df Model:                           1                                         \n",
            "Covariance Type:            nonrobust                                         \n",
            "==============================================================================\n",
            "                 coef    std err          t      P>|t|      [0.025      0.975]\n",
            "------------------------------------------------------------------------------\n",
            "Intercept     -0.9049      0.685     -1.321      0.187      -2.250       0.441\n",
            "educ           0.5414      0.053     10.167      0.000       0.437       0.646\n",
            "==============================================================================\n",
            "Omnibus:                      212.554   Durbin-Watson:                   1.824\n",
            "Prob(Omnibus):                  0.000   Jarque-Bera (JB):              807.843\n",
            "Skew:                           1.861   Prob(JB):                    3.79e-176\n",
            "Kurtosis:                       7.797   Cond. No.                         60.2\n",
            "==============================================================================\n",
            "\n",
            "Notes:\n",
            "[1] Standard Errors assume that the covariance matrix of the errors is correctly specified.\n"
          ]
        }
      ]
    },
    {
      "cell_type": "markdown",
      "source": [
        "### Step4: Standardized Coefficient (= Unstd Coef * X<sub>SD</sub> /  Y<sub>SD</sub>)"
      ],
      "metadata": {
        "id": "jUQ--4MOA4Ir"
      }
    },
    {
      "cell_type": "code",
      "source": [
        "wage1[['wage','educ']].describe()"
      ],
      "metadata": {
        "colab": {
          "base_uri": "https://localhost:8080/",
          "height": 300
        },
        "id": "37POVs4cAvD8",
        "outputId": "1a1fc950-9f8e-4629-f046-2a888d717100"
      },
      "execution_count": null,
      "outputs": [
        {
          "output_type": "execute_result",
          "data": {
            "text/plain": [
              "             wage        educ\n",
              "count  526.000000  526.000000\n",
              "mean     5.896103   12.562738\n",
              "std      3.693086    2.769022\n",
              "min      0.530000    0.000000\n",
              "25%      3.330000   12.000000\n",
              "50%      4.650000   12.000000\n",
              "75%      6.880000   14.000000\n",
              "max     24.980000   18.000000"
            ],
            "text/html": [
              "\n",
              "  <div id=\"df-7dd3f082-0eff-4a3f-8fe2-26b7c6dde5e8\" class=\"colab-df-container\">\n",
              "    <div>\n",
              "<style scoped>\n",
              "    .dataframe tbody tr th:only-of-type {\n",
              "        vertical-align: middle;\n",
              "    }\n",
              "\n",
              "    .dataframe tbody tr th {\n",
              "        vertical-align: top;\n",
              "    }\n",
              "\n",
              "    .dataframe thead th {\n",
              "        text-align: right;\n",
              "    }\n",
              "</style>\n",
              "<table border=\"1\" class=\"dataframe\">\n",
              "  <thead>\n",
              "    <tr style=\"text-align: right;\">\n",
              "      <th></th>\n",
              "      <th>wage</th>\n",
              "      <th>educ</th>\n",
              "    </tr>\n",
              "  </thead>\n",
              "  <tbody>\n",
              "    <tr>\n",
              "      <th>count</th>\n",
              "      <td>526.000000</td>\n",
              "      <td>526.000000</td>\n",
              "    </tr>\n",
              "    <tr>\n",
              "      <th>mean</th>\n",
              "      <td>5.896103</td>\n",
              "      <td>12.562738</td>\n",
              "    </tr>\n",
              "    <tr>\n",
              "      <th>std</th>\n",
              "      <td>3.693086</td>\n",
              "      <td>2.769022</td>\n",
              "    </tr>\n",
              "    <tr>\n",
              "      <th>min</th>\n",
              "      <td>0.530000</td>\n",
              "      <td>0.000000</td>\n",
              "    </tr>\n",
              "    <tr>\n",
              "      <th>25%</th>\n",
              "      <td>3.330000</td>\n",
              "      <td>12.000000</td>\n",
              "    </tr>\n",
              "    <tr>\n",
              "      <th>50%</th>\n",
              "      <td>4.650000</td>\n",
              "      <td>12.000000</td>\n",
              "    </tr>\n",
              "    <tr>\n",
              "      <th>75%</th>\n",
              "      <td>6.880000</td>\n",
              "      <td>14.000000</td>\n",
              "    </tr>\n",
              "    <tr>\n",
              "      <th>max</th>\n",
              "      <td>24.980000</td>\n",
              "      <td>18.000000</td>\n",
              "    </tr>\n",
              "  </tbody>\n",
              "</table>\n",
              "</div>\n",
              "    <div class=\"colab-df-buttons\">\n",
              "\n",
              "  <div class=\"colab-df-container\">\n",
              "    <button class=\"colab-df-convert\" onclick=\"convertToInteractive('df-7dd3f082-0eff-4a3f-8fe2-26b7c6dde5e8')\"\n",
              "            title=\"Convert this dataframe to an interactive table.\"\n",
              "            style=\"display:none;\">\n",
              "\n",
              "  <svg xmlns=\"http://www.w3.org/2000/svg\" height=\"24px\" viewBox=\"0 -960 960 960\">\n",
              "    <path d=\"M120-120v-720h720v720H120Zm60-500h600v-160H180v160Zm220 220h160v-160H400v160Zm0 220h160v-160H400v160ZM180-400h160v-160H180v160Zm440 0h160v-160H620v160ZM180-180h160v-160H180v160Zm440 0h160v-160H620v160Z\"/>\n",
              "  </svg>\n",
              "    </button>\n",
              "\n",
              "  <style>\n",
              "    .colab-df-container {\n",
              "      display:flex;\n",
              "      gap: 12px;\n",
              "    }\n",
              "\n",
              "    .colab-df-convert {\n",
              "      background-color: #E8F0FE;\n",
              "      border: none;\n",
              "      border-radius: 50%;\n",
              "      cursor: pointer;\n",
              "      display: none;\n",
              "      fill: #1967D2;\n",
              "      height: 32px;\n",
              "      padding: 0 0 0 0;\n",
              "      width: 32px;\n",
              "    }\n",
              "\n",
              "    .colab-df-convert:hover {\n",
              "      background-color: #E2EBFA;\n",
              "      box-shadow: 0px 1px 2px rgba(60, 64, 67, 0.3), 0px 1px 3px 1px rgba(60, 64, 67, 0.15);\n",
              "      fill: #174EA6;\n",
              "    }\n",
              "\n",
              "    .colab-df-buttons div {\n",
              "      margin-bottom: 4px;\n",
              "    }\n",
              "\n",
              "    [theme=dark] .colab-df-convert {\n",
              "      background-color: #3B4455;\n",
              "      fill: #D2E3FC;\n",
              "    }\n",
              "\n",
              "    [theme=dark] .colab-df-convert:hover {\n",
              "      background-color: #434B5C;\n",
              "      box-shadow: 0px 1px 3px 1px rgba(0, 0, 0, 0.15);\n",
              "      filter: drop-shadow(0px 1px 2px rgba(0, 0, 0, 0.3));\n",
              "      fill: #FFFFFF;\n",
              "    }\n",
              "  </style>\n",
              "\n",
              "    <script>\n",
              "      const buttonEl =\n",
              "        document.querySelector('#df-7dd3f082-0eff-4a3f-8fe2-26b7c6dde5e8 button.colab-df-convert');\n",
              "      buttonEl.style.display =\n",
              "        google.colab.kernel.accessAllowed ? 'block' : 'none';\n",
              "\n",
              "      async function convertToInteractive(key) {\n",
              "        const element = document.querySelector('#df-7dd3f082-0eff-4a3f-8fe2-26b7c6dde5e8');\n",
              "        const dataTable =\n",
              "          await google.colab.kernel.invokeFunction('convertToInteractive',\n",
              "                                                    [key], {});\n",
              "        if (!dataTable) return;\n",
              "\n",
              "        const docLinkHtml = 'Like what you see? Visit the ' +\n",
              "          '<a target=\"_blank\" href=https://colab.research.google.com/notebooks/data_table.ipynb>data table notebook</a>'\n",
              "          + ' to learn more about interactive tables.';\n",
              "        element.innerHTML = '';\n",
              "        dataTable['output_type'] = 'display_data';\n",
              "        await google.colab.output.renderOutput(dataTable, element);\n",
              "        const docLink = document.createElement('div');\n",
              "        docLink.innerHTML = docLinkHtml;\n",
              "        element.appendChild(docLink);\n",
              "      }\n",
              "    </script>\n",
              "  </div>\n",
              "\n",
              "\n",
              "<div id=\"df-2c526ea7-4268-4e6c-8be3-9756931c69f0\">\n",
              "  <button class=\"colab-df-quickchart\" onclick=\"quickchart('df-2c526ea7-4268-4e6c-8be3-9756931c69f0')\"\n",
              "            title=\"Suggest charts\"\n",
              "            style=\"display:none;\">\n",
              "\n",
              "<svg xmlns=\"http://www.w3.org/2000/svg\" height=\"24px\"viewBox=\"0 0 24 24\"\n",
              "     width=\"24px\">\n",
              "    <g>\n",
              "        <path d=\"M19 3H5c-1.1 0-2 .9-2 2v14c0 1.1.9 2 2 2h14c1.1 0 2-.9 2-2V5c0-1.1-.9-2-2-2zM9 17H7v-7h2v7zm4 0h-2V7h2v10zm4 0h-2v-4h2v4z\"/>\n",
              "    </g>\n",
              "</svg>\n",
              "  </button>\n",
              "\n",
              "<style>\n",
              "  .colab-df-quickchart {\n",
              "      --bg-color: #E8F0FE;\n",
              "      --fill-color: #1967D2;\n",
              "      --hover-bg-color: #E2EBFA;\n",
              "      --hover-fill-color: #174EA6;\n",
              "      --disabled-fill-color: #AAA;\n",
              "      --disabled-bg-color: #DDD;\n",
              "  }\n",
              "\n",
              "  [theme=dark] .colab-df-quickchart {\n",
              "      --bg-color: #3B4455;\n",
              "      --fill-color: #D2E3FC;\n",
              "      --hover-bg-color: #434B5C;\n",
              "      --hover-fill-color: #FFFFFF;\n",
              "      --disabled-bg-color: #3B4455;\n",
              "      --disabled-fill-color: #666;\n",
              "  }\n",
              "\n",
              "  .colab-df-quickchart {\n",
              "    background-color: var(--bg-color);\n",
              "    border: none;\n",
              "    border-radius: 50%;\n",
              "    cursor: pointer;\n",
              "    display: none;\n",
              "    fill: var(--fill-color);\n",
              "    height: 32px;\n",
              "    padding: 0;\n",
              "    width: 32px;\n",
              "  }\n",
              "\n",
              "  .colab-df-quickchart:hover {\n",
              "    background-color: var(--hover-bg-color);\n",
              "    box-shadow: 0 1px 2px rgba(60, 64, 67, 0.3), 0 1px 3px 1px rgba(60, 64, 67, 0.15);\n",
              "    fill: var(--button-hover-fill-color);\n",
              "  }\n",
              "\n",
              "  .colab-df-quickchart-complete:disabled,\n",
              "  .colab-df-quickchart-complete:disabled:hover {\n",
              "    background-color: var(--disabled-bg-color);\n",
              "    fill: var(--disabled-fill-color);\n",
              "    box-shadow: none;\n",
              "  }\n",
              "\n",
              "  .colab-df-spinner {\n",
              "    border: 2px solid var(--fill-color);\n",
              "    border-color: transparent;\n",
              "    border-bottom-color: var(--fill-color);\n",
              "    animation:\n",
              "      spin 1s steps(1) infinite;\n",
              "  }\n",
              "\n",
              "  @keyframes spin {\n",
              "    0% {\n",
              "      border-color: transparent;\n",
              "      border-bottom-color: var(--fill-color);\n",
              "      border-left-color: var(--fill-color);\n",
              "    }\n",
              "    20% {\n",
              "      border-color: transparent;\n",
              "      border-left-color: var(--fill-color);\n",
              "      border-top-color: var(--fill-color);\n",
              "    }\n",
              "    30% {\n",
              "      border-color: transparent;\n",
              "      border-left-color: var(--fill-color);\n",
              "      border-top-color: var(--fill-color);\n",
              "      border-right-color: var(--fill-color);\n",
              "    }\n",
              "    40% {\n",
              "      border-color: transparent;\n",
              "      border-right-color: var(--fill-color);\n",
              "      border-top-color: var(--fill-color);\n",
              "    }\n",
              "    60% {\n",
              "      border-color: transparent;\n",
              "      border-right-color: var(--fill-color);\n",
              "    }\n",
              "    80% {\n",
              "      border-color: transparent;\n",
              "      border-right-color: var(--fill-color);\n",
              "      border-bottom-color: var(--fill-color);\n",
              "    }\n",
              "    90% {\n",
              "      border-color: transparent;\n",
              "      border-bottom-color: var(--fill-color);\n",
              "    }\n",
              "  }\n",
              "</style>\n",
              "\n",
              "  <script>\n",
              "    async function quickchart(key) {\n",
              "      const quickchartButtonEl =\n",
              "        document.querySelector('#' + key + ' button');\n",
              "      quickchartButtonEl.disabled = true;  // To prevent multiple clicks.\n",
              "      quickchartButtonEl.classList.add('colab-df-spinner');\n",
              "      try {\n",
              "        const charts = await google.colab.kernel.invokeFunction(\n",
              "            'suggestCharts', [key], {});\n",
              "      } catch (error) {\n",
              "        console.error('Error during call to suggestCharts:', error);\n",
              "      }\n",
              "      quickchartButtonEl.classList.remove('colab-df-spinner');\n",
              "      quickchartButtonEl.classList.add('colab-df-quickchart-complete');\n",
              "    }\n",
              "    (() => {\n",
              "      let quickchartButtonEl =\n",
              "        document.querySelector('#df-2c526ea7-4268-4e6c-8be3-9756931c69f0 button');\n",
              "      quickchartButtonEl.style.display =\n",
              "        google.colab.kernel.accessAllowed ? 'block' : 'none';\n",
              "    })();\n",
              "  </script>\n",
              "</div>\n",
              "    </div>\n",
              "  </div>\n"
            ],
            "application/vnd.google.colaboratory.intrinsic+json": {
              "type": "dataframe",
              "summary": "{\n  \"name\": \"wage1[['wage','educ']]\",\n  \"rows\": 8,\n  \"fields\": [\n    {\n      \"column\": \"wage\",\n      \"properties\": {\n        \"dtype\": \"number\",\n        \"std\": 183.59995589467323,\n        \"min\": 0.53,\n        \"max\": 526.0,\n        \"num_unique_values\": 8,\n        \"samples\": [\n          5.896102661596958,\n          4.65,\n          526.0\n        ],\n        \"semantic_type\": \"\",\n        \"description\": \"\"\n      }\n    },\n    {\n      \"column\": \"educ\",\n      \"properties\": {\n        \"dtype\": \"number\",\n        \"std\": 182.4628478494818,\n        \"min\": 0.0,\n        \"max\": 526.0,\n        \"num_unique_values\": 7,\n        \"samples\": [\n          526.0,\n          12.562737642585551,\n          14.0\n        ],\n        \"semantic_type\": \"\",\n        \"description\": \"\"\n      }\n    }\n  ]\n}"
            }
          },
          "metadata": {},
          "execution_count": 25
        }
      ]
    },
    {
      "cell_type": "code",
      "source": [
        "std_coef = 0.5414*2.769022/3.693086\n",
        "std_coef"
      ],
      "metadata": {
        "colab": {
          "base_uri": "https://localhost:8080/"
        },
        "id": "z_m9drBwA_Ii",
        "outputId": "f2d36fa6-f710-4c7a-e815-d382445a1c37"
      },
      "execution_count": null,
      "outputs": [
        {
          "output_type": "execute_result",
          "data": {
            "text/plain": [
              "0.40593382087500807"
            ]
          },
          "metadata": {},
          "execution_count": 26
        }
      ]
    },
    {
      "cell_type": "markdown",
      "source": [
        "### Step5: Compare zero-order correlation, standardized coefficient and R-squared"
      ],
      "metadata": {
        "id": "y281CNgqGw1o"
      }
    },
    {
      "cell_type": "code",
      "source": [
        "# Zero-order correlation between DI and IV\n",
        "wage1[['wage','educ']].corr()"
      ],
      "metadata": {
        "colab": {
          "base_uri": "https://localhost:8080/",
          "height": 112
        },
        "id": "U7oLWS5XBCgQ",
        "outputId": "f2da15ce-8d87-40f9-eccf-9643ecbd97d5"
      },
      "execution_count": null,
      "outputs": [
        {
          "output_type": "execute_result",
          "data": {
            "text/plain": [
              "          wage      educ\n",
              "wage  1.000000  0.405903\n",
              "educ  0.405903  1.000000"
            ],
            "text/html": [
              "\n",
              "  <div id=\"df-6fe02ddc-2f97-420f-92eb-a6d1f6f7600f\" class=\"colab-df-container\">\n",
              "    <div>\n",
              "<style scoped>\n",
              "    .dataframe tbody tr th:only-of-type {\n",
              "        vertical-align: middle;\n",
              "    }\n",
              "\n",
              "    .dataframe tbody tr th {\n",
              "        vertical-align: top;\n",
              "    }\n",
              "\n",
              "    .dataframe thead th {\n",
              "        text-align: right;\n",
              "    }\n",
              "</style>\n",
              "<table border=\"1\" class=\"dataframe\">\n",
              "  <thead>\n",
              "    <tr style=\"text-align: right;\">\n",
              "      <th></th>\n",
              "      <th>wage</th>\n",
              "      <th>educ</th>\n",
              "    </tr>\n",
              "  </thead>\n",
              "  <tbody>\n",
              "    <tr>\n",
              "      <th>wage</th>\n",
              "      <td>1.000000</td>\n",
              "      <td>0.405903</td>\n",
              "    </tr>\n",
              "    <tr>\n",
              "      <th>educ</th>\n",
              "      <td>0.405903</td>\n",
              "      <td>1.000000</td>\n",
              "    </tr>\n",
              "  </tbody>\n",
              "</table>\n",
              "</div>\n",
              "    <div class=\"colab-df-buttons\">\n",
              "\n",
              "  <div class=\"colab-df-container\">\n",
              "    <button class=\"colab-df-convert\" onclick=\"convertToInteractive('df-6fe02ddc-2f97-420f-92eb-a6d1f6f7600f')\"\n",
              "            title=\"Convert this dataframe to an interactive table.\"\n",
              "            style=\"display:none;\">\n",
              "\n",
              "  <svg xmlns=\"http://www.w3.org/2000/svg\" height=\"24px\" viewBox=\"0 -960 960 960\">\n",
              "    <path d=\"M120-120v-720h720v720H120Zm60-500h600v-160H180v160Zm220 220h160v-160H400v160Zm0 220h160v-160H400v160ZM180-400h160v-160H180v160Zm440 0h160v-160H620v160ZM180-180h160v-160H180v160Zm440 0h160v-160H620v160Z\"/>\n",
              "  </svg>\n",
              "    </button>\n",
              "\n",
              "  <style>\n",
              "    .colab-df-container {\n",
              "      display:flex;\n",
              "      gap: 12px;\n",
              "    }\n",
              "\n",
              "    .colab-df-convert {\n",
              "      background-color: #E8F0FE;\n",
              "      border: none;\n",
              "      border-radius: 50%;\n",
              "      cursor: pointer;\n",
              "      display: none;\n",
              "      fill: #1967D2;\n",
              "      height: 32px;\n",
              "      padding: 0 0 0 0;\n",
              "      width: 32px;\n",
              "    }\n",
              "\n",
              "    .colab-df-convert:hover {\n",
              "      background-color: #E2EBFA;\n",
              "      box-shadow: 0px 1px 2px rgba(60, 64, 67, 0.3), 0px 1px 3px 1px rgba(60, 64, 67, 0.15);\n",
              "      fill: #174EA6;\n",
              "    }\n",
              "\n",
              "    .colab-df-buttons div {\n",
              "      margin-bottom: 4px;\n",
              "    }\n",
              "\n",
              "    [theme=dark] .colab-df-convert {\n",
              "      background-color: #3B4455;\n",
              "      fill: #D2E3FC;\n",
              "    }\n",
              "\n",
              "    [theme=dark] .colab-df-convert:hover {\n",
              "      background-color: #434B5C;\n",
              "      box-shadow: 0px 1px 3px 1px rgba(0, 0, 0, 0.15);\n",
              "      filter: drop-shadow(0px 1px 2px rgba(0, 0, 0, 0.3));\n",
              "      fill: #FFFFFF;\n",
              "    }\n",
              "  </style>\n",
              "\n",
              "    <script>\n",
              "      const buttonEl =\n",
              "        document.querySelector('#df-6fe02ddc-2f97-420f-92eb-a6d1f6f7600f button.colab-df-convert');\n",
              "      buttonEl.style.display =\n",
              "        google.colab.kernel.accessAllowed ? 'block' : 'none';\n",
              "\n",
              "      async function convertToInteractive(key) {\n",
              "        const element = document.querySelector('#df-6fe02ddc-2f97-420f-92eb-a6d1f6f7600f');\n",
              "        const dataTable =\n",
              "          await google.colab.kernel.invokeFunction('convertToInteractive',\n",
              "                                                    [key], {});\n",
              "        if (!dataTable) return;\n",
              "\n",
              "        const docLinkHtml = 'Like what you see? Visit the ' +\n",
              "          '<a target=\"_blank\" href=https://colab.research.google.com/notebooks/data_table.ipynb>data table notebook</a>'\n",
              "          + ' to learn more about interactive tables.';\n",
              "        element.innerHTML = '';\n",
              "        dataTable['output_type'] = 'display_data';\n",
              "        await google.colab.output.renderOutput(dataTable, element);\n",
              "        const docLink = document.createElement('div');\n",
              "        docLink.innerHTML = docLinkHtml;\n",
              "        element.appendChild(docLink);\n",
              "      }\n",
              "    </script>\n",
              "  </div>\n",
              "\n",
              "\n",
              "<div id=\"df-993da632-64e0-41b4-bf33-12cc8dc9e64b\">\n",
              "  <button class=\"colab-df-quickchart\" onclick=\"quickchart('df-993da632-64e0-41b4-bf33-12cc8dc9e64b')\"\n",
              "            title=\"Suggest charts\"\n",
              "            style=\"display:none;\">\n",
              "\n",
              "<svg xmlns=\"http://www.w3.org/2000/svg\" height=\"24px\"viewBox=\"0 0 24 24\"\n",
              "     width=\"24px\">\n",
              "    <g>\n",
              "        <path d=\"M19 3H5c-1.1 0-2 .9-2 2v14c0 1.1.9 2 2 2h14c1.1 0 2-.9 2-2V5c0-1.1-.9-2-2-2zM9 17H7v-7h2v7zm4 0h-2V7h2v10zm4 0h-2v-4h2v4z\"/>\n",
              "    </g>\n",
              "</svg>\n",
              "  </button>\n",
              "\n",
              "<style>\n",
              "  .colab-df-quickchart {\n",
              "      --bg-color: #E8F0FE;\n",
              "      --fill-color: #1967D2;\n",
              "      --hover-bg-color: #E2EBFA;\n",
              "      --hover-fill-color: #174EA6;\n",
              "      --disabled-fill-color: #AAA;\n",
              "      --disabled-bg-color: #DDD;\n",
              "  }\n",
              "\n",
              "  [theme=dark] .colab-df-quickchart {\n",
              "      --bg-color: #3B4455;\n",
              "      --fill-color: #D2E3FC;\n",
              "      --hover-bg-color: #434B5C;\n",
              "      --hover-fill-color: #FFFFFF;\n",
              "      --disabled-bg-color: #3B4455;\n",
              "      --disabled-fill-color: #666;\n",
              "  }\n",
              "\n",
              "  .colab-df-quickchart {\n",
              "    background-color: var(--bg-color);\n",
              "    border: none;\n",
              "    border-radius: 50%;\n",
              "    cursor: pointer;\n",
              "    display: none;\n",
              "    fill: var(--fill-color);\n",
              "    height: 32px;\n",
              "    padding: 0;\n",
              "    width: 32px;\n",
              "  }\n",
              "\n",
              "  .colab-df-quickchart:hover {\n",
              "    background-color: var(--hover-bg-color);\n",
              "    box-shadow: 0 1px 2px rgba(60, 64, 67, 0.3), 0 1px 3px 1px rgba(60, 64, 67, 0.15);\n",
              "    fill: var(--button-hover-fill-color);\n",
              "  }\n",
              "\n",
              "  .colab-df-quickchart-complete:disabled,\n",
              "  .colab-df-quickchart-complete:disabled:hover {\n",
              "    background-color: var(--disabled-bg-color);\n",
              "    fill: var(--disabled-fill-color);\n",
              "    box-shadow: none;\n",
              "  }\n",
              "\n",
              "  .colab-df-spinner {\n",
              "    border: 2px solid var(--fill-color);\n",
              "    border-color: transparent;\n",
              "    border-bottom-color: var(--fill-color);\n",
              "    animation:\n",
              "      spin 1s steps(1) infinite;\n",
              "  }\n",
              "\n",
              "  @keyframes spin {\n",
              "    0% {\n",
              "      border-color: transparent;\n",
              "      border-bottom-color: var(--fill-color);\n",
              "      border-left-color: var(--fill-color);\n",
              "    }\n",
              "    20% {\n",
              "      border-color: transparent;\n",
              "      border-left-color: var(--fill-color);\n",
              "      border-top-color: var(--fill-color);\n",
              "    }\n",
              "    30% {\n",
              "      border-color: transparent;\n",
              "      border-left-color: var(--fill-color);\n",
              "      border-top-color: var(--fill-color);\n",
              "      border-right-color: var(--fill-color);\n",
              "    }\n",
              "    40% {\n",
              "      border-color: transparent;\n",
              "      border-right-color: var(--fill-color);\n",
              "      border-top-color: var(--fill-color);\n",
              "    }\n",
              "    60% {\n",
              "      border-color: transparent;\n",
              "      border-right-color: var(--fill-color);\n",
              "    }\n",
              "    80% {\n",
              "      border-color: transparent;\n",
              "      border-right-color: var(--fill-color);\n",
              "      border-bottom-color: var(--fill-color);\n",
              "    }\n",
              "    90% {\n",
              "      border-color: transparent;\n",
              "      border-bottom-color: var(--fill-color);\n",
              "    }\n",
              "  }\n",
              "</style>\n",
              "\n",
              "  <script>\n",
              "    async function quickchart(key) {\n",
              "      const quickchartButtonEl =\n",
              "        document.querySelector('#' + key + ' button');\n",
              "      quickchartButtonEl.disabled = true;  // To prevent multiple clicks.\n",
              "      quickchartButtonEl.classList.add('colab-df-spinner');\n",
              "      try {\n",
              "        const charts = await google.colab.kernel.invokeFunction(\n",
              "            'suggestCharts', [key], {});\n",
              "      } catch (error) {\n",
              "        console.error('Error during call to suggestCharts:', error);\n",
              "      }\n",
              "      quickchartButtonEl.classList.remove('colab-df-spinner');\n",
              "      quickchartButtonEl.classList.add('colab-df-quickchart-complete');\n",
              "    }\n",
              "    (() => {\n",
              "      let quickchartButtonEl =\n",
              "        document.querySelector('#df-993da632-64e0-41b4-bf33-12cc8dc9e64b button');\n",
              "      quickchartButtonEl.style.display =\n",
              "        google.colab.kernel.accessAllowed ? 'block' : 'none';\n",
              "    })();\n",
              "  </script>\n",
              "</div>\n",
              "    </div>\n",
              "  </div>\n"
            ],
            "application/vnd.google.colaboratory.intrinsic+json": {
              "type": "dataframe",
              "summary": "{\n  \"name\": \"wage1[['wage','educ']]\",\n  \"rows\": 2,\n  \"fields\": [\n    {\n      \"column\": \"wage\",\n      \"properties\": {\n        \"dtype\": \"number\",\n        \"std\": 0.42008978474117753,\n        \"min\": 0.40590332900463266,\n        \"max\": 1.0,\n        \"num_unique_values\": 2,\n        \"samples\": [\n          0.40590332900463266,\n          1.0\n        ],\n        \"semantic_type\": \"\",\n        \"description\": \"\"\n      }\n    },\n    {\n      \"column\": \"educ\",\n      \"properties\": {\n        \"dtype\": \"number\",\n        \"std\": 0.42008978474117753,\n        \"min\": 0.40590332900463266,\n        \"max\": 1.0,\n        \"num_unique_values\": 2,\n        \"samples\": [\n          1.0,\n          0.40590332900463266\n        ],\n        \"semantic_type\": \"\",\n        \"description\": \"\"\n      }\n    }\n  ]\n}"
            }
          },
          "metadata": {},
          "execution_count": 27
        }
      ]
    },
    {
      "cell_type": "markdown",
      "source": [
        "R<sup>2</sup> = Std Coefficient<sup>2</sup> = Correlation<sup>2</sup>\n",
        "\n",
        "R<sup>2</sup> = 0.165 = Std Cofficient<sup>2</sup> = 0.4059*0.4059 = Correlation<sup>2</sup> = 0.406*0.406\n",
        "\n",
        "**Conclusion** :\n",
        "<p>In SR, there is only one unique estimated parameter shown in three formats: unstandardized coefficient, standardized coefficient, and R-squared.</p>\n",
        "<p>However, the above doesn't hold in multiple regression.</p>"
      ],
      "metadata": {
        "id": "FElWKNvDG8Hc"
      }
    },
    {
      "cell_type": "markdown",
      "source": [
        "### Step6: How to analyze and interpret categorical IVs"
      ],
      "metadata": {
        "id": "Uh-nwFauHkAW"
      }
    },
    {
      "cell_type": "code",
      "source": [
        "# Choose numdep as the example\n",
        "wage1.numdep.value_counts()"
      ],
      "metadata": {
        "colab": {
          "base_uri": "https://localhost:8080/"
        },
        "id": "dTFID9B3G4TQ",
        "outputId": "52a8d0a1-7581-42a3-80c3-0b7bccdbe7c8"
      },
      "execution_count": null,
      "outputs": [
        {
          "output_type": "execute_result",
          "data": {
            "text/plain": [
              "0    252\n",
              "1    105\n",
              "2     99\n",
              "3     45\n",
              "4     16\n",
              "5      7\n",
              "6      2\n",
              "Name: numdep, dtype: int64"
            ]
          },
          "metadata": {},
          "execution_count": 29
        }
      ]
    },
    {
      "cell_type": "code",
      "source": [
        "# Create six dummy variables based on numdep\n",
        "dep = pd.get_dummies(wage1.numdep, prefix = 'dep')     # One-hort encoding\n",
        "dep.value_counts()"
      ],
      "metadata": {
        "colab": {
          "base_uri": "https://localhost:8080/"
        },
        "id": "1VF0quRnHP4C",
        "outputId": "922b887c-be9c-4a0d-fa1a-ddbf0edccc33"
      },
      "execution_count": null,
      "outputs": [
        {
          "output_type": "execute_result",
          "data": {
            "text/plain": [
              "dep_0  dep_1  dep_2  dep_3  dep_4  dep_5  dep_6\n",
              "1      0      0      0      0      0      0        252\n",
              "0      1      0      0      0      0      0        105\n",
              "       0      1      0      0      0      0         99\n",
              "              0      1      0      0      0         45\n",
              "                     0      1      0      0         16\n",
              "                            0      1      0          7\n",
              "                                   0      1          2\n",
              "dtype: int64"
            ]
          },
          "metadata": {},
          "execution_count": 30
        }
      ]
    },
    {
      "cell_type": "code",
      "source": [
        "# Merge number dummies to wage1\n",
        "wage1 = pd.concat([wage1,dep],axis=1)"
      ],
      "metadata": {
        "id": "d_ct6JRJHthV"
      },
      "execution_count": null,
      "outputs": []
    },
    {
      "cell_type": "code",
      "source": [
        "# Regress wage on the six (instead of seven) dummy variables of numdep\n",
        "SR_dep = sm.ols('wage ~ dep_1 + dep_2 + dep_3 + dep_4 + dep_5 + dep_6', data=wage1).fit()\n",
        "print(SR_dep.summary())"
      ],
      "metadata": {
        "colab": {
          "base_uri": "https://localhost:8080/"
        },
        "id": "WQE_RFXqHva3",
        "outputId": "301c70f2-5014-448f-f4a7-7dc6c99d0f9c"
      },
      "execution_count": null,
      "outputs": [
        {
          "output_type": "stream",
          "name": "stdout",
          "text": [
            "                            OLS Regression Results                            \n",
            "==============================================================================\n",
            "Dep. Variable:                   wage   R-squared:                       0.013\n",
            "Model:                            OLS   Adj. R-squared:                  0.002\n",
            "Method:                 Least Squares   F-statistic:                     1.184\n",
            "Date:                Thu, 29 Feb 2024   Prob (F-statistic):              0.313\n",
            "Time:                        13:47:49   Log-Likelihood:                -1429.5\n",
            "No. Observations:                 526   AIC:                             2873.\n",
            "Df Residuals:                     519   BIC:                             2903.\n",
            "Df Model:                           6                                         \n",
            "Covariance Type:            nonrobust                                         \n",
            "==============================================================================\n",
            "                 coef    std err          t      P>|t|      [0.025      0.975]\n",
            "------------------------------------------------------------------------------\n",
            "Intercept      5.9721      0.232     25.697      0.000       5.516       6.429\n",
            "dep_1         -0.0598      0.429     -0.139      0.889      -0.902       0.782\n",
            "dep_2         -0.0545      0.438     -0.125      0.901      -0.914       0.805\n",
            "dep_3          0.3642      0.597      0.610      0.542      -0.809       1.537\n",
            "dep_4         -1.3139      0.951     -1.381      0.168      -3.182       0.555\n",
            "dep_5         -2.9506      1.414     -2.087      0.037      -5.728      -0.173\n",
            "dep_6         -1.4971      2.619     -0.572      0.568      -6.642       3.648\n",
            "==============================================================================\n",
            "Omnibus:                      228.392   Durbin-Watson:                   1.802\n",
            "Prob(Omnibus):                  0.000   Jarque-Bera (JB):              901.042\n",
            "Skew:                           2.007   Prob(JB):                    2.19e-196\n",
            "Kurtosis:                       8.000   Cond. No.                         17.0\n",
            "==============================================================================\n",
            "\n",
            "Notes:\n",
            "[1] Standard Errors assume that the covariance matrix of the errors is correctly specified.\n"
          ]
        }
      ]
    },
    {
      "cell_type": "code",
      "source": [
        "# An alternative approach\n",
        "\n",
        "#1. Transform the original variables to their normalized values (i.e., z-score).\n",
        "from scipy import stats\n",
        "wage1_std = wage1.select_dtypes(include=[np.number]).dropna().apply(stats.zscore)\n",
        "\n",
        "#2. Run the simple regression based on z-scored wage1.\n",
        "SR_std = sm.ols('wage ~ educ', data=wage1_std).fit()\n",
        "print(SR_std.summary())"
      ],
      "metadata": {
        "colab": {
          "base_uri": "https://localhost:8080/"
        },
        "id": "wAK-r8hBHwtb",
        "outputId": "4ca06c7b-996b-483e-9595-50acb22b2a70"
      },
      "execution_count": null,
      "outputs": [
        {
          "output_type": "stream",
          "name": "stdout",
          "text": [
            "                            OLS Regression Results                            \n",
            "==============================================================================\n",
            "Dep. Variable:                   wage   R-squared:                       0.165\n",
            "Model:                            OLS   Adj. R-squared:                  0.163\n",
            "Method:                 Least Squares   F-statistic:                     103.4\n",
            "Date:                Thu, 29 Feb 2024   Prob (F-statistic):           2.78e-22\n",
            "Time:                        13:47:59   Log-Likelihood:                -699.01\n",
            "No. Observations:                 526   AIC:                             1402.\n",
            "Df Residuals:                     524   BIC:                             1411.\n",
            "Df Model:                           1                                         \n",
            "Covariance Type:            nonrobust                                         \n",
            "==============================================================================\n",
            "                 coef    std err          t      P>|t|      [0.025      0.975]\n",
            "------------------------------------------------------------------------------\n",
            "Intercept   1.631e-16      0.040   4.08e-15      1.000      -0.078       0.078\n",
            "educ           0.4059      0.040     10.167      0.000       0.327       0.484\n",
            "==============================================================================\n",
            "Omnibus:                      212.554   Durbin-Watson:                   1.824\n",
            "Prob(Omnibus):                  0.000   Jarque-Bera (JB):              807.843\n",
            "Skew:                           1.861   Prob(JB):                    3.79e-176\n",
            "Kurtosis:                       7.797   Cond. No.                         1.00\n",
            "==============================================================================\n",
            "\n",
            "Notes:\n",
            "[1] Standard Errors assume that the covariance matrix of the errors is correctly specified.\n"
          ]
        }
      ]
    },
    {
      "cell_type": "markdown",
      "source": [
        "## Demo2: Multiple Regression -\n",
        "In Demo2, we will present operation of Multiple regression.\n",
        "\n",
        "We will use xyzw.csv, the data is listed as follows:\n",
        "\n",
        "Data Source: https://drive.google.com/file/d/1doeLsuEDiRJJTu8j9E1MWegFgIuu0Vn7/view?usp=drive_link\n",
        "\n",
        "\n",
        "And we will cover the following content:\n",
        "1. Simple regression: y ~ x\n",
        "    * Unstandardized vs standardized coefficients\n",
        "2. Multiple regression:\n",
        "    * MR1_xz: correlated IVs: y ~ x + z\n",
        "    * MR2_xw: uncorrelated IVs: y ~ x + w\n",
        "    * MR3_xzw (mutiple regression of all three IVs): y ~ x + z + w"
      ],
      "metadata": {
        "id": "nmZMEIYZH85J"
      }
    },
    {
      "cell_type": "markdown",
      "source": [],
      "metadata": {
        "id": "Cn5QciNbRSH_"
      }
    },
    {
      "cell_type": "markdown",
      "source": [
        "###Step1: Import Packages & Dataset Download"
      ],
      "metadata": {
        "id": "flfbz8DwRV7S"
      }
    },
    {
      "cell_type": "code",
      "source": [
        "import numpy as np, pandas as pd\n",
        "import statsmodels.formula.api as sm\n",
        "import matplotlib.pyplot as plt"
      ],
      "metadata": {
        "id": "-5CX6dSXRX4q"
      },
      "execution_count": null,
      "outputs": []
    },
    {
      "cell_type": "code",
      "source": [
        "!wget -c 'https://docs.google.com/uc?export=download&id=1doeLsuEDiRJJTu8j9E1MWegFgIuu0Vn7&confirm=yes' -O xyzw.csv"
      ],
      "metadata": {
        "colab": {
          "base_uri": "https://localhost:8080/"
        },
        "id": "FGZPRjUrRcLG",
        "outputId": "5ba96a4b-4bb9-423a-c185-2f886c01323a"
      },
      "execution_count": null,
      "outputs": [
        {
          "output_type": "stream",
          "name": "stdout",
          "text": [
            "--2024-02-29 14:32:53--  https://docs.google.com/uc?export=download&id=1doeLsuEDiRJJTu8j9E1MWegFgIuu0Vn7&confirm=yes\n",
            "Resolving docs.google.com (docs.google.com)... 173.194.194.101, 173.194.194.138, 173.194.194.102, ...\n",
            "Connecting to docs.google.com (docs.google.com)|173.194.194.101|:443... connected.\n",
            "HTTP request sent, awaiting response... 303 See Other\n",
            "Location: https://drive.usercontent.google.com/download?id=1doeLsuEDiRJJTu8j9E1MWegFgIuu0Vn7&export=download [following]\n",
            "--2024-02-29 14:32:53--  https://drive.usercontent.google.com/download?id=1doeLsuEDiRJJTu8j9E1MWegFgIuu0Vn7&export=download\n",
            "Resolving drive.usercontent.google.com (drive.usercontent.google.com)... 172.253.114.132, 2607:f8b0:4001:c22::84\n",
            "Connecting to drive.usercontent.google.com (drive.usercontent.google.com)|172.253.114.132|:443... connected.\n",
            "HTTP request sent, awaiting response... 200 OK\n",
            "Length: 1922 (1.9K) [application/octet-stream]\n",
            "Saving to: ‘xyzw.csv’\n",
            "\n",
            "xyzw.csv            100%[===================>]   1.88K  --.-KB/s    in 0s      \n",
            "\n",
            "2024-02-29 14:32:54 (60.0 MB/s) - ‘xyzw.csv’ saved [1922/1922]\n",
            "\n"
          ]
        }
      ]
    },
    {
      "cell_type": "markdown",
      "source": [
        "###Step2: Read the file"
      ],
      "metadata": {
        "id": "XpWquiIISw61"
      }
    },
    {
      "cell_type": "code",
      "source": [
        "df = pd.read_csv('xyzw.csv')\n",
        "df.head()"
      ],
      "metadata": {
        "colab": {
          "base_uri": "https://localhost:8080/",
          "height": 206
        },
        "id": "7L4hXC6kRoQp",
        "outputId": "bf7b2dcf-db2c-4bcd-818d-09669f8a11c1"
      },
      "execution_count": null,
      "outputs": [
        {
          "output_type": "execute_result",
          "data": {
            "text/plain": [
              "           x          z          w          y\n",
              "0  165349.20  136897.80  471784.10  192261.83\n",
              "1  162597.70  151377.59  443898.53  191792.06\n",
              "2  153441.51  101145.55  407934.54  191050.39\n",
              "3  144372.41  118671.85  383199.62  182901.99\n",
              "4  142107.34   91391.77  366168.42  166187.94"
            ],
            "text/html": [
              "\n",
              "  <div id=\"df-1923d21b-914b-419c-94d3-9ede4cd99ae8\" class=\"colab-df-container\">\n",
              "    <div>\n",
              "<style scoped>\n",
              "    .dataframe tbody tr th:only-of-type {\n",
              "        vertical-align: middle;\n",
              "    }\n",
              "\n",
              "    .dataframe tbody tr th {\n",
              "        vertical-align: top;\n",
              "    }\n",
              "\n",
              "    .dataframe thead th {\n",
              "        text-align: right;\n",
              "    }\n",
              "</style>\n",
              "<table border=\"1\" class=\"dataframe\">\n",
              "  <thead>\n",
              "    <tr style=\"text-align: right;\">\n",
              "      <th></th>\n",
              "      <th>x</th>\n",
              "      <th>z</th>\n",
              "      <th>w</th>\n",
              "      <th>y</th>\n",
              "    </tr>\n",
              "  </thead>\n",
              "  <tbody>\n",
              "    <tr>\n",
              "      <th>0</th>\n",
              "      <td>165349.20</td>\n",
              "      <td>136897.80</td>\n",
              "      <td>471784.10</td>\n",
              "      <td>192261.83</td>\n",
              "    </tr>\n",
              "    <tr>\n",
              "      <th>1</th>\n",
              "      <td>162597.70</td>\n",
              "      <td>151377.59</td>\n",
              "      <td>443898.53</td>\n",
              "      <td>191792.06</td>\n",
              "    </tr>\n",
              "    <tr>\n",
              "      <th>2</th>\n",
              "      <td>153441.51</td>\n",
              "      <td>101145.55</td>\n",
              "      <td>407934.54</td>\n",
              "      <td>191050.39</td>\n",
              "    </tr>\n",
              "    <tr>\n",
              "      <th>3</th>\n",
              "      <td>144372.41</td>\n",
              "      <td>118671.85</td>\n",
              "      <td>383199.62</td>\n",
              "      <td>182901.99</td>\n",
              "    </tr>\n",
              "    <tr>\n",
              "      <th>4</th>\n",
              "      <td>142107.34</td>\n",
              "      <td>91391.77</td>\n",
              "      <td>366168.42</td>\n",
              "      <td>166187.94</td>\n",
              "    </tr>\n",
              "  </tbody>\n",
              "</table>\n",
              "</div>\n",
              "    <div class=\"colab-df-buttons\">\n",
              "\n",
              "  <div class=\"colab-df-container\">\n",
              "    <button class=\"colab-df-convert\" onclick=\"convertToInteractive('df-1923d21b-914b-419c-94d3-9ede4cd99ae8')\"\n",
              "            title=\"Convert this dataframe to an interactive table.\"\n",
              "            style=\"display:none;\">\n",
              "\n",
              "  <svg xmlns=\"http://www.w3.org/2000/svg\" height=\"24px\" viewBox=\"0 -960 960 960\">\n",
              "    <path d=\"M120-120v-720h720v720H120Zm60-500h600v-160H180v160Zm220 220h160v-160H400v160Zm0 220h160v-160H400v160ZM180-400h160v-160H180v160Zm440 0h160v-160H620v160ZM180-180h160v-160H180v160Zm440 0h160v-160H620v160Z\"/>\n",
              "  </svg>\n",
              "    </button>\n",
              "\n",
              "  <style>\n",
              "    .colab-df-container {\n",
              "      display:flex;\n",
              "      gap: 12px;\n",
              "    }\n",
              "\n",
              "    .colab-df-convert {\n",
              "      background-color: #E8F0FE;\n",
              "      border: none;\n",
              "      border-radius: 50%;\n",
              "      cursor: pointer;\n",
              "      display: none;\n",
              "      fill: #1967D2;\n",
              "      height: 32px;\n",
              "      padding: 0 0 0 0;\n",
              "      width: 32px;\n",
              "    }\n",
              "\n",
              "    .colab-df-convert:hover {\n",
              "      background-color: #E2EBFA;\n",
              "      box-shadow: 0px 1px 2px rgba(60, 64, 67, 0.3), 0px 1px 3px 1px rgba(60, 64, 67, 0.15);\n",
              "      fill: #174EA6;\n",
              "    }\n",
              "\n",
              "    .colab-df-buttons div {\n",
              "      margin-bottom: 4px;\n",
              "    }\n",
              "\n",
              "    [theme=dark] .colab-df-convert {\n",
              "      background-color: #3B4455;\n",
              "      fill: #D2E3FC;\n",
              "    }\n",
              "\n",
              "    [theme=dark] .colab-df-convert:hover {\n",
              "      background-color: #434B5C;\n",
              "      box-shadow: 0px 1px 3px 1px rgba(0, 0, 0, 0.15);\n",
              "      filter: drop-shadow(0px 1px 2px rgba(0, 0, 0, 0.3));\n",
              "      fill: #FFFFFF;\n",
              "    }\n",
              "  </style>\n",
              "\n",
              "    <script>\n",
              "      const buttonEl =\n",
              "        document.querySelector('#df-1923d21b-914b-419c-94d3-9ede4cd99ae8 button.colab-df-convert');\n",
              "      buttonEl.style.display =\n",
              "        google.colab.kernel.accessAllowed ? 'block' : 'none';\n",
              "\n",
              "      async function convertToInteractive(key) {\n",
              "        const element = document.querySelector('#df-1923d21b-914b-419c-94d3-9ede4cd99ae8');\n",
              "        const dataTable =\n",
              "          await google.colab.kernel.invokeFunction('convertToInteractive',\n",
              "                                                    [key], {});\n",
              "        if (!dataTable) return;\n",
              "\n",
              "        const docLinkHtml = 'Like what you see? Visit the ' +\n",
              "          '<a target=\"_blank\" href=https://colab.research.google.com/notebooks/data_table.ipynb>data table notebook</a>'\n",
              "          + ' to learn more about interactive tables.';\n",
              "        element.innerHTML = '';\n",
              "        dataTable['output_type'] = 'display_data';\n",
              "        await google.colab.output.renderOutput(dataTable, element);\n",
              "        const docLink = document.createElement('div');\n",
              "        docLink.innerHTML = docLinkHtml;\n",
              "        element.appendChild(docLink);\n",
              "      }\n",
              "    </script>\n",
              "  </div>\n",
              "\n",
              "\n",
              "<div id=\"df-3aafbb48-55b6-4742-9916-e287efab12f8\">\n",
              "  <button class=\"colab-df-quickchart\" onclick=\"quickchart('df-3aafbb48-55b6-4742-9916-e287efab12f8')\"\n",
              "            title=\"Suggest charts\"\n",
              "            style=\"display:none;\">\n",
              "\n",
              "<svg xmlns=\"http://www.w3.org/2000/svg\" height=\"24px\"viewBox=\"0 0 24 24\"\n",
              "     width=\"24px\">\n",
              "    <g>\n",
              "        <path d=\"M19 3H5c-1.1 0-2 .9-2 2v14c0 1.1.9 2 2 2h14c1.1 0 2-.9 2-2V5c0-1.1-.9-2-2-2zM9 17H7v-7h2v7zm4 0h-2V7h2v10zm4 0h-2v-4h2v4z\"/>\n",
              "    </g>\n",
              "</svg>\n",
              "  </button>\n",
              "\n",
              "<style>\n",
              "  .colab-df-quickchart {\n",
              "      --bg-color: #E8F0FE;\n",
              "      --fill-color: #1967D2;\n",
              "      --hover-bg-color: #E2EBFA;\n",
              "      --hover-fill-color: #174EA6;\n",
              "      --disabled-fill-color: #AAA;\n",
              "      --disabled-bg-color: #DDD;\n",
              "  }\n",
              "\n",
              "  [theme=dark] .colab-df-quickchart {\n",
              "      --bg-color: #3B4455;\n",
              "      --fill-color: #D2E3FC;\n",
              "      --hover-bg-color: #434B5C;\n",
              "      --hover-fill-color: #FFFFFF;\n",
              "      --disabled-bg-color: #3B4455;\n",
              "      --disabled-fill-color: #666;\n",
              "  }\n",
              "\n",
              "  .colab-df-quickchart {\n",
              "    background-color: var(--bg-color);\n",
              "    border: none;\n",
              "    border-radius: 50%;\n",
              "    cursor: pointer;\n",
              "    display: none;\n",
              "    fill: var(--fill-color);\n",
              "    height: 32px;\n",
              "    padding: 0;\n",
              "    width: 32px;\n",
              "  }\n",
              "\n",
              "  .colab-df-quickchart:hover {\n",
              "    background-color: var(--hover-bg-color);\n",
              "    box-shadow: 0 1px 2px rgba(60, 64, 67, 0.3), 0 1px 3px 1px rgba(60, 64, 67, 0.15);\n",
              "    fill: var(--button-hover-fill-color);\n",
              "  }\n",
              "\n",
              "  .colab-df-quickchart-complete:disabled,\n",
              "  .colab-df-quickchart-complete:disabled:hover {\n",
              "    background-color: var(--disabled-bg-color);\n",
              "    fill: var(--disabled-fill-color);\n",
              "    box-shadow: none;\n",
              "  }\n",
              "\n",
              "  .colab-df-spinner {\n",
              "    border: 2px solid var(--fill-color);\n",
              "    border-color: transparent;\n",
              "    border-bottom-color: var(--fill-color);\n",
              "    animation:\n",
              "      spin 1s steps(1) infinite;\n",
              "  }\n",
              "\n",
              "  @keyframes spin {\n",
              "    0% {\n",
              "      border-color: transparent;\n",
              "      border-bottom-color: var(--fill-color);\n",
              "      border-left-color: var(--fill-color);\n",
              "    }\n",
              "    20% {\n",
              "      border-color: transparent;\n",
              "      border-left-color: var(--fill-color);\n",
              "      border-top-color: var(--fill-color);\n",
              "    }\n",
              "    30% {\n",
              "      border-color: transparent;\n",
              "      border-left-color: var(--fill-color);\n",
              "      border-top-color: var(--fill-color);\n",
              "      border-right-color: var(--fill-color);\n",
              "    }\n",
              "    40% {\n",
              "      border-color: transparent;\n",
              "      border-right-color: var(--fill-color);\n",
              "      border-top-color: var(--fill-color);\n",
              "    }\n",
              "    60% {\n",
              "      border-color: transparent;\n",
              "      border-right-color: var(--fill-color);\n",
              "    }\n",
              "    80% {\n",
              "      border-color: transparent;\n",
              "      border-right-color: var(--fill-color);\n",
              "      border-bottom-color: var(--fill-color);\n",
              "    }\n",
              "    90% {\n",
              "      border-color: transparent;\n",
              "      border-bottom-color: var(--fill-color);\n",
              "    }\n",
              "  }\n",
              "</style>\n",
              "\n",
              "  <script>\n",
              "    async function quickchart(key) {\n",
              "      const quickchartButtonEl =\n",
              "        document.querySelector('#' + key + ' button');\n",
              "      quickchartButtonEl.disabled = true;  // To prevent multiple clicks.\n",
              "      quickchartButtonEl.classList.add('colab-df-spinner');\n",
              "      try {\n",
              "        const charts = await google.colab.kernel.invokeFunction(\n",
              "            'suggestCharts', [key], {});\n",
              "      } catch (error) {\n",
              "        console.error('Error during call to suggestCharts:', error);\n",
              "      }\n",
              "      quickchartButtonEl.classList.remove('colab-df-spinner');\n",
              "      quickchartButtonEl.classList.add('colab-df-quickchart-complete');\n",
              "    }\n",
              "    (() => {\n",
              "      let quickchartButtonEl =\n",
              "        document.querySelector('#df-3aafbb48-55b6-4742-9916-e287efab12f8 button');\n",
              "      quickchartButtonEl.style.display =\n",
              "        google.colab.kernel.accessAllowed ? 'block' : 'none';\n",
              "    })();\n",
              "  </script>\n",
              "</div>\n",
              "    </div>\n",
              "  </div>\n"
            ],
            "application/vnd.google.colaboratory.intrinsic+json": {
              "type": "dataframe",
              "variable_name": "df",
              "summary": "{\n  \"name\": \"df\",\n  \"rows\": 50,\n  \"fields\": [\n    {\n      \"column\": \"x\",\n      \"properties\": {\n        \"dtype\": \"number\",\n        \"std\": 45902.25648230753,\n        \"min\": 0.0,\n        \"max\": 165349.2,\n        \"num_unique_values\": 49,\n        \"samples\": [\n          91992.39,\n          1000.23,\n          0.0\n        ],\n        \"semantic_type\": \"\",\n        \"description\": \"\"\n      }\n    },\n    {\n      \"column\": \"z\",\n      \"properties\": {\n        \"dtype\": \"number\",\n        \"std\": 28017.802755488683,\n        \"min\": 51283.14,\n        \"max\": 182645.56,\n        \"num_unique_values\": 50,\n        \"samples\": [\n          135495.07,\n          82982.09,\n          115641.28\n        ],\n        \"semantic_type\": \"\",\n        \"description\": \"\"\n      }\n    },\n    {\n      \"column\": \"w\",\n      \"properties\": {\n        \"dtype\": \"number\",\n        \"std\": 122290.31072584528,\n        \"min\": 0.0,\n        \"max\": 471784.1,\n        \"num_unique_values\": 48,\n        \"samples\": [\n          353183.81,\n          172795.67,\n          134050.07\n        ],\n        \"semantic_type\": \"\",\n        \"description\": \"\"\n      }\n    },\n    {\n      \"column\": \"y\",\n      \"properties\": {\n        \"dtype\": \"number\",\n        \"std\": 40306.18033765055,\n        \"min\": 14681.4,\n        \"max\": 192261.83,\n        \"num_unique_values\": 50,\n        \"samples\": [\n          134307.35,\n          81005.76,\n          99937.59\n        ],\n        \"semantic_type\": \"\",\n        \"description\": \"\"\n      }\n    }\n  ]\n}"
            }
          },
          "metadata": {},
          "execution_count": 47
        }
      ]
    },
    {
      "source": [
        "# @title w\n",
        "\n",
        "from matplotlib import pyplot as plt\n",
        "df['w'].plot(kind='line', figsize=(8, 4), title='w')\n",
        "plt.gca().spines[['top', 'right']].set_visible(False)"
      ],
      "cell_type": "code",
      "execution_count": null,
      "outputs": [
        {
          "output_type": "display_data",
          "data": {
            "text/plain": [
              "<Figure size 800x400 with 1 Axes>"
            ],
            "image/png": "[encoded data removed]"
          },
          "metadata": {}
        }
      ],
      "metadata": {
        "cellView": "form",
        "colab": {
          "base_uri": "https://localhost:8080/",
          "height": 391
        },
        "id": "NOdDvlenTF_b",
        "outputId": "7e2bf65a-783c-4891-8efc-d2c803360f34"
      }
    },
    {
      "cell_type": "code",
      "source": [
        "df.describe()"
      ],
      "metadata": {
        "colab": {
          "base_uri": "https://localhost:8080/",
          "height": 300
        },
        "id": "hiT1Tt_BSRPy",
        "outputId": "07a3eb21-b2b1-441b-d11f-702ab4325dab"
      },
      "execution_count": null,
      "outputs": [
        {
          "output_type": "execute_result",
          "data": {
            "text/plain": [
              "                   x              z              w              y\n",
              "count      50.000000      50.000000      50.000000      50.000000\n",
              "mean    73721.615600  121344.639600  211025.097800  112012.639200\n",
              "std     45902.256482   28017.802755  122290.310726   40306.180338\n",
              "min         0.000000   51283.140000       0.000000   14681.400000\n",
              "25%     39936.370000  103730.875000  129300.132500   90138.902500\n",
              "50%     73051.080000  122699.795000  212716.240000  107978.190000\n",
              "75%    101602.800000  144842.180000  299469.085000  139765.977500\n",
              "max    165349.200000  182645.560000  471784.100000  192261.830000"
            ],
            "text/html": [
              "\n",
              "  <div id=\"df-1fc31fbf-da41-4684-ad7a-4da3d1668455\" class=\"colab-df-container\">\n",
              "    <div>\n",
              "<style scoped>\n",
              "    .dataframe tbody tr th:only-of-type {\n",
              "        vertical-align: middle;\n",
              "    }\n",
              "\n",
              "    .dataframe tbody tr th {\n",
              "        vertical-align: top;\n",
              "    }\n",
              "\n",
              "    .dataframe thead th {\n",
              "        text-align: right;\n",
              "    }\n",
              "</style>\n",
              "<table border=\"1\" class=\"dataframe\">\n",
              "  <thead>\n",
              "    <tr style=\"text-align: right;\">\n",
              "      <th></th>\n",
              "      <th>x</th>\n",
              "      <th>z</th>\n",
              "      <th>w</th>\n",
              "      <th>y</th>\n",
              "    </tr>\n",
              "  </thead>\n",
              "  <tbody>\n",
              "    <tr>\n",
              "      <th>count</th>\n",
              "      <td>50.000000</td>\n",
              "      <td>50.000000</td>\n",
              "      <td>50.000000</td>\n",
              "      <td>50.000000</td>\n",
              "    </tr>\n",
              "    <tr>\n",
              "      <th>mean</th>\n",
              "      <td>73721.615600</td>\n",
              "      <td>121344.639600</td>\n",
              "      <td>211025.097800</td>\n",
              "      <td>112012.639200</td>\n",
              "    </tr>\n",
              "    <tr>\n",
              "      <th>std</th>\n",
              "      <td>45902.256482</td>\n",
              "      <td>28017.802755</td>\n",
              "      <td>122290.310726</td>\n",
              "      <td>40306.180338</td>\n",
              "    </tr>\n",
              "    <tr>\n",
              "      <th>min</th>\n",
              "      <td>0.000000</td>\n",
              "      <td>51283.140000</td>\n",
              "      <td>0.000000</td>\n",
              "      <td>14681.400000</td>\n",
              "    </tr>\n",
              "    <tr>\n",
              "      <th>25%</th>\n",
              "      <td>39936.370000</td>\n",
              "      <td>103730.875000</td>\n",
              "      <td>129300.132500</td>\n",
              "      <td>90138.902500</td>\n",
              "    </tr>\n",
              "    <tr>\n",
              "      <th>50%</th>\n",
              "      <td>73051.080000</td>\n",
              "      <td>122699.795000</td>\n",
              "      <td>212716.240000</td>\n",
              "      <td>107978.190000</td>\n",
              "    </tr>\n",
              "    <tr>\n",
              "      <th>75%</th>\n",
              "      <td>101602.800000</td>\n",
              "      <td>144842.180000</td>\n",
              "      <td>299469.085000</td>\n",
              "      <td>139765.977500</td>\n",
              "    </tr>\n",
              "    <tr>\n",
              "      <th>max</th>\n",
              "      <td>165349.200000</td>\n",
              "      <td>182645.560000</td>\n",
              "      <td>471784.100000</td>\n",
              "      <td>192261.830000</td>\n",
              "    </tr>\n",
              "  </tbody>\n",
              "</table>\n",
              "</div>\n",
              "    <div class=\"colab-df-buttons\">\n",
              "\n",
              "  <div class=\"colab-df-container\">\n",
              "    <button class=\"colab-df-convert\" onclick=\"convertToInteractive('df-1fc31fbf-da41-4684-ad7a-4da3d1668455')\"\n",
              "            title=\"Convert this dataframe to an interactive table.\"\n",
              "            style=\"display:none;\">\n",
              "\n",
              "  <svg xmlns=\"http://www.w3.org/2000/svg\" height=\"24px\" viewBox=\"0 -960 960 960\">\n",
              "    <path d=\"M120-120v-720h720v720H120Zm60-500h600v-160H180v160Zm220 220h160v-160H400v160Zm0 220h160v-160H400v160ZM180-400h160v-160H180v160Zm440 0h160v-160H620v160ZM180-180h160v-160H180v160Zm440 0h160v-160H620v160Z\"/>\n",
              "  </svg>\n",
              "    </button>\n",
              "\n",
              "  <style>\n",
              "    .colab-df-container {\n",
              "      display:flex;\n",
              "      gap: 12px;\n",
              "    }\n",
              "\n",
              "    .colab-df-convert {\n",
              "      background-color: #E8F0FE;\n",
              "      border: none;\n",
              "      border-radius: 50%;\n",
              "      cursor: pointer;\n",
              "      display: none;\n",
              "      fill: #1967D2;\n",
              "      height: 32px;\n",
              "      padding: 0 0 0 0;\n",
              "      width: 32px;\n",
              "    }\n",
              "\n",
              "    .colab-df-convert:hover {\n",
              "      background-color: #E2EBFA;\n",
              "      box-shadow: 0px 1px 2px rgba(60, 64, 67, 0.3), 0px 1px 3px 1px rgba(60, 64, 67, 0.15);\n",
              "      fill: #174EA6;\n",
              "    }\n",
              "\n",
              "    .colab-df-buttons div {\n",
              "      margin-bottom: 4px;\n",
              "    }\n",
              "\n",
              "    [theme=dark] .colab-df-convert {\n",
              "      background-color: #3B4455;\n",
              "      fill: #D2E3FC;\n",
              "    }\n",
              "\n",
              "    [theme=dark] .colab-df-convert:hover {\n",
              "      background-color: #434B5C;\n",
              "      box-shadow: 0px 1px 3px 1px rgba(0, 0, 0, 0.15);\n",
              "      filter: drop-shadow(0px 1px 2px rgba(0, 0, 0, 0.3));\n",
              "      fill: #FFFFFF;\n",
              "    }\n",
              "  </style>\n",
              "\n",
              "    <script>\n",
              "      const buttonEl =\n",
              "        document.querySelector('#df-1fc31fbf-da41-4684-ad7a-4da3d1668455 button.colab-df-convert');\n",
              "      buttonEl.style.display =\n",
              "        google.colab.kernel.accessAllowed ? 'block' : 'none';\n",
              "\n",
              "      async function convertToInteractive(key) {\n",
              "        const element = document.querySelector('#df-1fc31fbf-da41-4684-ad7a-4da3d1668455');\n",
              "        const dataTable =\n",
              "          await google.colab.kernel.invokeFunction('convertToInteractive',\n",
              "                                                    [key], {});\n",
              "        if (!dataTable) return;\n",
              "\n",
              "        const docLinkHtml = 'Like what you see? Visit the ' +\n",
              "          '<a target=\"_blank\" href=https://colab.research.google.com/notebooks/data_table.ipynb>data table notebook</a>'\n",
              "          + ' to learn more about interactive tables.';\n",
              "        element.innerHTML = '';\n",
              "        dataTable['output_type'] = 'display_data';\n",
              "        await google.colab.output.renderOutput(dataTable, element);\n",
              "        const docLink = document.createElement('div');\n",
              "        docLink.innerHTML = docLinkHtml;\n",
              "        element.appendChild(docLink);\n",
              "      }\n",
              "    </script>\n",
              "  </div>\n",
              "\n",
              "\n",
              "<div id=\"df-c46b556b-856f-4f20-ad1d-9f67347567cd\">\n",
              "  <button class=\"colab-df-quickchart\" onclick=\"quickchart('df-c46b556b-856f-4f20-ad1d-9f67347567cd')\"\n",
              "            title=\"Suggest charts\"\n",
              "            style=\"display:none;\">\n",
              "\n",
              "<svg xmlns=\"http://www.w3.org/2000/svg\" height=\"24px\"viewBox=\"0 0 24 24\"\n",
              "     width=\"24px\">\n",
              "    <g>\n",
              "        <path d=\"M19 3H5c-1.1 0-2 .9-2 2v14c0 1.1.9 2 2 2h14c1.1 0 2-.9 2-2V5c0-1.1-.9-2-2-2zM9 17H7v-7h2v7zm4 0h-2V7h2v10zm4 0h-2v-4h2v4z\"/>\n",
              "    </g>\n",
              "</svg>\n",
              "  </button>\n",
              "\n",
              "<style>\n",
              "  .colab-df-quickchart {\n",
              "      --bg-color: #E8F0FE;\n",
              "      --fill-color: #1967D2;\n",
              "      --hover-bg-color: #E2EBFA;\n",
              "      --hover-fill-color: #174EA6;\n",
              "      --disabled-fill-color: #AAA;\n",
              "      --disabled-bg-color: #DDD;\n",
              "  }\n",
              "\n",
              "  [theme=dark] .colab-df-quickchart {\n",
              "      --bg-color: #3B4455;\n",
              "      --fill-color: #D2E3FC;\n",
              "      --hover-bg-color: #434B5C;\n",
              "      --hover-fill-color: #FFFFFF;\n",
              "      --disabled-bg-color: #3B4455;\n",
              "      --disabled-fill-color: #666;\n",
              "  }\n",
              "\n",
              "  .colab-df-quickchart {\n",
              "    background-color: var(--bg-color);\n",
              "    border: none;\n",
              "    border-radius: 50%;\n",
              "    cursor: pointer;\n",
              "    display: none;\n",
              "    fill: var(--fill-color);\n",
              "    height: 32px;\n",
              "    padding: 0;\n",
              "    width: 32px;\n",
              "  }\n",
              "\n",
              "  .colab-df-quickchart:hover {\n",
              "    background-color: var(--hover-bg-color);\n",
              "    box-shadow: 0 1px 2px rgba(60, 64, 67, 0.3), 0 1px 3px 1px rgba(60, 64, 67, 0.15);\n",
              "    fill: var(--button-hover-fill-color);\n",
              "  }\n",
              "\n",
              "  .colab-df-quickchart-complete:disabled,\n",
              "  .colab-df-quickchart-complete:disabled:hover {\n",
              "    background-color: var(--disabled-bg-color);\n",
              "    fill: var(--disabled-fill-color);\n",
              "    box-shadow: none;\n",
              "  }\n",
              "\n",
              "  .colab-df-spinner {\n",
              "    border: 2px solid var(--fill-color);\n",
              "    border-color: transparent;\n",
              "    border-bottom-color: var(--fill-color);\n",
              "    animation:\n",
              "      spin 1s steps(1) infinite;\n",
              "  }\n",
              "\n",
              "  @keyframes spin {\n",
              "    0% {\n",
              "      border-color: transparent;\n",
              "      border-bottom-color: var(--fill-color);\n",
              "      border-left-color: var(--fill-color);\n",
              "    }\n",
              "    20% {\n",
              "      border-color: transparent;\n",
              "      border-left-color: var(--fill-color);\n",
              "      border-top-color: var(--fill-color);\n",
              "    }\n",
              "    30% {\n",
              "      border-color: transparent;\n",
              "      border-left-color: var(--fill-color);\n",
              "      border-top-color: var(--fill-color);\n",
              "      border-right-color: var(--fill-color);\n",
              "    }\n",
              "    40% {\n",
              "      border-color: transparent;\n",
              "      border-right-color: var(--fill-color);\n",
              "      border-top-color: var(--fill-color);\n",
              "    }\n",
              "    60% {\n",
              "      border-color: transparent;\n",
              "      border-right-color: var(--fill-color);\n",
              "    }\n",
              "    80% {\n",
              "      border-color: transparent;\n",
              "      border-right-color: var(--fill-color);\n",
              "      border-bottom-color: var(--fill-color);\n",
              "    }\n",
              "    90% {\n",
              "      border-color: transparent;\n",
              "      border-bottom-color: var(--fill-color);\n",
              "    }\n",
              "  }\n",
              "</style>\n",
              "\n",
              "  <script>\n",
              "    async function quickchart(key) {\n",
              "      const quickchartButtonEl =\n",
              "        document.querySelector('#' + key + ' button');\n",
              "      quickchartButtonEl.disabled = true;  // To prevent multiple clicks.\n",
              "      quickchartButtonEl.classList.add('colab-df-spinner');\n",
              "      try {\n",
              "        const charts = await google.colab.kernel.invokeFunction(\n",
              "            'suggestCharts', [key], {});\n",
              "      } catch (error) {\n",
              "        console.error('Error during call to suggestCharts:', error);\n",
              "      }\n",
              "      quickchartButtonEl.classList.remove('colab-df-spinner');\n",
              "      quickchartButtonEl.classList.add('colab-df-quickchart-complete');\n",
              "    }\n",
              "    (() => {\n",
              "      let quickchartButtonEl =\n",
              "        document.querySelector('#df-c46b556b-856f-4f20-ad1d-9f67347567cd button');\n",
              "      quickchartButtonEl.style.display =\n",
              "        google.colab.kernel.accessAllowed ? 'block' : 'none';\n",
              "    })();\n",
              "  </script>\n",
              "</div>\n",
              "    </div>\n",
              "  </div>\n"
            ],
            "application/vnd.google.colaboratory.intrinsic+json": {
              "type": "dataframe",
              "summary": "{\n  \"name\": \"df\",\n  \"rows\": 8,\n  \"fields\": [\n    {\n      \"column\": \"x\",\n      \"properties\": {\n        \"dtype\": \"number\",\n        \"std\": 54687.51901616005,\n        \"min\": 0.0,\n        \"max\": 165349.2,\n        \"num_unique_values\": 8,\n        \"samples\": [\n          73721.6156,\n          73051.08,\n          50.0\n        ],\n        \"semantic_type\": \"\",\n        \"description\": \"\"\n      }\n    },\n    {\n      \"column\": \"z\",\n      \"properties\": {\n        \"dtype\": \"number\",\n        \"std\": 62235.943809479024,\n        \"min\": 50.0,\n        \"max\": 182645.56,\n        \"num_unique_values\": 8,\n        \"samples\": [\n          121344.63960000001,\n          122699.795,\n          50.0\n        ],\n        \"semantic_type\": \"\",\n        \"description\": \"\"\n      }\n    },\n    {\n      \"column\": \"w\",\n      \"properties\": {\n        \"dtype\": \"number\",\n        \"std\": 156807.9429432482,\n        \"min\": 0.0,\n        \"max\": 471784.1,\n        \"num_unique_values\": 8,\n        \"samples\": [\n          211025.09780000002,\n          212716.24,\n          50.0\n        ],\n        \"semantic_type\": \"\",\n        \"description\": \"\"\n      }\n    },\n    {\n      \"column\": \"y\",\n      \"properties\": {\n        \"dtype\": \"number\",\n        \"std\": 65367.40907318825,\n        \"min\": 50.0,\n        \"max\": 192261.83,\n        \"num_unique_values\": 8,\n        \"samples\": [\n          112012.63920000002,\n          107978.19,\n          50.0\n        ],\n        \"semantic_type\": \"\",\n        \"description\": \"\"\n      }\n    }\n  ]\n}"
            }
          },
          "metadata": {},
          "execution_count": 43
        }
      ]
    },
    {
      "cell_type": "markdown",
      "source": [
        "###Step3: Check correlations among DV and IVs"
      ],
      "metadata": {
        "id": "74A4eqhkTPvW"
      }
    },
    {
      "cell_type": "code",
      "source": [
        "df.corr()"
      ],
      "metadata": {
        "colab": {
          "base_uri": "https://localhost:8080/",
          "height": 175
        },
        "id": "l9Utp4YIScF0",
        "outputId": "5942c7d9-f61c-4d8e-c357-2de9be15f935"
      },
      "execution_count": null,
      "outputs": [
        {
          "output_type": "execute_result",
          "data": {
            "text/plain": [
              "          x         z         w         y\n",
              "x  1.000000  0.241955  0.724248  0.972900\n",
              "z  0.241955  1.000000 -0.032154  0.200717\n",
              "w  0.724248 -0.032154  1.000000  0.747766\n",
              "y  0.972900  0.200717  0.747766  1.000000"
            ],
            "text/html": [
              "\n",
              "  <div id=\"df-fd74d311-8338-4736-9840-c3b9e60a9651\" class=\"colab-df-container\">\n",
              "    <div>\n",
              "<style scoped>\n",
              "    .dataframe tbody tr th:only-of-type {\n",
              "        vertical-align: middle;\n",
              "    }\n",
              "\n",
              "    .dataframe tbody tr th {\n",
              "        vertical-align: top;\n",
              "    }\n",
              "\n",
              "    .dataframe thead th {\n",
              "        text-align: right;\n",
              "    }\n",
              "</style>\n",
              "<table border=\"1\" class=\"dataframe\">\n",
              "  <thead>\n",
              "    <tr style=\"text-align: right;\">\n",
              "      <th></th>\n",
              "      <th>x</th>\n",
              "      <th>z</th>\n",
              "      <th>w</th>\n",
              "      <th>y</th>\n",
              "    </tr>\n",
              "  </thead>\n",
              "  <tbody>\n",
              "    <tr>\n",
              "      <th>x</th>\n",
              "      <td>1.000000</td>\n",
              "      <td>0.241955</td>\n",
              "      <td>0.724248</td>\n",
              "      <td>0.972900</td>\n",
              "    </tr>\n",
              "    <tr>\n",
              "      <th>z</th>\n",
              "      <td>0.241955</td>\n",
              "      <td>1.000000</td>\n",
              "      <td>-0.032154</td>\n",
              "      <td>0.200717</td>\n",
              "    </tr>\n",
              "    <tr>\n",
              "      <th>w</th>\n",
              "      <td>0.724248</td>\n",
              "      <td>-0.032154</td>\n",
              "      <td>1.000000</td>\n",
              "      <td>0.747766</td>\n",
              "    </tr>\n",
              "    <tr>\n",
              "      <th>y</th>\n",
              "      <td>0.972900</td>\n",
              "      <td>0.200717</td>\n",
              "      <td>0.747766</td>\n",
              "      <td>1.000000</td>\n",
              "    </tr>\n",
              "  </tbody>\n",
              "</table>\n",
              "</div>\n",
              "    <div class=\"colab-df-buttons\">\n",
              "\n",
              "  <div class=\"colab-df-container\">\n",
              "    <button class=\"colab-df-convert\" onclick=\"convertToInteractive('df-fd74d311-8338-4736-9840-c3b9e60a9651')\"\n",
              "            title=\"Convert this dataframe to an interactive table.\"\n",
              "            style=\"display:none;\">\n",
              "\n",
              "  <svg xmlns=\"http://www.w3.org/2000/svg\" height=\"24px\" viewBox=\"0 -960 960 960\">\n",
              "    <path d=\"M120-120v-720h720v720H120Zm60-500h600v-160H180v160Zm220 220h160v-160H400v160Zm0 220h160v-160H400v160ZM180-400h160v-160H180v160Zm440 0h160v-160H620v160ZM180-180h160v-160H180v160Zm440 0h160v-160H620v160Z\"/>\n",
              "  </svg>\n",
              "    </button>\n",
              "\n",
              "  <style>\n",
              "    .colab-df-container {\n",
              "      display:flex;\n",
              "      gap: 12px;\n",
              "    }\n",
              "\n",
              "    .colab-df-convert {\n",
              "      background-color: #E8F0FE;\n",
              "      border: none;\n",
              "      border-radius: 50%;\n",
              "      cursor: pointer;\n",
              "      display: none;\n",
              "      fill: #1967D2;\n",
              "      height: 32px;\n",
              "      padding: 0 0 0 0;\n",
              "      width: 32px;\n",
              "    }\n",
              "\n",
              "    .colab-df-convert:hover {\n",
              "      background-color: #E2EBFA;\n",
              "      box-shadow: 0px 1px 2px rgba(60, 64, 67, 0.3), 0px 1px 3px 1px rgba(60, 64, 67, 0.15);\n",
              "      fill: #174EA6;\n",
              "    }\n",
              "\n",
              "    .colab-df-buttons div {\n",
              "      margin-bottom: 4px;\n",
              "    }\n",
              "\n",
              "    [theme=dark] .colab-df-convert {\n",
              "      background-color: #3B4455;\n",
              "      fill: #D2E3FC;\n",
              "    }\n",
              "\n",
              "    [theme=dark] .colab-df-convert:hover {\n",
              "      background-color: #434B5C;\n",
              "      box-shadow: 0px 1px 3px 1px rgba(0, 0, 0, 0.15);\n",
              "      filter: drop-shadow(0px 1px 2px rgba(0, 0, 0, 0.3));\n",
              "      fill: #FFFFFF;\n",
              "    }\n",
              "  </style>\n",
              "\n",
              "    <script>\n",
              "      const buttonEl =\n",
              "        document.querySelector('#df-fd74d311-8338-4736-9840-c3b9e60a9651 button.colab-df-convert');\n",
              "      buttonEl.style.display =\n",
              "        google.colab.kernel.accessAllowed ? 'block' : 'none';\n",
              "\n",
              "      async function convertToInteractive(key) {\n",
              "        const element = document.querySelector('#df-fd74d311-8338-4736-9840-c3b9e60a9651');\n",
              "        const dataTable =\n",
              "          await google.colab.kernel.invokeFunction('convertToInteractive',\n",
              "                                                    [key], {});\n",
              "        if (!dataTable) return;\n",
              "\n",
              "        const docLinkHtml = 'Like what you see? Visit the ' +\n",
              "          '<a target=\"_blank\" href=https://colab.research.google.com/notebooks/data_table.ipynb>data table notebook</a>'\n",
              "          + ' to learn more about interactive tables.';\n",
              "        element.innerHTML = '';\n",
              "        dataTable['output_type'] = 'display_data';\n",
              "        await google.colab.output.renderOutput(dataTable, element);\n",
              "        const docLink = document.createElement('div');\n",
              "        docLink.innerHTML = docLinkHtml;\n",
              "        element.appendChild(docLink);\n",
              "      }\n",
              "    </script>\n",
              "  </div>\n",
              "\n",
              "\n",
              "<div id=\"df-90641dd4-43a2-4fea-be56-f970c732795f\">\n",
              "  <button class=\"colab-df-quickchart\" onclick=\"quickchart('df-90641dd4-43a2-4fea-be56-f970c732795f')\"\n",
              "            title=\"Suggest charts\"\n",
              "            style=\"display:none;\">\n",
              "\n",
              "<svg xmlns=\"http://www.w3.org/2000/svg\" height=\"24px\"viewBox=\"0 0 24 24\"\n",
              "     width=\"24px\">\n",
              "    <g>\n",
              "        <path d=\"M19 3H5c-1.1 0-2 .9-2 2v14c0 1.1.9 2 2 2h14c1.1 0 2-.9 2-2V5c0-1.1-.9-2-2-2zM9 17H7v-7h2v7zm4 0h-2V7h2v10zm4 0h-2v-4h2v4z\"/>\n",
              "    </g>\n",
              "</svg>\n",
              "  </button>\n",
              "\n",
              "<style>\n",
              "  .colab-df-quickchart {\n",
              "      --bg-color: #E8F0FE;\n",
              "      --fill-color: #1967D2;\n",
              "      --hover-bg-color: #E2EBFA;\n",
              "      --hover-fill-color: #174EA6;\n",
              "      --disabled-fill-color: #AAA;\n",
              "      --disabled-bg-color: #DDD;\n",
              "  }\n",
              "\n",
              "  [theme=dark] .colab-df-quickchart {\n",
              "      --bg-color: #3B4455;\n",
              "      --fill-color: #D2E3FC;\n",
              "      --hover-bg-color: #434B5C;\n",
              "      --hover-fill-color: #FFFFFF;\n",
              "      --disabled-bg-color: #3B4455;\n",
              "      --disabled-fill-color: #666;\n",
              "  }\n",
              "\n",
              "  .colab-df-quickchart {\n",
              "    background-color: var(--bg-color);\n",
              "    border: none;\n",
              "    border-radius: 50%;\n",
              "    cursor: pointer;\n",
              "    display: none;\n",
              "    fill: var(--fill-color);\n",
              "    height: 32px;\n",
              "    padding: 0;\n",
              "    width: 32px;\n",
              "  }\n",
              "\n",
              "  .colab-df-quickchart:hover {\n",
              "    background-color: var(--hover-bg-color);\n",
              "    box-shadow: 0 1px 2px rgba(60, 64, 67, 0.3), 0 1px 3px 1px rgba(60, 64, 67, 0.15);\n",
              "    fill: var(--button-hover-fill-color);\n",
              "  }\n",
              "\n",
              "  .colab-df-quickchart-complete:disabled,\n",
              "  .colab-df-quickchart-complete:disabled:hover {\n",
              "    background-color: var(--disabled-bg-color);\n",
              "    fill: var(--disabled-fill-color);\n",
              "    box-shadow: none;\n",
              "  }\n",
              "\n",
              "  .colab-df-spinner {\n",
              "    border: 2px solid var(--fill-color);\n",
              "    border-color: transparent;\n",
              "    border-bottom-color: var(--fill-color);\n",
              "    animation:\n",
              "      spin 1s steps(1) infinite;\n",
              "  }\n",
              "\n",
              "  @keyframes spin {\n",
              "    0% {\n",
              "      border-color: transparent;\n",
              "      border-bottom-color: var(--fill-color);\n",
              "      border-left-color: var(--fill-color);\n",
              "    }\n",
              "    20% {\n",
              "      border-color: transparent;\n",
              "      border-left-color: var(--fill-color);\n",
              "      border-top-color: var(--fill-color);\n",
              "    }\n",
              "    30% {\n",
              "      border-color: transparent;\n",
              "      border-left-color: var(--fill-color);\n",
              "      border-top-color: var(--fill-color);\n",
              "      border-right-color: var(--fill-color);\n",
              "    }\n",
              "    40% {\n",
              "      border-color: transparent;\n",
              "      border-right-color: var(--fill-color);\n",
              "      border-top-color: var(--fill-color);\n",
              "    }\n",
              "    60% {\n",
              "      border-color: transparent;\n",
              "      border-right-color: var(--fill-color);\n",
              "    }\n",
              "    80% {\n",
              "      border-color: transparent;\n",
              "      border-right-color: var(--fill-color);\n",
              "      border-bottom-color: var(--fill-color);\n",
              "    }\n",
              "    90% {\n",
              "      border-color: transparent;\n",
              "      border-bottom-color: var(--fill-color);\n",
              "    }\n",
              "  }\n",
              "</style>\n",
              "\n",
              "  <script>\n",
              "    async function quickchart(key) {\n",
              "      const quickchartButtonEl =\n",
              "        document.querySelector('#' + key + ' button');\n",
              "      quickchartButtonEl.disabled = true;  // To prevent multiple clicks.\n",
              "      quickchartButtonEl.classList.add('colab-df-spinner');\n",
              "      try {\n",
              "        const charts = await google.colab.kernel.invokeFunction(\n",
              "            'suggestCharts', [key], {});\n",
              "      } catch (error) {\n",
              "        console.error('Error during call to suggestCharts:', error);\n",
              "      }\n",
              "      quickchartButtonEl.classList.remove('colab-df-spinner');\n",
              "      quickchartButtonEl.classList.add('colab-df-quickchart-complete');\n",
              "    }\n",
              "    (() => {\n",
              "      let quickchartButtonEl =\n",
              "        document.querySelector('#df-90641dd4-43a2-4fea-be56-f970c732795f button');\n",
              "      quickchartButtonEl.style.display =\n",
              "        google.colab.kernel.accessAllowed ? 'block' : 'none';\n",
              "    })();\n",
              "  </script>\n",
              "</div>\n",
              "    </div>\n",
              "  </div>\n"
            ],
            "application/vnd.google.colaboratory.intrinsic+json": {
              "type": "dataframe",
              "summary": "{\n  \"name\": \"df\",\n  \"rows\": 4,\n  \"fields\": [\n    {\n      \"column\": \"x\",\n      \"properties\": {\n        \"dtype\": \"number\",\n        \"std\": 0.3512027732342562,\n        \"min\": 0.24195524508168925,\n        \"max\": 1.0,\n        \"num_unique_values\": 4,\n        \"samples\": [\n          0.24195524508168925,\n          0.9729004656594831,\n          1.0\n        ],\n        \"semantic_type\": \"\",\n        \"description\": \"\"\n      }\n    },\n    {\n      \"column\": \"z\",\n      \"properties\": {\n        \"dtype\": \"number\",\n        \"std\": 0.44813433237964423,\n        \"min\": -0.03215387512538653,\n        \"max\": 1.0,\n        \"num_unique_values\": 4,\n        \"samples\": [\n          1.0,\n          0.20071656826872125,\n          0.24195524508168925\n        ],\n        \"semantic_type\": \"\",\n        \"description\": \"\"\n      }\n    },\n    {\n      \"column\": \"w\",\n      \"properties\": {\n        \"dtype\": \"number\",\n        \"std\": 0.44590493173260376,\n        \"min\": -0.03215387512538653,\n        \"max\": 1.0,\n        \"num_unique_values\": 4,\n        \"samples\": [\n          -0.03215387512538653,\n          0.7477657217414768,\n          0.7242481330538794\n        ],\n        \"semantic_type\": \"\",\n        \"description\": \"\"\n      }\n    },\n    {\n      \"column\": \"y\",\n      \"properties\": {\n        \"dtype\": \"number\",\n        \"std\": 0.37074552377091846,\n        \"min\": 0.20071656826872125,\n        \"max\": 1.0,\n        \"num_unique_values\": 4,\n        \"samples\": [\n          0.20071656826872125,\n          1.0,\n          0.9729004656594831\n        ],\n        \"semantic_type\": \"\",\n        \"description\": \"\"\n      }\n    }\n  ]\n}"
            }
          },
          "metadata": {},
          "execution_count": 49
        }
      ]
    },
    {
      "cell_type": "markdown",
      "source": [
        "### Step4: SR of y ~ x"
      ],
      "metadata": {
        "id": "kOy0O__MTZkS"
      }
    },
    {
      "cell_type": "code",
      "source": [
        "SR_x = sm.ols(\"y ~ x\", data=df).fit()\n",
        "print(SR_x.summary())"
      ],
      "metadata": {
        "colab": {
          "base_uri": "https://localhost:8080/"
        },
        "id": "KwWBVfHMTY3e",
        "outputId": "59b758e0-01a5-46b3-ccfa-ac44d1e7acf7"
      },
      "execution_count": null,
      "outputs": [
        {
          "output_type": "stream",
          "name": "stdout",
          "text": [
            "                            OLS Regression Results                            \n",
            "==============================================================================\n",
            "Dep. Variable:                      y   R-squared:                       0.947\n",
            "Model:                            OLS   Adj. R-squared:                  0.945\n",
            "Method:                 Least Squares   F-statistic:                     849.8\n",
            "Date:                Thu, 29 Feb 2024   Prob (F-statistic):           3.50e-32\n",
            "Time:                        14:39:12   Log-Likelihood:                -527.44\n",
            "No. Observations:                  50   AIC:                             1059.\n",
            "Df Residuals:                      48   BIC:                             1063.\n",
            "Df Model:                           1                                         \n",
            "Covariance Type:            nonrobust                                         \n",
            "==============================================================================\n",
            "                 coef    std err          t      P>|t|      [0.025      0.975]\n",
            "------------------------------------------------------------------------------\n",
            "Intercept   4.903e+04   2537.897     19.320      0.000    4.39e+04    5.41e+04\n",
            "x              0.8543      0.029     29.151      0.000       0.795       0.913\n",
            "==============================================================================\n",
            "Omnibus:                       13.727   Durbin-Watson:                   1.116\n",
            "Prob(Omnibus):                  0.001   Jarque-Bera (JB):               18.536\n",
            "Skew:                          -0.911   Prob(JB):                     9.44e-05\n",
            "Kurtosis:                       5.361   Cond. No.                     1.65e+05\n",
            "==============================================================================\n",
            "\n",
            "Notes:\n",
            "[1] Standard Errors assume that the covariance matrix of the errors is correctly specified.\n",
            "[2] The condition number is large, 1.65e+05. This might indicate that there are\n",
            "strong multicollinearity or other numerical problems.\n"
          ]
        }
      ]
    },
    {
      "cell_type": "markdown",
      "source": [
        "### Step5: MR1 of y ~ x + z"
      ],
      "metadata": {
        "id": "9Y-QKoGRTpsL"
      }
    },
    {
      "cell_type": "code",
      "source": [
        "MR1_xz = sm.ols(formula='y ~ x + z',data=df).fit()\n",
        "print(MR1_xz.summary())"
      ],
      "metadata": {
        "colab": {
          "base_uri": "https://localhost:8080/"
        },
        "id": "mTm_ZLisThiO",
        "outputId": "9ed203aa-fb5c-456a-d0be-bd530215d063"
      },
      "execution_count": null,
      "outputs": [
        {
          "output_type": "stream",
          "name": "stdout",
          "text": [
            "                            OLS Regression Results                            \n",
            "==============================================================================\n",
            "Dep. Variable:                      y   R-squared:                       0.948\n",
            "Model:                            OLS   Adj. R-squared:                  0.946\n",
            "Method:                 Least Squares   F-statistic:                     426.8\n",
            "Date:                Thu, 29 Feb 2024   Prob (F-statistic):           7.29e-31\n",
            "Time:                        14:39:54   Log-Likelihood:                -526.83\n",
            "No. Observations:                  50   AIC:                             1060.\n",
            "Df Residuals:                      47   BIC:                             1065.\n",
            "Df Model:                           2                                         \n",
            "Covariance Type:            nonrobust                                         \n",
            "==============================================================================\n",
            "                 coef    std err          t      P>|t|      [0.025      0.975]\n",
            "------------------------------------------------------------------------------\n",
            "Intercept   5.489e+04   6016.718      9.122      0.000    4.28e+04     6.7e+04\n",
            "x              0.8621      0.030     28.589      0.000       0.801       0.923\n",
            "z             -0.0530      0.049     -1.073      0.289      -0.152       0.046\n",
            "==============================================================================\n",
            "Omnibus:                       14.678   Durbin-Watson:                   1.189\n",
            "Prob(Omnibus):                  0.001   Jarque-Bera (JB):               20.449\n",
            "Skew:                          -0.961   Prob(JB):                     3.63e-05\n",
            "Kurtosis:                       5.474   Cond. No.                     6.65e+05\n",
            "==============================================================================\n",
            "\n",
            "Notes:\n",
            "[1] Standard Errors assume that the covariance matrix of the errors is correctly specified.\n",
            "[2] The condition number is large, 6.65e+05. This might indicate that there are\n",
            "strong multicollinearity or other numerical problems.\n"
          ]
        }
      ]
    },
    {
      "cell_type": "markdown",
      "source": [
        "### Step6: MR2 of y ~ x + w"
      ],
      "metadata": {
        "id": "-sDnIiEUTujO"
      }
    },
    {
      "cell_type": "code",
      "source": [
        "MR2_xw = sm.ols('y ~ x + w',df).fit()\n",
        "print(MR2_xw.summary())"
      ],
      "metadata": {
        "colab": {
          "base_uri": "https://localhost:8080/"
        },
        "id": "vi3skAwkTono",
        "outputId": "e98e496f-5eea-44bb-8034-43cd3df31707"
      },
      "execution_count": null,
      "outputs": [
        {
          "output_type": "stream",
          "name": "stdout",
          "text": [
            "                            OLS Regression Results                            \n",
            "==============================================================================\n",
            "Dep. Variable:                      y   R-squared:                       0.950\n",
            "Model:                            OLS   Adj. R-squared:                  0.948\n",
            "Method:                 Least Squares   F-statistic:                     450.8\n",
            "Date:                Thu, 29 Feb 2024   Prob (F-statistic):           2.16e-31\n",
            "Time:                        14:40:44   Log-Likelihood:                -525.54\n",
            "No. Observations:                  50   AIC:                             1057.\n",
            "Df Residuals:                      47   BIC:                             1063.\n",
            "Df Model:                           2                                         \n",
            "Covariance Type:            nonrobust                                         \n",
            "==============================================================================\n",
            "                 coef    std err          t      P>|t|      [0.025      0.975]\n",
            "------------------------------------------------------------------------------\n",
            "Intercept   4.698e+04   2689.933     17.464      0.000    4.16e+04    5.24e+04\n",
            "x              0.7966      0.041     19.266      0.000       0.713       0.880\n",
            "w              0.0299      0.016      1.927      0.060      -0.001       0.061\n",
            "==============================================================================\n",
            "Omnibus:                       14.677   Durbin-Watson:                   1.257\n",
            "Prob(Omnibus):                  0.001   Jarque-Bera (JB):               21.161\n",
            "Skew:                          -0.939   Prob(JB):                     2.54e-05\n",
            "Kurtosis:                       5.575   Cond. No.                     5.32e+05\n",
            "==============================================================================\n",
            "\n",
            "Notes:\n",
            "[1] Standard Errors assume that the covariance matrix of the errors is correctly specified.\n",
            "[2] The condition number is large, 5.32e+05. This might indicate that there are\n",
            "strong multicollinearity or other numerical problems.\n"
          ]
        }
      ]
    },
    {
      "cell_type": "markdown",
      "source": [
        "### Step7: MR3 of y ~ x + z + w"
      ],
      "metadata": {
        "id": "aAwGzQnpT7aT"
      }
    },
    {
      "cell_type": "code",
      "source": [
        "MR3_xzw = sm.ols('y ~ x + z + w',df).fit()\n",
        "print(MR3_xzw.summary())"
      ],
      "metadata": {
        "colab": {
          "base_uri": "https://localhost:8080/"
        },
        "id": "-Xu8h262T32e",
        "outputId": "1fa3b04e-8059-4294-a8e6-c42e9a207699"
      },
      "execution_count": null,
      "outputs": [
        {
          "output_type": "stream",
          "name": "stdout",
          "text": [
            "                            OLS Regression Results                            \n",
            "==============================================================================\n",
            "Dep. Variable:                      y   R-squared:                       0.951\n",
            "Model:                            OLS   Adj. R-squared:                  0.948\n",
            "Method:                 Least Squares   F-statistic:                     296.0\n",
            "Date:                Thu, 29 Feb 2024   Prob (F-statistic):           4.53e-30\n",
            "Time:                        14:41:20   Log-Likelihood:                -525.39\n",
            "No. Observations:                  50   AIC:                             1059.\n",
            "Df Residuals:                      46   BIC:                             1066.\n",
            "Df Model:                           3                                         \n",
            "Covariance Type:            nonrobust                                         \n",
            "==============================================================================\n",
            "                 coef    std err          t      P>|t|      [0.025      0.975]\n",
            "------------------------------------------------------------------------------\n",
            "Intercept   5.012e+04   6572.353      7.626      0.000    3.69e+04    6.34e+04\n",
            "x              0.8057      0.045     17.846      0.000       0.715       0.897\n",
            "z             -0.0268      0.051     -0.526      0.602      -0.130       0.076\n",
            "w              0.0272      0.016      1.655      0.105      -0.006       0.060\n",
            "==============================================================================\n",
            "Omnibus:                       14.838   Durbin-Watson:                   1.282\n",
            "Prob(Omnibus):                  0.001   Jarque-Bera (JB):               21.442\n",
            "Skew:                          -0.949   Prob(JB):                     2.21e-05\n",
            "Kurtosis:                       5.586   Cond. No.                     1.40e+06\n",
            "==============================================================================\n",
            "\n",
            "Notes:\n",
            "[1] Standard Errors assume that the covariance matrix of the errors is correctly specified.\n",
            "[2] The condition number is large, 1.4e+06. This might indicate that there are\n",
            "strong multicollinearity or other numerical problems.\n"
          ]
        }
      ]
    },
    {
      "cell_type": "markdown",
      "source": [
        "**Conclusions**:\n",
        "1. SR overestimates the relationship of XY by omitting Z;\n",
        "2. MR1 corrects the inflated bias in XY by including Z;\n",
        "3. MR2 increases the predictive power without increasing explanatory power of X."
      ],
      "metadata": {
        "id": "LxOy5mOwUDUr"
      }
    },
    {
      "cell_type": "code",
      "source": [],
      "metadata": {
        "id": "VxIax5y2UAg9"
      },
      "execution_count": null,
      "outputs": []
    },
    {
      "cell_type": "markdown",
      "source": [
        "## Demo3: Multiple Regression\n",
        "In Demo3, we will present operation of multiple regression with **wage1.csv** in demo1.\n",
        "\n",
        "We will cover the following content:\n",
        "\n",
        "Simple regression: y ~ x\n",
        "Unstandardized vs standardized coefficients\n",
        "Multiple regression:\n",
        "MR1_xz: correlated IVs: y ~ x + z\n",
        "MR2_xw: uncorrelated IVs: y ~ x + w\n",
        "MR3_xzw (mutiple regression of all three IVs): y ~ x + z + w"
      ],
      "metadata": {
        "id": "6we60QDEUTlb"
      }
    },
    {
      "cell_type": "markdown",
      "source": [
        "### Step1: Import packages"
      ],
      "metadata": {
        "id": "bdhzRhf-U8vl"
      }
    },
    {
      "cell_type": "code",
      "source": [
        "import pandas as pd, numpy as np\n",
        "import statsmodels.formula.api as sm\n",
        "import matplotlib.pyplot as plt"
      ],
      "metadata": {
        "id": "T3X7PqlmUvBo"
      },
      "execution_count": null,
      "outputs": []
    },
    {
      "cell_type": "code",
      "source": [
        "wage1 = pd.read_csv('wage1.csv')\n",
        "wage1.info()"
      ],
      "metadata": {
        "colab": {
          "base_uri": "https://localhost:8080/"
        },
        "id": "jTjhfhdsVBav",
        "outputId": "8c5377d9-ec07-4ba5-c689-0a70b8895802"
      },
      "execution_count": null,
      "outputs": [
        {
          "output_type": "stream",
          "name": "stdout",
          "text": [
            "<class 'pandas.core.frame.DataFrame'>\n",
            "RangeIndex: 526 entries, 0 to 525\n",
            "Data columns (total 24 columns):\n",
            " #   Column    Non-Null Count  Dtype  \n",
            "---  ------    --------------  -----  \n",
            " 0   wage      526 non-null    float64\n",
            " 1   educ      526 non-null    int64  \n",
            " 2   exper     526 non-null    int64  \n",
            " 3   tenure    526 non-null    int64  \n",
            " 4   nonwhite  526 non-null    int64  \n",
            " 5   female    526 non-null    int64  \n",
            " 6   married   526 non-null    int64  \n",
            " 7   numdep    526 non-null    int64  \n",
            " 8   smsa      526 non-null    int64  \n",
            " 9   northcen  526 non-null    int64  \n",
            " 10  south     526 non-null    int64  \n",
            " 11  west      526 non-null    int64  \n",
            " 12  construc  526 non-null    int64  \n",
            " 13  ndurman   526 non-null    int64  \n",
            " 14  trcommpu  526 non-null    int64  \n",
            " 15  trade     526 non-null    int64  \n",
            " 16  services  526 non-null    int64  \n",
            " 17  profserv  526 non-null    int64  \n",
            " 18  profocc   526 non-null    int64  \n",
            " 19  clerocc   526 non-null    int64  \n",
            " 20  servocc   526 non-null    int64  \n",
            " 21  lwage     526 non-null    float64\n",
            " 22  expersq   526 non-null    int64  \n",
            " 23  tenursq   526 non-null    int64  \n",
            "dtypes: float64(2), int64(22)\n",
            "memory usage: 98.8 KB\n"
          ]
        }
      ]
    },
    {
      "cell_type": "markdown",
      "source": [
        "### Step2: Correlation among DV, PIV and CVs"
      ],
      "metadata": {
        "id": "liZjWORsVMgE"
      }
    },
    {
      "cell_type": "code",
      "source": [
        "wage1[['wage','educ','exper','smsa']].corr()"
      ],
      "metadata": {
        "colab": {
          "base_uri": "https://localhost:8080/",
          "height": 175
        },
        "id": "UgXGfQZ4VKTf",
        "outputId": "57af1738-fdab-4be4-c31b-f616e41aa2bf"
      },
      "execution_count": null,
      "outputs": [
        {
          "output_type": "execute_result",
          "data": {
            "text/plain": [
              "           wage      educ     exper      smsa\n",
              "wage   1.000000  0.405903  0.112903  0.177885\n",
              "educ   0.405903  1.000000 -0.299542  0.224309\n",
              "exper  0.112903 -0.299542  1.000000 -0.117260\n",
              "smsa   0.177885  0.224309 -0.117260  1.000000"
            ],
            "text/html": [
              "\n",
              "  <div id=\"df-17e8de32-3e67-4105-a0a0-6d34ecf36963\" class=\"colab-df-container\">\n",
              "    <div>\n",
              "<style scoped>\n",
              "    .dataframe tbody tr th:only-of-type {\n",
              "        vertical-align: middle;\n",
              "    }\n",
              "\n",
              "    .dataframe tbody tr th {\n",
              "        vertical-align: top;\n",
              "    }\n",
              "\n",
              "    .dataframe thead th {\n",
              "        text-align: right;\n",
              "    }\n",
              "</style>\n",
              "<table border=\"1\" class=\"dataframe\">\n",
              "  <thead>\n",
              "    <tr style=\"text-align: right;\">\n",
              "      <th></th>\n",
              "      <th>wage</th>\n",
              "      <th>educ</th>\n",
              "      <th>exper</th>\n",
              "      <th>smsa</th>\n",
              "    </tr>\n",
              "  </thead>\n",
              "  <tbody>\n",
              "    <tr>\n",
              "      <th>wage</th>\n",
              "      <td>1.000000</td>\n",
              "      <td>0.405903</td>\n",
              "      <td>0.112903</td>\n",
              "      <td>0.177885</td>\n",
              "    </tr>\n",
              "    <tr>\n",
              "      <th>educ</th>\n",
              "      <td>0.405903</td>\n",
              "      <td>1.000000</td>\n",
              "      <td>-0.299542</td>\n",
              "      <td>0.224309</td>\n",
              "    </tr>\n",
              "    <tr>\n",
              "      <th>exper</th>\n",
              "      <td>0.112903</td>\n",
              "      <td>-0.299542</td>\n",
              "      <td>1.000000</td>\n",
              "      <td>-0.117260</td>\n",
              "    </tr>\n",
              "    <tr>\n",
              "      <th>smsa</th>\n",
              "      <td>0.177885</td>\n",
              "      <td>0.224309</td>\n",
              "      <td>-0.117260</td>\n",
              "      <td>1.000000</td>\n",
              "    </tr>\n",
              "  </tbody>\n",
              "</table>\n",
              "</div>\n",
              "    <div class=\"colab-df-buttons\">\n",
              "\n",
              "  <div class=\"colab-df-container\">\n",
              "    <button class=\"colab-df-convert\" onclick=\"convertToInteractive('df-17e8de32-3e67-4105-a0a0-6d34ecf36963')\"\n",
              "            title=\"Convert this dataframe to an interactive table.\"\n",
              "            style=\"display:none;\">\n",
              "\n",
              "  <svg xmlns=\"http://www.w3.org/2000/svg\" height=\"24px\" viewBox=\"0 -960 960 960\">\n",
              "    <path d=\"M120-120v-720h720v720H120Zm60-500h600v-160H180v160Zm220 220h160v-160H400v160Zm0 220h160v-160H400v160ZM180-400h160v-160H180v160Zm440 0h160v-160H620v160ZM180-180h160v-160H180v160Zm440 0h160v-160H620v160Z\"/>\n",
              "  </svg>\n",
              "    </button>\n",
              "\n",
              "  <style>\n",
              "    .colab-df-container {\n",
              "      display:flex;\n",
              "      gap: 12px;\n",
              "    }\n",
              "\n",
              "    .colab-df-convert {\n",
              "      background-color: #E8F0FE;\n",
              "      border: none;\n",
              "      border-radius: 50%;\n",
              "      cursor: pointer;\n",
              "      display: none;\n",
              "      fill: #1967D2;\n",
              "      height: 32px;\n",
              "      padding: 0 0 0 0;\n",
              "      width: 32px;\n",
              "    }\n",
              "\n",
              "    .colab-df-convert:hover {\n",
              "      background-color: #E2EBFA;\n",
              "      box-shadow: 0px 1px 2px rgba(60, 64, 67, 0.3), 0px 1px 3px 1px rgba(60, 64, 67, 0.15);\n",
              "      fill: #174EA6;\n",
              "    }\n",
              "\n",
              "    .colab-df-buttons div {\n",
              "      margin-bottom: 4px;\n",
              "    }\n",
              "\n",
              "    [theme=dark] .colab-df-convert {\n",
              "      background-color: #3B4455;\n",
              "      fill: #D2E3FC;\n",
              "    }\n",
              "\n",
              "    [theme=dark] .colab-df-convert:hover {\n",
              "      background-color: #434B5C;\n",
              "      box-shadow: 0px 1px 3px 1px rgba(0, 0, 0, 0.15);\n",
              "      filter: drop-shadow(0px 1px 2px rgba(0, 0, 0, 0.3));\n",
              "      fill: #FFFFFF;\n",
              "    }\n",
              "  </style>\n",
              "\n",
              "    <script>\n",
              "      const buttonEl =\n",
              "        document.querySelector('#df-17e8de32-3e67-4105-a0a0-6d34ecf36963 button.colab-df-convert');\n",
              "      buttonEl.style.display =\n",
              "        google.colab.kernel.accessAllowed ? 'block' : 'none';\n",
              "\n",
              "      async function convertToInteractive(key) {\n",
              "        const element = document.querySelector('#df-17e8de32-3e67-4105-a0a0-6d34ecf36963');\n",
              "        const dataTable =\n",
              "          await google.colab.kernel.invokeFunction('convertToInteractive',\n",
              "                                                    [key], {});\n",
              "        if (!dataTable) return;\n",
              "\n",
              "        const docLinkHtml = 'Like what you see? Visit the ' +\n",
              "          '<a target=\"_blank\" href=https://colab.research.google.com/notebooks/data_table.ipynb>data table notebook</a>'\n",
              "          + ' to learn more about interactive tables.';\n",
              "        element.innerHTML = '';\n",
              "        dataTable['output_type'] = 'display_data';\n",
              "        await google.colab.output.renderOutput(dataTable, element);\n",
              "        const docLink = document.createElement('div');\n",
              "        docLink.innerHTML = docLinkHtml;\n",
              "        element.appendChild(docLink);\n",
              "      }\n",
              "    </script>\n",
              "  </div>\n",
              "\n",
              "\n",
              "<div id=\"df-2ff9f671-3e1c-4ed2-a165-77eed2f61fa3\">\n",
              "  <button class=\"colab-df-quickchart\" onclick=\"quickchart('df-2ff9f671-3e1c-4ed2-a165-77eed2f61fa3')\"\n",
              "            title=\"Suggest charts\"\n",
              "            style=\"display:none;\">\n",
              "\n",
              "<svg xmlns=\"http://www.w3.org/2000/svg\" height=\"24px\"viewBox=\"0 0 24 24\"\n",
              "     width=\"24px\">\n",
              "    <g>\n",
              "        <path d=\"M19 3H5c-1.1 0-2 .9-2 2v14c0 1.1.9 2 2 2h14c1.1 0 2-.9 2-2V5c0-1.1-.9-2-2-2zM9 17H7v-7h2v7zm4 0h-2V7h2v10zm4 0h-2v-4h2v4z\"/>\n",
              "    </g>\n",
              "</svg>\n",
              "  </button>\n",
              "\n",
              "<style>\n",
              "  .colab-df-quickchart {\n",
              "      --bg-color: #E8F0FE;\n",
              "      --fill-color: #1967D2;\n",
              "      --hover-bg-color: #E2EBFA;\n",
              "      --hover-fill-color: #174EA6;\n",
              "      --disabled-fill-color: #AAA;\n",
              "      --disabled-bg-color: #DDD;\n",
              "  }\n",
              "\n",
              "  [theme=dark] .colab-df-quickchart {\n",
              "      --bg-color: #3B4455;\n",
              "      --fill-color: #D2E3FC;\n",
              "      --hover-bg-color: #434B5C;\n",
              "      --hover-fill-color: #FFFFFF;\n",
              "      --disabled-bg-color: #3B4455;\n",
              "      --disabled-fill-color: #666;\n",
              "  }\n",
              "\n",
              "  .colab-df-quickchart {\n",
              "    background-color: var(--bg-color);\n",
              "    border: none;\n",
              "    border-radius: 50%;\n",
              "    cursor: pointer;\n",
              "    display: none;\n",
              "    fill: var(--fill-color);\n",
              "    height: 32px;\n",
              "    padding: 0;\n",
              "    width: 32px;\n",
              "  }\n",
              "\n",
              "  .colab-df-quickchart:hover {\n",
              "    background-color: var(--hover-bg-color);\n",
              "    box-shadow: 0 1px 2px rgba(60, 64, 67, 0.3), 0 1px 3px 1px rgba(60, 64, 67, 0.15);\n",
              "    fill: var(--button-hover-fill-color);\n",
              "  }\n",
              "\n",
              "  .colab-df-quickchart-complete:disabled,\n",
              "  .colab-df-quickchart-complete:disabled:hover {\n",
              "    background-color: var(--disabled-bg-color);\n",
              "    fill: var(--disabled-fill-color);\n",
              "    box-shadow: none;\n",
              "  }\n",
              "\n",
              "  .colab-df-spinner {\n",
              "    border: 2px solid var(--fill-color);\n",
              "    border-color: transparent;\n",
              "    border-bottom-color: var(--fill-color);\n",
              "    animation:\n",
              "      spin 1s steps(1) infinite;\n",
              "  }\n",
              "\n",
              "  @keyframes spin {\n",
              "    0% {\n",
              "      border-color: transparent;\n",
              "      border-bottom-color: var(--fill-color);\n",
              "      border-left-color: var(--fill-color);\n",
              "    }\n",
              "    20% {\n",
              "      border-color: transparent;\n",
              "      border-left-color: var(--fill-color);\n",
              "      border-top-color: var(--fill-color);\n",
              "    }\n",
              "    30% {\n",
              "      border-color: transparent;\n",
              "      border-left-color: var(--fill-color);\n",
              "      border-top-color: var(--fill-color);\n",
              "      border-right-color: var(--fill-color);\n",
              "    }\n",
              "    40% {\n",
              "      border-color: transparent;\n",
              "      border-right-color: var(--fill-color);\n",
              "      border-top-color: var(--fill-color);\n",
              "    }\n",
              "    60% {\n",
              "      border-color: transparent;\n",
              "      border-right-color: var(--fill-color);\n",
              "    }\n",
              "    80% {\n",
              "      border-color: transparent;\n",
              "      border-right-color: var(--fill-color);\n",
              "      border-bottom-color: var(--fill-color);\n",
              "    }\n",
              "    90% {\n",
              "      border-color: transparent;\n",
              "      border-bottom-color: var(--fill-color);\n",
              "    }\n",
              "  }\n",
              "</style>\n",
              "\n",
              "  <script>\n",
              "    async function quickchart(key) {\n",
              "      const quickchartButtonEl =\n",
              "        document.querySelector('#' + key + ' button');\n",
              "      quickchartButtonEl.disabled = true;  // To prevent multiple clicks.\n",
              "      quickchartButtonEl.classList.add('colab-df-spinner');\n",
              "      try {\n",
              "        const charts = await google.colab.kernel.invokeFunction(\n",
              "            'suggestCharts', [key], {});\n",
              "      } catch (error) {\n",
              "        console.error('Error during call to suggestCharts:', error);\n",
              "      }\n",
              "      quickchartButtonEl.classList.remove('colab-df-spinner');\n",
              "      quickchartButtonEl.classList.add('colab-df-quickchart-complete');\n",
              "    }\n",
              "    (() => {\n",
              "      let quickchartButtonEl =\n",
              "        document.querySelector('#df-2ff9f671-3e1c-4ed2-a165-77eed2f61fa3 button');\n",
              "      quickchartButtonEl.style.display =\n",
              "        google.colab.kernel.accessAllowed ? 'block' : 'none';\n",
              "    })();\n",
              "  </script>\n",
              "</div>\n",
              "    </div>\n",
              "  </div>\n"
            ],
            "application/vnd.google.colaboratory.intrinsic+json": {
              "type": "dataframe",
              "summary": "{\n  \"name\": \"wage1[['wage','educ','exper','smsa']]\",\n  \"rows\": 4,\n  \"fields\": [\n    {\n      \"column\": \"wage\",\n      \"properties\": {\n        \"dtype\": \"number\",\n        \"std\": 0.4039211760869298,\n        \"min\": 0.11290343882797123,\n        \"max\": 1.0,\n        \"num_unique_values\": 4,\n        \"samples\": [\n          0.40590332900463266,\n          0.17788517051011166,\n          1.0\n        ],\n        \"semantic_type\": \"\",\n        \"description\": \"\"\n      }\n    },\n    {\n      \"column\": \"educ\",\n      \"properties\": {\n        \"dtype\": \"number\",\n        \"std\": 0.5360741345460646,\n        \"min\": -0.29954184474796103,\n        \"max\": 1.0,\n        \"num_unique_values\": 4,\n        \"samples\": [\n          1.0,\n          0.22430871911420952,\n          0.40590332900463266\n        ],\n        \"semantic_type\": \"\",\n        \"description\": \"\"\n      }\n    },\n    {\n      \"column\": \"exper\",\n      \"properties\": {\n        \"dtype\": \"number\",\n        \"std\": 0.5759291278007532,\n        \"min\": -0.29954184474796103,\n        \"max\": 1.0,\n        \"num_unique_values\": 4,\n        \"samples\": [\n          -0.29954184474796103,\n          -0.11726004671363074,\n          0.11290343882797123\n        ],\n        \"semantic_type\": \"\",\n        \"description\": \"\"\n      }\n    },\n    {\n      \"column\": \"smsa\",\n      \"properties\": {\n        \"dtype\": \"number\",\n        \"std\": 0.4771246199017063,\n        \"min\": -0.11726004671363074,\n        \"max\": 1.0,\n        \"num_unique_values\": 4,\n        \"samples\": [\n          0.22430871911420952,\n          1.0,\n          0.17788517051011166\n        ],\n        \"semantic_type\": \"\",\n        \"description\": \"\"\n      }\n    }\n  ]\n}"
            }
          },
          "metadata": {},
          "execution_count": 57
        }
      ]
    },
    {
      "cell_type": "markdown",
      "source": [
        "### Step3: SR with one positively correlated IV\n"
      ],
      "metadata": {
        "id": "x87Kn3FwVTro"
      }
    },
    {
      "cell_type": "code",
      "source": [
        "SR = sm.ols('wage ~ educ', data = wage1).fit()\n",
        "print(SR.summary())"
      ],
      "metadata": {
        "colab": {
          "base_uri": "https://localhost:8080/"
        },
        "id": "5baxKsmhVRGl",
        "outputId": "4fb1e11d-ae2f-4b05-c439-4d4a4f918632"
      },
      "execution_count": null,
      "outputs": [
        {
          "output_type": "stream",
          "name": "stdout",
          "text": [
            "                            OLS Regression Results                            \n",
            "==============================================================================\n",
            "Dep. Variable:                   wage   R-squared:                       0.165\n",
            "Model:                            OLS   Adj. R-squared:                  0.163\n",
            "Method:                 Least Squares   F-statistic:                     103.4\n",
            "Date:                Thu, 29 Feb 2024   Prob (F-statistic):           2.78e-22\n",
            "Time:                        14:47:14   Log-Likelihood:                -1385.7\n",
            "No. Observations:                 526   AIC:                             2775.\n",
            "Df Residuals:                     524   BIC:                             2784.\n",
            "Df Model:                           1                                         \n",
            "Covariance Type:            nonrobust                                         \n",
            "==============================================================================\n",
            "                 coef    std err          t      P>|t|      [0.025      0.975]\n",
            "------------------------------------------------------------------------------\n",
            "Intercept     -0.9049      0.685     -1.321      0.187      -2.250       0.441\n",
            "educ           0.5414      0.053     10.167      0.000       0.437       0.646\n",
            "==============================================================================\n",
            "Omnibus:                      212.554   Durbin-Watson:                   1.824\n",
            "Prob(Omnibus):                  0.000   Jarque-Bera (JB):              807.843\n",
            "Skew:                           1.861   Prob(JB):                    3.79e-176\n",
            "Kurtosis:                       7.797   Cond. No.                         60.2\n",
            "==============================================================================\n",
            "\n",
            "Notes:\n",
            "[1] Standard Errors assume that the covariance matrix of the errors is correctly specified.\n"
          ]
        }
      ]
    },
    {
      "cell_type": "markdown",
      "source": [
        "### Step4: MR1 with including two positively correlated IVs"
      ],
      "metadata": {
        "id": "_lel9vi1VZiD"
      }
    },
    {
      "cell_type": "code",
      "source": [
        "MR1 = sm.ols('wage ~ educ + smsa', data = wage1).fit()\n",
        "print(MR1.summary())"
      ],
      "metadata": {
        "colab": {
          "base_uri": "https://localhost:8080/"
        },
        "id": "qHPjYYPZVXED",
        "outputId": "785c1bd4-5ff5-46cb-fce4-939a7f006be2"
      },
      "execution_count": null,
      "outputs": [
        {
          "output_type": "stream",
          "name": "stdout",
          "text": [
            "                            OLS Regression Results                            \n",
            "==============================================================================\n",
            "Dep. Variable:                   wage   R-squared:                       0.173\n",
            "Model:                            OLS   Adj. R-squared:                  0.170\n",
            "Method:                 Least Squares   F-statistic:                     54.59\n",
            "Date:                Thu, 29 Feb 2024   Prob (F-statistic):           2.95e-22\n",
            "Time:                        14:47:38   Log-Likelihood:                -1383.2\n",
            "No. Observations:                 526   AIC:                             2772.\n",
            "Df Residuals:                     523   BIC:                             2785.\n",
            "Df Model:                           2                                         \n",
            "Covariance Type:            nonrobust                                         \n",
            "==============================================================================\n",
            "                 coef    std err          t      P>|t|      [0.025      0.975]\n",
            "------------------------------------------------------------------------------\n",
            "Intercept     -1.1055      0.688     -1.606      0.109      -2.457       0.247\n",
            "educ           0.5140      0.054      9.443      0.000       0.407       0.621\n",
            "smsa           0.7534      0.336      2.240      0.025       0.093       1.414\n",
            "==============================================================================\n",
            "Omnibus:                      211.923   Durbin-Watson:                   1.841\n",
            "Prob(Omnibus):                  0.000   Jarque-Bera (JB):              807.372\n",
            "Skew:                           1.853   Prob(JB):                    4.80e-176\n",
            "Kurtosis:                       7.807   Cond. No.                         60.9\n",
            "==============================================================================\n",
            "\n",
            "Notes:\n",
            "[1] Standard Errors assume that the covariance matrix of the errors is correctly specified.\n"
          ]
        }
      ]
    },
    {
      "cell_type": "markdown",
      "source": [
        "### Step5: MR2 with including two negatively correlated IVs"
      ],
      "metadata": {
        "id": "fimC0DRuVfa5"
      }
    },
    {
      "cell_type": "code",
      "source": [
        "MR2 = sm.ols('wage ~ educ + exper', data = wage1).fit()\n",
        "print(MR2.summary())"
      ],
      "metadata": {
        "colab": {
          "base_uri": "https://localhost:8080/"
        },
        "id": "Knvr-GdAVc4y",
        "outputId": "6f739b66-281c-4a13-945b-958dc18528e4"
      },
      "execution_count": null,
      "outputs": [
        {
          "output_type": "stream",
          "name": "stdout",
          "text": [
            "                            OLS Regression Results                            \n",
            "==============================================================================\n",
            "Dep. Variable:                   wage   R-squared:                       0.225\n",
            "Model:                            OLS   Adj. R-squared:                  0.222\n",
            "Method:                 Least Squares   F-statistic:                     75.99\n",
            "Date:                Thu, 29 Feb 2024   Prob (F-statistic):           1.07e-29\n",
            "Time:                        14:48:06   Log-Likelihood:                -1366.0\n",
            "No. Observations:                 526   AIC:                             2738.\n",
            "Df Residuals:                     523   BIC:                             2751.\n",
            "Df Model:                           2                                         \n",
            "Covariance Type:            nonrobust                                         \n",
            "==============================================================================\n",
            "                 coef    std err          t      P>|t|      [0.025      0.975]\n",
            "------------------------------------------------------------------------------\n",
            "Intercept     -3.3905      0.767     -4.423      0.000      -4.896      -1.885\n",
            "educ           0.6443      0.054     11.974      0.000       0.539       0.750\n",
            "exper          0.0701      0.011      6.385      0.000       0.049       0.092\n",
            "==============================================================================\n",
            "Omnibus:                      196.872   Durbin-Watson:                   1.820\n",
            "Prob(Omnibus):                  0.000   Jarque-Bera (JB):              727.160\n",
            "Skew:                           1.715   Prob(JB):                    1.26e-158\n",
            "Kurtosis:                       7.627   Cond. No.                         130.\n",
            "==============================================================================\n",
            "\n",
            "Notes:\n",
            "[1] Standard Errors assume that the covariance matrix of the errors is correctly specified.\n"
          ]
        }
      ]
    },
    {
      "cell_type": "markdown",
      "source": [
        "### Step6: MR3 with three IVs that are positively or negatively correlated"
      ],
      "metadata": {
        "id": "j-tF8cgwVmIm"
      }
    },
    {
      "cell_type": "code",
      "source": [
        "MR3 = sm.ols('wage ~ educ + smsa + exper', data = wage1).fit()\n",
        "print(MR3.summary())"
      ],
      "metadata": {
        "colab": {
          "base_uri": "https://localhost:8080/"
        },
        "id": "DT-JVAzZVjwD",
        "outputId": "88b5d163-76d1-4a04-ec19-710015999396"
      },
      "execution_count": null,
      "outputs": [
        {
          "output_type": "stream",
          "name": "stdout",
          "text": [
            "                            OLS Regression Results                            \n",
            "==============================================================================\n",
            "Dep. Variable:                   wage   R-squared:                       0.236\n",
            "Model:                            OLS   Adj. R-squared:                  0.231\n",
            "Method:                 Least Squares   F-statistic:                     53.65\n",
            "Date:                Thu, 29 Feb 2024   Prob (F-statistic):           3.07e-30\n",
            "Time:                        14:48:30   Log-Likelihood:                -1362.4\n",
            "No. Observations:                 526   AIC:                             2733.\n",
            "Df Residuals:                     522   BIC:                             2750.\n",
            "Df Model:                           3                                         \n",
            "Covariance Type:            nonrobust                                         \n",
            "==============================================================================\n",
            "                 coef    std err          t      P>|t|      [0.025      0.975]\n",
            "------------------------------------------------------------------------------\n",
            "Intercept     -3.6775      0.770     -4.779      0.000      -5.189      -2.166\n",
            "educ           0.6151      0.055     11.267      0.000       0.508       0.722\n",
            "smsa           0.8678      0.324      2.678      0.008       0.231       1.504\n",
            "exper          0.0717      0.011      6.558      0.000       0.050       0.093\n",
            "==============================================================================\n",
            "Omnibus:                      197.574   Durbin-Watson:                   1.843\n",
            "Prob(Omnibus):                  0.000   Jarque-Bera (JB):              734.153\n",
            "Skew:                           1.720   Prob(JB):                    3.81e-160\n",
            "Kurtosis:                       7.655   Cond. No.                         131.\n",
            "==============================================================================\n",
            "\n",
            "Notes:\n",
            "[1] Standard Errors assume that the covariance matrix of the errors is correctly specified.\n"
          ]
        }
      ]
    },
    {
      "cell_type": "markdown",
      "source": [
        "### Step7: Std Coefficient and R<sup>2</sup>"
      ],
      "metadata": {
        "id": "8_RSx8ScVwNE"
      }
    },
    {
      "cell_type": "markdown",
      "source": [
        "Std Coefficient = Unstd Coef * X<sub>SD</sub> /  Y<sub>SD</sub>"
      ],
      "metadata": {
        "id": "sx5mwTewV-Ux"
      }
    },
    {
      "cell_type": "code",
      "source": [
        "wage1[['wage','educ','smsa','exper']].describe()"
      ],
      "metadata": {
        "colab": {
          "base_uri": "https://localhost:8080/",
          "height": 300
        },
        "id": "QPgqxIqAVpnC",
        "outputId": "4dfff97d-7d3a-44d6-bfba-80ca8e6d6176"
      },
      "execution_count": null,
      "outputs": [
        {
          "output_type": "execute_result",
          "data": {
            "text/plain": [
              "             wage        educ        smsa      exper\n",
              "count  526.000000  526.000000  526.000000  526.00000\n",
              "mean     5.896103   12.562738    0.722433   17.01711\n",
              "std      3.693086    2.769022    0.448225   13.57216\n",
              "min      0.530000    0.000000    0.000000    1.00000\n",
              "25%      3.330000   12.000000    0.000000    5.00000\n",
              "50%      4.650000   12.000000    1.000000   13.50000\n",
              "75%      6.880000   14.000000    1.000000   26.00000\n",
              "max     24.980000   18.000000    1.000000   51.00000"
            ],
            "text/html": [
              "\n",
              "  <div id=\"df-a4fb537d-b883-496b-b890-f251d628235d\" class=\"colab-df-container\">\n",
              "    <div>\n",
              "<style scoped>\n",
              "    .dataframe tbody tr th:only-of-type {\n",
              "        vertical-align: middle;\n",
              "    }\n",
              "\n",
              "    .dataframe tbody tr th {\n",
              "        vertical-align: top;\n",
              "    }\n",
              "\n",
              "    .dataframe thead th {\n",
              "        text-align: right;\n",
              "    }\n",
              "</style>\n",
              "<table border=\"1\" class=\"dataframe\">\n",
              "  <thead>\n",
              "    <tr style=\"text-align: right;\">\n",
              "      <th></th>\n",
              "      <th>wage</th>\n",
              "      <th>educ</th>\n",
              "      <th>smsa</th>\n",
              "      <th>exper</th>\n",
              "    </tr>\n",
              "  </thead>\n",
              "  <tbody>\n",
              "    <tr>\n",
              "      <th>count</th>\n",
              "      <td>526.000000</td>\n",
              "      <td>526.000000</td>\n",
              "      <td>526.000000</td>\n",
              "      <td>526.00000</td>\n",
              "    </tr>\n",
              "    <tr>\n",
              "      <th>mean</th>\n",
              "      <td>5.896103</td>\n",
              "      <td>12.562738</td>\n",
              "      <td>0.722433</td>\n",
              "      <td>17.01711</td>\n",
              "    </tr>\n",
              "    <tr>\n",
              "      <th>std</th>\n",
              "      <td>3.693086</td>\n",
              "      <td>2.769022</td>\n",
              "      <td>0.448225</td>\n",
              "      <td>13.57216</td>\n",
              "    </tr>\n",
              "    <tr>\n",
              "      <th>min</th>\n",
              "      <td>0.530000</td>\n",
              "      <td>0.000000</td>\n",
              "      <td>0.000000</td>\n",
              "      <td>1.00000</td>\n",
              "    </tr>\n",
              "    <tr>\n",
              "      <th>25%</th>\n",
              "      <td>3.330000</td>\n",
              "      <td>12.000000</td>\n",
              "      <td>0.000000</td>\n",
              "      <td>5.00000</td>\n",
              "    </tr>\n",
              "    <tr>\n",
              "      <th>50%</th>\n",
              "      <td>4.650000</td>\n",
              "      <td>12.000000</td>\n",
              "      <td>1.000000</td>\n",
              "      <td>13.50000</td>\n",
              "    </tr>\n",
              "    <tr>\n",
              "      <th>75%</th>\n",
              "      <td>6.880000</td>\n",
              "      <td>14.000000</td>\n",
              "      <td>1.000000</td>\n",
              "      <td>26.00000</td>\n",
              "    </tr>\n",
              "    <tr>\n",
              "      <th>max</th>\n",
              "      <td>24.980000</td>\n",
              "      <td>18.000000</td>\n",
              "      <td>1.000000</td>\n",
              "      <td>51.00000</td>\n",
              "    </tr>\n",
              "  </tbody>\n",
              "</table>\n",
              "</div>\n",
              "    <div class=\"colab-df-buttons\">\n",
              "\n",
              "  <div class=\"colab-df-container\">\n",
              "    <button class=\"colab-df-convert\" onclick=\"convertToInteractive('df-a4fb537d-b883-496b-b890-f251d628235d')\"\n",
              "            title=\"Convert this dataframe to an interactive table.\"\n",
              "            style=\"display:none;\">\n",
              "\n",
              "  <svg xmlns=\"http://www.w3.org/2000/svg\" height=\"24px\" viewBox=\"0 -960 960 960\">\n",
              "    <path d=\"M120-120v-720h720v720H120Zm60-500h600v-160H180v160Zm220 220h160v-160H400v160Zm0 220h160v-160H400v160ZM180-400h160v-160H180v160Zm440 0h160v-160H620v160ZM180-180h160v-160H180v160Zm440 0h160v-160H620v160Z\"/>\n",
              "  </svg>\n",
              "    </button>\n",
              "\n",
              "  <style>\n",
              "    .colab-df-container {\n",
              "      display:flex;\n",
              "      gap: 12px;\n",
              "    }\n",
              "\n",
              "    .colab-df-convert {\n",
              "      background-color: #E8F0FE;\n",
              "      border: none;\n",
              "      border-radius: 50%;\n",
              "      cursor: pointer;\n",
              "      display: none;\n",
              "      fill: #1967D2;\n",
              "      height: 32px;\n",
              "      padding: 0 0 0 0;\n",
              "      width: 32px;\n",
              "    }\n",
              "\n",
              "    .colab-df-convert:hover {\n",
              "      background-color: #E2EBFA;\n",
              "      box-shadow: 0px 1px 2px rgba(60, 64, 67, 0.3), 0px 1px 3px 1px rgba(60, 64, 67, 0.15);\n",
              "      fill: #174EA6;\n",
              "    }\n",
              "\n",
              "    .colab-df-buttons div {\n",
              "      margin-bottom: 4px;\n",
              "    }\n",
              "\n",
              "    [theme=dark] .colab-df-convert {\n",
              "      background-color: #3B4455;\n",
              "      fill: #D2E3FC;\n",
              "    }\n",
              "\n",
              "    [theme=dark] .colab-df-convert:hover {\n",
              "      background-color: #434B5C;\n",
              "      box-shadow: 0px 1px 3px 1px rgba(0, 0, 0, 0.15);\n",
              "      filter: drop-shadow(0px 1px 2px rgba(0, 0, 0, 0.3));\n",
              "      fill: #FFFFFF;\n",
              "    }\n",
              "  </style>\n",
              "\n",
              "    <script>\n",
              "      const buttonEl =\n",
              "        document.querySelector('#df-a4fb537d-b883-496b-b890-f251d628235d button.colab-df-convert');\n",
              "      buttonEl.style.display =\n",
              "        google.colab.kernel.accessAllowed ? 'block' : 'none';\n",
              "\n",
              "      async function convertToInteractive(key) {\n",
              "        const element = document.querySelector('#df-a4fb537d-b883-496b-b890-f251d628235d');\n",
              "        const dataTable =\n",
              "          await google.colab.kernel.invokeFunction('convertToInteractive',\n",
              "                                                    [key], {});\n",
              "        if (!dataTable) return;\n",
              "\n",
              "        const docLinkHtml = 'Like what you see? Visit the ' +\n",
              "          '<a target=\"_blank\" href=https://colab.research.google.com/notebooks/data_table.ipynb>data table notebook</a>'\n",
              "          + ' to learn more about interactive tables.';\n",
              "        element.innerHTML = '';\n",
              "        dataTable['output_type'] = 'display_data';\n",
              "        await google.colab.output.renderOutput(dataTable, element);\n",
              "        const docLink = document.createElement('div');\n",
              "        docLink.innerHTML = docLinkHtml;\n",
              "        element.appendChild(docLink);\n",
              "      }\n",
              "    </script>\n",
              "  </div>\n",
              "\n",
              "\n",
              "<div id=\"df-5274711b-1875-4aa2-a665-ff6136f6d19e\">\n",
              "  <button class=\"colab-df-quickchart\" onclick=\"quickchart('df-5274711b-1875-4aa2-a665-ff6136f6d19e')\"\n",
              "            title=\"Suggest charts\"\n",
              "            style=\"display:none;\">\n",
              "\n",
              "<svg xmlns=\"http://www.w3.org/2000/svg\" height=\"24px\"viewBox=\"0 0 24 24\"\n",
              "     width=\"24px\">\n",
              "    <g>\n",
              "        <path d=\"M19 3H5c-1.1 0-2 .9-2 2v14c0 1.1.9 2 2 2h14c1.1 0 2-.9 2-2V5c0-1.1-.9-2-2-2zM9 17H7v-7h2v7zm4 0h-2V7h2v10zm4 0h-2v-4h2v4z\"/>\n",
              "    </g>\n",
              "</svg>\n",
              "  </button>\n",
              "\n",
              "<style>\n",
              "  .colab-df-quickchart {\n",
              "      --bg-color: #E8F0FE;\n",
              "      --fill-color: #1967D2;\n",
              "      --hover-bg-color: #E2EBFA;\n",
              "      --hover-fill-color: #174EA6;\n",
              "      --disabled-fill-color: #AAA;\n",
              "      --disabled-bg-color: #DDD;\n",
              "  }\n",
              "\n",
              "  [theme=dark] .colab-df-quickchart {\n",
              "      --bg-color: #3B4455;\n",
              "      --fill-color: #D2E3FC;\n",
              "      --hover-bg-color: #434B5C;\n",
              "      --hover-fill-color: #FFFFFF;\n",
              "      --disabled-bg-color: #3B4455;\n",
              "      --disabled-fill-color: #666;\n",
              "  }\n",
              "\n",
              "  .colab-df-quickchart {\n",
              "    background-color: var(--bg-color);\n",
              "    border: none;\n",
              "    border-radius: 50%;\n",
              "    cursor: pointer;\n",
              "    display: none;\n",
              "    fill: var(--fill-color);\n",
              "    height: 32px;\n",
              "    padding: 0;\n",
              "    width: 32px;\n",
              "  }\n",
              "\n",
              "  .colab-df-quickchart:hover {\n",
              "    background-color: var(--hover-bg-color);\n",
              "    box-shadow: 0 1px 2px rgba(60, 64, 67, 0.3), 0 1px 3px 1px rgba(60, 64, 67, 0.15);\n",
              "    fill: var(--button-hover-fill-color);\n",
              "  }\n",
              "\n",
              "  .colab-df-quickchart-complete:disabled,\n",
              "  .colab-df-quickchart-complete:disabled:hover {\n",
              "    background-color: var(--disabled-bg-color);\n",
              "    fill: var(--disabled-fill-color);\n",
              "    box-shadow: none;\n",
              "  }\n",
              "\n",
              "  .colab-df-spinner {\n",
              "    border: 2px solid var(--fill-color);\n",
              "    border-color: transparent;\n",
              "    border-bottom-color: var(--fill-color);\n",
              "    animation:\n",
              "      spin 1s steps(1) infinite;\n",
              "  }\n",
              "\n",
              "  @keyframes spin {\n",
              "    0% {\n",
              "      border-color: transparent;\n",
              "      border-bottom-color: var(--fill-color);\n",
              "      border-left-color: var(--fill-color);\n",
              "    }\n",
              "    20% {\n",
              "      border-color: transparent;\n",
              "      border-left-color: var(--fill-color);\n",
              "      border-top-color: var(--fill-color);\n",
              "    }\n",
              "    30% {\n",
              "      border-color: transparent;\n",
              "      border-left-color: var(--fill-color);\n",
              "      border-top-color: var(--fill-color);\n",
              "      border-right-color: var(--fill-color);\n",
              "    }\n",
              "    40% {\n",
              "      border-color: transparent;\n",
              "      border-right-color: var(--fill-color);\n",
              "      border-top-color: var(--fill-color);\n",
              "    }\n",
              "    60% {\n",
              "      border-color: transparent;\n",
              "      border-right-color: var(--fill-color);\n",
              "    }\n",
              "    80% {\n",
              "      border-color: transparent;\n",
              "      border-right-color: var(--fill-color);\n",
              "      border-bottom-color: var(--fill-color);\n",
              "    }\n",
              "    90% {\n",
              "      border-color: transparent;\n",
              "      border-bottom-color: var(--fill-color);\n",
              "    }\n",
              "  }\n",
              "</style>\n",
              "\n",
              "  <script>\n",
              "    async function quickchart(key) {\n",
              "      const quickchartButtonEl =\n",
              "        document.querySelector('#' + key + ' button');\n",
              "      quickchartButtonEl.disabled = true;  // To prevent multiple clicks.\n",
              "      quickchartButtonEl.classList.add('colab-df-spinner');\n",
              "      try {\n",
              "        const charts = await google.colab.kernel.invokeFunction(\n",
              "            'suggestCharts', [key], {});\n",
              "      } catch (error) {\n",
              "        console.error('Error during call to suggestCharts:', error);\n",
              "      }\n",
              "      quickchartButtonEl.classList.remove('colab-df-spinner');\n",
              "      quickchartButtonEl.classList.add('colab-df-quickchart-complete');\n",
              "    }\n",
              "    (() => {\n",
              "      let quickchartButtonEl =\n",
              "        document.querySelector('#df-5274711b-1875-4aa2-a665-ff6136f6d19e button');\n",
              "      quickchartButtonEl.style.display =\n",
              "        google.colab.kernel.accessAllowed ? 'block' : 'none';\n",
              "    })();\n",
              "  </script>\n",
              "</div>\n",
              "    </div>\n",
              "  </div>\n"
            ],
            "application/vnd.google.colaboratory.intrinsic+json": {
              "type": "dataframe",
              "summary": "{\n  \"name\": \"wage1[['wage','educ','smsa','exper']]\",\n  \"rows\": 8,\n  \"fields\": [\n    {\n      \"column\": \"wage\",\n      \"properties\": {\n        \"dtype\": \"number\",\n        \"std\": 183.59995589467323,\n        \"min\": 0.53,\n        \"max\": 526.0,\n        \"num_unique_values\": 8,\n        \"samples\": [\n          5.896102661596958,\n          4.65,\n          526.0\n        ],\n        \"semantic_type\": \"\",\n        \"description\": \"\"\n      }\n    },\n    {\n      \"column\": \"educ\",\n      \"properties\": {\n        \"dtype\": \"number\",\n        \"std\": 182.4628478494818,\n        \"min\": 0.0,\n        \"max\": 526.0,\n        \"num_unique_values\": 7,\n        \"samples\": [\n          526.0,\n          12.562737642585551,\n          14.0\n        ],\n        \"semantic_type\": \"\",\n        \"description\": \"\"\n      }\n    },\n    {\n      \"column\": \"smsa\",\n      \"properties\": {\n        \"dtype\": \"number\",\n        \"std\": 185.75890941140392,\n        \"min\": 0.0,\n        \"max\": 526.0,\n        \"num_unique_values\": 5,\n        \"samples\": [\n          0.7224334600760456,\n          1.0,\n          0.4482246145492398\n        ],\n        \"semantic_type\": \"\",\n        \"description\": \"\"\n      }\n    },\n    {\n      \"column\": \"exper\",\n      \"properties\": {\n        \"dtype\": \"number\",\n        \"std\": 180.20596797484018,\n        \"min\": 1.0,\n        \"max\": 526.0,\n        \"num_unique_values\": 8,\n        \"samples\": [\n          17.017110266159698,\n          13.5,\n          526.0\n        ],\n        \"semantic_type\": \"\",\n        \"description\": \"\"\n      }\n    }\n  ]\n}"
            }
          },
          "metadata": {},
          "execution_count": 62
        }
      ]
    },
    {
      "cell_type": "code",
      "source": [
        "std_coef_x = 0.5743*2.769022/3.693086\n",
        "std_coef_x"
      ],
      "metadata": {
        "colab": {
          "base_uri": "https://localhost:8080/"
        },
        "id": "DBzrEy7cWBiY",
        "outputId": "9d88e2c8-a0de-4236-979e-5f5f3135b7b3"
      },
      "execution_count": null,
      "outputs": [
        {
          "output_type": "execute_result",
          "data": {
            "text/plain": [
              "0.4306017608579925"
            ]
          },
          "metadata": {},
          "execution_count": 63
        }
      ]
    },
    {
      "cell_type": "markdown",
      "source": [
        "R<sup>2</sup> &ne; Std Coef<sup>2</sup> &ne; Correlation<sup>2</sup>"
      ],
      "metadata": {
        "id": "uahU1QEWWFam"
      }
    },
    {
      "cell_type": "code",
      "source": [
        "std_coef_x_sqd = 0.4306 * 0.4306\n",
        "std_coef_x_sqd"
      ],
      "metadata": {
        "colab": {
          "base_uri": "https://localhost:8080/"
        },
        "id": "koon2FHDWDjk",
        "outputId": "25673cb0-510b-4169-a340-6ba81b997887"
      },
      "execution_count": null,
      "outputs": [
        {
          "output_type": "execute_result",
          "data": {
            "text/plain": [
              "0.18541635999999997"
            ]
          },
          "metadata": {},
          "execution_count": 64
        }
      ]
    },
    {
      "cell_type": "markdown",
      "source": [
        "**Conclusion**\n",
        "\n",
        "In MR, squared zeor-order correlation/unstandardized coefficient/standardized coefficient, and R<sup>2</sup> are all different."
      ],
      "metadata": {
        "id": "lH6aPLPvWPRc"
      }
    },
    {
      "cell_type": "code",
      "source": [
        "mmr = sm.ols('wage ~ educ + tenure + educ:tenure + smsa + exper + exper:smsa', data=wage1).fit()\n",
        "print(mmr.summary())"
      ],
      "metadata": {
        "colab": {
          "base_uri": "https://localhost:8080/"
        },
        "id": "0suMZXSpWL2k",
        "outputId": "52efe608-ed9a-461f-bd02-37a695ae5b77"
      },
      "execution_count": null,
      "outputs": [
        {
          "output_type": "stream",
          "name": "stdout",
          "text": [
            "                            OLS Regression Results                            \n",
            "==============================================================================\n",
            "Dep. Variable:                   wage   R-squared:                       0.336\n",
            "Model:                            OLS   Adj. R-squared:                  0.328\n",
            "Method:                 Least Squares   F-statistic:                     43.75\n",
            "Date:                Thu, 29 Feb 2024   Prob (F-statistic):           2.90e-43\n",
            "Time:                        14:51:22   Log-Likelihood:                -1325.4\n",
            "No. Observations:                 526   AIC:                             2665.\n",
            "Df Residuals:                     519   BIC:                             2695.\n",
            "Df Model:                           6                                         \n",
            "Covariance Type:            nonrobust                                         \n",
            "===============================================================================\n",
            "                  coef    std err          t      P>|t|      [0.025      0.975]\n",
            "-------------------------------------------------------------------------------\n",
            "Intercept      -0.8028      0.929     -0.864      0.388      -2.628       1.022\n",
            "educ            0.4250      0.064      6.663      0.000       0.300       0.550\n",
            "tenure         -0.1055      0.074     -1.431      0.153      -0.250       0.039\n",
            "educ:tenure     0.0223      0.006      3.801      0.000       0.011       0.034\n",
            "smsa            0.1334      0.495      0.270      0.787      -0.838       1.105\n",
            "exper        5.439e-05      0.019      0.003      0.998      -0.037       0.037\n",
            "exper:smsa      0.0342      0.022      1.591      0.112      -0.008       0.076\n",
            "==============================================================================\n",
            "Omnibus:                      178.360   Durbin-Watson:                   1.829\n",
            "Prob(Omnibus):                  0.000   Jarque-Bera (JB):              682.417\n",
            "Skew:                           1.520   Prob(JB):                    6.53e-149\n",
            "Kurtosis:                       7.679   Cond. No.                         814.\n",
            "==============================================================================\n",
            "\n",
            "Notes:\n",
            "[1] Standard Errors assume that the covariance matrix of the errors is correctly specified.\n"
          ]
        }
      ]
    },
    {
      "cell_type": "markdown",
      "source": [
        "### Step8: Parameters Saving\n",
        "\n",
        "Save regression parameters to calculate standardized coefficients\n"
      ],
      "metadata": {
        "id": "DAn7hndyWX_6"
      }
    },
    {
      "cell_type": "code",
      "source": [
        "with pd.ExcelWriter('demo4_3 parameters.xlsx') as writer:\n",
        "    SR.params.to_excel(writer, sheet_name='SR')\n",
        "    MR1.params.to_excel(writer, sheet_name='MR1')\n",
        "    MR2.params.to_excel(writer, sheet_name='MR2')\n",
        "    MR3.params.to_excel(writer, sheet_name='MR3')"
      ],
      "metadata": {
        "id": "oIJ8uvsxWI9A"
      },
      "execution_count": null,
      "outputs": []
    },
    {
      "cell_type": "code",
      "source": [],
      "metadata": {
        "id": "eJHKSQHLWnvt"
      },
      "execution_count": null,
      "outputs": []
    }
  ]
}